{
 "cells": [
  {
   "cell_type": "markdown",
   "metadata": {},
   "source": [
    "\n",
    "# 1. Preparation and Overview"
   ]
  },
  {
   "cell_type": "markdown",
   "metadata": {},
   "source": [
    "## 1.1 Business Understanding"
   ]
  },
  {
   "cell_type": "markdown",
   "metadata": {},
   "source": [
    "\n",
    "Austin Animal Center is the largest no-kill shelter in the United States and provides shelter to more than 16,000 animals each year. As a no-kill shelter they refuse to euthanize any animal unless the animal has a terminal medical issue and is in pain or if the animal is a danger to the public or to the shelter staff. Although the shelter’s primary goal is to find ‘forever homes’ for each and every animal that comes through their doors, many animals end up staying in the shelter for a long time if they are not considered as desirable for adoption as other animals. In addition to adopting out animals, the Austin Animal Center partners with various other rescues and animal sanctuaries to try to find homes for their animals.\n",
    "\n",
    "The average annual cost per animal at the Austin Animal Center is approximately $715 [3] and with many animals staying at the facility for long periods of time, some for several years, the cost can add up quickly. The shelter has fixed financial support via legislation to cover costs for staffing the shelters and a few grants to cover veterinary staff and services, but the shelter primarily relies on donations to provide for food, bedding and toys for the animals. The shelter must try to minimize costs associated with each animal and try to have the animals leave the shelter through adoption or transfer to a sanctuary as quickly as possible.\n",
    "\n",
    "The Austin Animal Center keeps track of each animal that comes through their doors and keeps a record of the animal’s outcome; that is whether they were adopted, transferred to a partner shelter or sanctuary or one of many other outcomes. If the shelter could predict an animal’s outcome based on the animal’s characteristics, they could be much more efficient with having animals leave the shelter by knowing which animals they should be able to adopt out and which animals they should transfer to other shelters or sanctuaries. This added efficiency would result in the shelter’s ability to take in more animals which in return would lower the average cost per animal.\n",
    "\n",
    "This lab examines the Austin Animal Center animal outcome data set to specifically look at cats and the outcome of each cat and attempts to build an accurate model of predicting the outcome. If accurate, this model could serve the Austin Animal Center as well as other cities that are looking at issuing a no-kill ordinance for their shelters."
   ]
  },
  {
   "cell_type": "markdown",
   "metadata": {},
   "source": [
    "## 1.2 Data Preparation"
   ]
  },
  {
   "cell_type": "code",
   "execution_count": 1,
   "metadata": {},
   "outputs": [],
   "source": [
    "# dependencies\n",
    "import pandas as pd\n",
    "import numpy as np\n",
    "import missingno as msno \n",
    "import matplotlib.pyplot as plt\n",
    "import re\n",
    "from sklearn.model_selection import train_test_split\n",
    "\n",
    "from textwrap import wrap\n",
    "from sklearn.preprocessing import StandardScaler\n",
    "import warnings\n",
    "warnings.filterwarnings(\"ignore\")\n",
    "import math\n",
    "%matplotlib inline"
   ]
  },
  {
   "cell_type": "code",
   "execution_count": 10,
   "metadata": {
    "scrolled": true
   },
   "outputs": [
    {
     "data": {
      "text/html": [
       "<div>\n",
       "<style scoped>\n",
       "    .dataframe tbody tr th:only-of-type {\n",
       "        vertical-align: middle;\n",
       "    }\n",
       "\n",
       "    .dataframe tbody tr th {\n",
       "        vertical-align: top;\n",
       "    }\n",
       "\n",
       "    .dataframe thead th {\n",
       "        text-align: right;\n",
       "    }\n",
       "</style>\n",
       "<table border=\"1\" class=\"dataframe\">\n",
       "  <thead>\n",
       "    <tr style=\"text-align: right;\">\n",
       "      <th></th>\n",
       "      <th>breed</th>\n",
       "      <th>color</th>\n",
       "      <th>age</th>\n",
       "      <th>dob_month</th>\n",
       "      <th>dob_day</th>\n",
       "      <th>dob_dayofweek</th>\n",
       "      <th>month</th>\n",
       "      <th>day</th>\n",
       "      <th>dayofweek</th>\n",
       "      <th>hour</th>\n",
       "      <th>quarter</th>\n",
       "      <th>breed1</th>\n",
       "      <th>color1</th>\n",
       "      <th>spayed_neutered</th>\n",
       "      <th>sex</th>\n",
       "      <th>domestic</th>\n",
       "      <th>outcome</th>\n",
       "    </tr>\n",
       "  </thead>\n",
       "  <tbody>\n",
       "    <tr>\n",
       "      <th>0</th>\n",
       "      <td>domestic shorthair</td>\n",
       "      <td>orange tabby</td>\n",
       "      <td>15</td>\n",
       "      <td>7</td>\n",
       "      <td>7</td>\n",
       "      <td>0</td>\n",
       "      <td>7</td>\n",
       "      <td>22</td>\n",
       "      <td>1</td>\n",
       "      <td>16</td>\n",
       "      <td>3</td>\n",
       "      <td>None</td>\n",
       "      <td>None</td>\n",
       "      <td>False</td>\n",
       "      <td>male</td>\n",
       "      <td>1</td>\n",
       "      <td>transfer_partner</td>\n",
       "    </tr>\n",
       "    <tr>\n",
       "      <th>8</th>\n",
       "      <td>domestic shorthair</td>\n",
       "      <td>blue tabby</td>\n",
       "      <td>59</td>\n",
       "      <td>6</td>\n",
       "      <td>16</td>\n",
       "      <td>0</td>\n",
       "      <td>8</td>\n",
       "      <td>14</td>\n",
       "      <td>3</td>\n",
       "      <td>18</td>\n",
       "      <td>3</td>\n",
       "      <td>None</td>\n",
       "      <td>white</td>\n",
       "      <td>False</td>\n",
       "      <td>female</td>\n",
       "      <td>1</td>\n",
       "      <td>adoption_unknown</td>\n",
       "    </tr>\n",
       "    <tr>\n",
       "      <th>9</th>\n",
       "      <td>domestic shorthair</td>\n",
       "      <td>white</td>\n",
       "      <td>95</td>\n",
       "      <td>3</td>\n",
       "      <td>26</td>\n",
       "      <td>2</td>\n",
       "      <td>6</td>\n",
       "      <td>29</td>\n",
       "      <td>6</td>\n",
       "      <td>17</td>\n",
       "      <td>2</td>\n",
       "      <td>None</td>\n",
       "      <td>black</td>\n",
       "      <td>True</td>\n",
       "      <td>female</td>\n",
       "      <td>1</td>\n",
       "      <td>adoption_offsite</td>\n",
       "    </tr>\n",
       "    <tr>\n",
       "      <th>10</th>\n",
       "      <td>domestic mediumhair</td>\n",
       "      <td>black</td>\n",
       "      <td>366</td>\n",
       "      <td>3</td>\n",
       "      <td>27</td>\n",
       "      <td>2</td>\n",
       "      <td>3</td>\n",
       "      <td>28</td>\n",
       "      <td>4</td>\n",
       "      <td>14</td>\n",
       "      <td>1</td>\n",
       "      <td>None</td>\n",
       "      <td>white</td>\n",
       "      <td>True</td>\n",
       "      <td>female</td>\n",
       "      <td>1</td>\n",
       "      <td>return-to-owner_unknown</td>\n",
       "    </tr>\n",
       "    <tr>\n",
       "      <th>17</th>\n",
       "      <td>domestic shorthair</td>\n",
       "      <td>black</td>\n",
       "      <td>24</td>\n",
       "      <td>12</td>\n",
       "      <td>16</td>\n",
       "      <td>0</td>\n",
       "      <td>1</td>\n",
       "      <td>9</td>\n",
       "      <td>3</td>\n",
       "      <td>19</td>\n",
       "      <td>1</td>\n",
       "      <td>None</td>\n",
       "      <td>white</td>\n",
       "      <td>False</td>\n",
       "      <td>male</td>\n",
       "      <td>1</td>\n",
       "      <td>transfer_partner</td>\n",
       "    </tr>\n",
       "  </tbody>\n",
       "</table>\n",
       "</div>"
      ],
      "text/plain": [
       "                  breed         color  age  dob_month  dob_day  dob_dayofweek  \\\n",
       "0    domestic shorthair  orange tabby   15          7        7              0   \n",
       "8    domestic shorthair    blue tabby   59          6       16              0   \n",
       "9    domestic shorthair         white   95          3       26              2   \n",
       "10  domestic mediumhair         black  366          3       27              2   \n",
       "17   domestic shorthair         black   24         12       16              0   \n",
       "\n",
       "    month  day  dayofweek  hour  quarter breed1 color1 spayed_neutered  \\\n",
       "0       7   22          1    16        3   None   None           False   \n",
       "8       8   14          3    18        3   None  white           False   \n",
       "9       6   29          6    17        2   None  black            True   \n",
       "10      3   28          4    14        1   None  white            True   \n",
       "17      1    9          3    19        1   None  white           False   \n",
       "\n",
       "       sex  domestic                  outcome  \n",
       "0     male         1         transfer_partner  \n",
       "8   female         1         adoption_unknown  \n",
       "9   female         1         adoption_offsite  \n",
       "10  female         1  return-to-owner_unknown  \n",
       "17    male         1         transfer_partner  "
      ]
     },
     "execution_count": 10,
     "metadata": {},
     "output_type": "execute_result"
    }
   ],
   "source": [
    "# import data\n",
    "shelter_outcomes =  pd.read_csv(\"C:/Users/sulem/OneDrive/Desktop/machin learnign/Project3/aac_shelter_outcomes.csv\")\n",
    "# filter animal type for just cats\n",
    "cats = shelter_outcomes[shelter_outcomes['animal_type'] == 'Cat']\n",
    "#print(cats.head())\n",
    "\n",
    "# remove age_upon_outcome and recalculate to standard units (days)\n",
    "age = cats.loc[:,['datetime', 'date_of_birth']]\n",
    "# convert to datetime\n",
    "age.loc[:,'datetime'] = pd.to_datetime(age['datetime'])\n",
    "age.loc[:,'date_of_birth'] = pd.to_datetime(age['date_of_birth'])\n",
    "# calculate cat age in days\n",
    "cats.loc[:,'age'] = (age.loc[:,'datetime'] - age.loc[:,'date_of_birth']).dt.days\n",
    "# get dob info\n",
    "cats['dob_month'] = age.loc[:, 'date_of_birth'].dt.month\n",
    "cats['dob_day'] = age.loc[:, 'date_of_birth'].dt.day\n",
    "cats['dob_dayofweek'] = age.loc[:, 'date_of_birth'].dt.dayofweek\n",
    "# get month from datetime\n",
    "cats['month'] = age.loc[:,'datetime'].dt.month\n",
    "# get day of month\n",
    "cats['day'] = age.loc[:,'datetime'].dt.day\n",
    "# get day of week\n",
    "cats['dayofweek'] = age.loc[:, 'datetime'].dt.dayofweek\n",
    "# get hour of day\n",
    "cats['hour'] = age.loc[:, 'datetime'].dt.hour\n",
    "# get quarter\n",
    "cats['quarter'] = age.loc[:, 'datetime'].dt.quarter\n",
    "\n",
    "# clean up breed attribute\n",
    "# get breed attribute for processing\n",
    "# convert to lowercase, remove mix and strip whitespace\n",
    "# remove space in 'medium hair' to match 'longhair' and 'shorthair'\n",
    "# split on either space or '/'\n",
    "breed = cats.loc[:, 'breed'].str.lower().str.replace('mix', '').str.replace('medium hair', 'mediumhair').str.strip().str.split('/', expand=True)\n",
    "cats['breed'] = breed[0]\n",
    "cats['breed1'] = breed[1]\n",
    "\n",
    "# clean up color attribute\n",
    "# convert to lowercase\n",
    "# strip spaces\n",
    "# split on '/'\n",
    "color = cats.loc[:, 'color'].str.lower().str.strip().str.split('/', expand=True)\n",
    "cats['color'] = color[0]\n",
    "cats['color1'] = color[1]\n",
    "\n",
    "# clean up sex_upon_outcome\n",
    "sex = cats['sex_upon_outcome'].str.lower().str.strip().str.split(' ', expand=True)\n",
    "sex[0].replace('spayed', True, inplace=True)\n",
    "sex[0].replace('neutered', True, inplace=True)\n",
    "sex[0].replace('intact', False, inplace=True)\n",
    "sex[1].replace(np.nan, 'unknown', inplace=True)\n",
    "cats['spayed_neutered'] = sex[0]\n",
    "cats['sex'] = sex[1]\n",
    "\n",
    "# add in domesticated attribute\n",
    "cats['domestic'] = np.where(cats['breed'].str.contains('domestic'), 1, 0)\n",
    "\n",
    "# combine outcome and outcome subtype into a single attribute\n",
    "cats['outcome_subtype'] = cats['outcome_subtype'].str.lower().str.replace(' ', '-').fillna('unknown')\n",
    "cats['outcome_type'] = cats['outcome_type'].str.lower().str.replace(' ', '-').fillna('unknown')\n",
    "cats['outcome'] = cats['outcome_type'] + '_' + cats['outcome_subtype']\n",
    "\n",
    "# drop unnecessary columns\n",
    "cats.drop(columns=['animal_id', 'name', 'animal_type', 'age_upon_outcome', 'date_of_birth', 'datetime', 'monthyear', 'sex_upon_outcome', 'outcome_subtype', 'outcome_type'], inplace=True)\n",
    "#print(cats['outcome'].value_counts())\n",
    "\n",
    "cats.head()\n"
   ]
  },
  {
   "cell_type": "markdown",
   "metadata": {},
   "source": [
    "Not all information included in this data set is necessary to the targeted prediction of outcome type. Some animals that were adopted were returned to the shelter as runaways before being returned to their owners. These instances have no impact on trying to predict outcome and will be removed from the data set.\n",
    "\n"
   ]
  },
  {
   "cell_type": "markdown",
   "metadata": {},
   "source": [
    "## 1.3 Data Description"
   ]
  },
  {
   "cell_type": "code",
   "execution_count": 4,
   "metadata": {},
   "outputs": [
    {
     "name": "stdout",
     "output_type": "stream",
     "text": [
      "Default datatypes of shelter cat outcomes:\n",
      "\n",
      "breed              object\n",
      "color              object\n",
      "age                 int64\n",
      "dob_month           int64\n",
      "dob_day             int64\n",
      "dob_dayofweek       int64\n",
      "month               int64\n",
      "day                 int64\n",
      "dayofweek           int64\n",
      "hour                int64\n",
      "quarter             int64\n",
      "breed1             object\n",
      "color1             object\n",
      "spayed_neutered    object\n",
      "sex                object\n",
      "domestic            int32\n",
      "outcome            object\n",
      "dtype: object\n",
      "\n",
      "Below is a description of the attributes in the cats dataframe:\n",
      "\n"
     ]
    }
   ],
   "source": [
    "print(\"Default datatypes of shelter cat outcomes:\\n\")\n",
    "print(cats.dtypes)\n",
    "\n",
    "print(\"\\nBelow is a description of the attributes in the cats dataframe:\\n\")"
   ]
  },
  {
   "cell_type": "code",
   "execution_count": 17,
   "metadata": {
    "scrolled": false
   },
   "outputs": [
    {
     "name": "stdout",
     "output_type": "stream",
     "text": [
      "Below is a listing of the target classes and their distributions:\n"
     ]
    },
    {
     "data": {
      "text/plain": [
       "transfer_partner           9486\n",
       "adoption_unknown           9264\n",
       "adoption_foster            3357\n",
       "transfer_scrp              3211\n",
       "return-to-owner_unknown    1431\n",
       "euthanasia_suffering       1304\n",
       "transfer_snr                625\n",
       "died_in-kennel              208\n",
       "died_in-foster              138\n",
       "adoption_offsite            110\n",
       "euthanasia_rabies-risk       61\n",
       "euthanasia_medical           56\n",
       "rto-adopt_unknown            33\n",
       "died_at-vet                  17\n",
       "died_unknown                 17\n",
       "disposal_unknown             16\n",
       "euthanasia_at-vet            16\n",
       "died_enroute                 15\n",
       "missing_in-foster            14\n",
       "euthanasia_unknown           11\n",
       "died_in-surgery               8\n",
       "missing_in-kennel             7\n",
       "missing_unknown               5\n",
       "euthanasia_aggressive         4\n",
       "unknown_unknown               3\n",
       "missing_possible-theft        2\n",
       "adoption_barn                 1\n",
       "euthanasia_underage           1\n",
       "transfer_barn                 1\n",
       "Name: outcome, dtype: int64"
      ]
     },
     "execution_count": 17,
     "metadata": {},
     "output_type": "execute_result"
    }
   ],
   "source": [
    "print('Below is a listing of the target classes and their distributions:')\n",
    "cats['outcome'].value_counts()"
   ]
  },
  {
   "cell_type": "markdown",
   "metadata": {},
   "source": [
    "\n",
    "Each feature has a different count, a low count per feature decrease the accuracy and the efficiency of the logistic regression method used, so all features with low count was not taken into account in traning the classfier"
   ]
  },
  {
   "cell_type": "code",
   "execution_count": 18,
   "metadata": {
    "scrolled": false
   },
   "outputs": [
    {
     "data": {
      "text/plain": [
       "<matplotlib.axes._subplots.AxesSubplot at 0x7fd630e9d0f0>"
      ]
     },
     "execution_count": 18,
     "metadata": {},
     "output_type": "execute_result"
    },
    {
     "data": {
      "image/png": "[encoded data removed]",
      "text/plain": [
       "<Figure size 1800x720 with 2 Axes>"
      ]
     },
     "metadata": {
      "needs_background": "light"
     },
     "output_type": "display_data"
    }
   ],
   "source": [
    "# examine missing data\n",
    "msno.matrix(cats)"
   ]
  },
  {
   "cell_type": "markdown",
   "metadata": {},
   "source": [
    "\n",
    "Since the missing data shows that breed1 will have little impact on the prediction since there are only two records that have a value, it will be removed from the data set. The missing data in color1 should be handled when one hot encoding is performed on it."
   ]
  },
  {
   "cell_type": "markdown",
   "metadata": {},
   "source": [
    "\n",
    "## 1.4 One hot encoding of data and splitting into training and testing sets"
   ]
  },
  {
   "cell_type": "code",
   "execution_count": 11,
   "metadata": {},
   "outputs": [
    {
     "name": "stdout",
     "output_type": "stream",
     "text": [
      "    age  dob_month  dob_day  dob_dayofweek  month  day  dayofweek  hour  \\\n",
      "0    15          7        7              0      7   22          1    16   \n",
      "8    59          6       16              0      8   14          3    18   \n",
      "9    95          3       26              2      6   29          6    17   \n",
      "10  366          3       27              2      3   28          4    14   \n",
      "17   24         12       16              0      1    9          3    19   \n",
      "\n",
      "    quarter  domestic     ...      color1_tortie point  color1_tricolor  \\\n",
      "0         3         1     ...                        0                0   \n",
      "8         3         1     ...                        0                0   \n",
      "9         2         1     ...                        0                0   \n",
      "10        1         1     ...                        0                0   \n",
      "17        1         1     ...                        0                0   \n",
      "\n",
      "    color1_white  color1_yellow  spayed_neutered_False  spayed_neutered_True  \\\n",
      "0              0              0                      1                     0   \n",
      "8              1              0                      1                     0   \n",
      "9              0              0                      0                     1   \n",
      "10             1              0                      0                     1   \n",
      "17             1              0                      1                     0   \n",
      "\n",
      "    spayed_neutered_unknown  sex_female  sex_male  sex_unknown  \n",
      "0                         0           0         1            0  \n",
      "8                         0           1         0            0  \n",
      "9                         0           1         0            0  \n",
      "10                        0           1         0            0  \n",
      "17                        0           0         1            0  \n",
      "\n",
      "[5 rows x 141 columns]\n"
     ]
    }
   ],
   "source": [
    "cats.drop(columns=['breed1'], inplace=True)\n",
    "# Breed, Color, Color1, Spayed_Netured and Sex attributes need to be one hot encoded\n",
    "cats_ohe = pd.get_dummies(cats, columns=['breed', 'color', 'color1', 'spayed_neutered', 'sex'])\n",
    "cats_ohe.head()\n",
    "out_t={'euthanasia_suffering' : 0, 'died_in-kennel' : 0, 'return-to-owner_unknown' : 0, 'transfer_partner' : 1, 'euthanasia_at-vet' : 2, 'adoption_foster' : 3, 'died_in-foster' : 0, 'transfer_scrp' : 4, 'euthanasia_medical' : 0, 'transfer_snr' : 0, 'died_enroute' : 0, 'rto-adopt_unknown' : 0, 'missing_in-foster' : 0, 'adoption_offsite' : 0, 'adoption_unknown' :5,'euthanasia_rabies-risk' : 0, 'unknown_unknown' : 0, 'adoption_barn' : 0, 'died_unknown' : 0, 'died_in-surgery' : 0, 'euthanasia_aggressive' : 0, 'euthanasia_unknown' : 0, 'missing_unknown' : 0, 'missing_in-kennel' : 0, 'missing_possible-theft' : 0, 'died_at-vet' : 0, 'disposal_unknown' : 0, 'euthanasia_underage' : 0, 'transfer_barn' : 0}\n",
    "#output is converted from string to catogries 0 to 5 represent each output\n",
    "# separate outcome from data\n",
    "outcome = cats_ohe['outcome']\n",
    "cats_ohe.drop(columns=['outcome'])\n",
    "\n",
    "print(cats_ohe.head())\n",
    "\n",
    "# split the data\n",
    "X_train, X_test, y_train, y_test = train_test_split(cats_ohe, outcome, test_size=0.2, random_state=0)\n",
    "X_train.drop(columns=['outcome'], inplace=True)\n",
    "y_train = np.asarray([out_t[item] for item in y_train])\n",
    "#print(X_train.shape, X_test.shape, y_train.shape, y_test.shape)"
   ]
  },
  {
   "cell_type": "markdown",
   "metadata": {},
   "source": [
    "\n",
    "One hot encoding is used for the cat breed, color, spayed/neutered and sex attributes to convert the categorical variables into a form that should play nicer with logistic regression. Although spayed_neutered and sex are essentially boolean attributes, they had to be converted because there were many unknown values in each.\n",
    "\n",
    "The data is split with an 80/20 train/test ratio using the train_test_split function in the cross validation functions in Skikit Learn's cross validation package. Although this was an easy method to split the data into training and test sets, it was not a good way to split the data for this dataset. As shown above, the target distribution is skewed and some targets have very few instances. It would have been better to select an 80/20 ratio for each class."
   ]
  },
  {
   "cell_type": "code",
   "execution_count": 172,
   "metadata": {
    "scrolled": true
   },
   "outputs": [
    {
     "ename": "AttributeError",
     "evalue": "'numpy.ndarray' object has no attribute 'values'",
     "output_type": "error",
     "traceback": [
      "\u001b[1;31m---------------------------------------------------------------------------\u001b[0m",
      "\u001b[1;31mAttributeError\u001b[0m                            Traceback (most recent call last)",
      "\u001b[1;32m<ipython-input-172-f8a090959457>\u001b[0m in \u001b[0;36m<module>\u001b[1;34m\u001b[0m\n\u001b[1;32m----> 1\u001b[1;33m \u001b[0mx_train_ar\u001b[0m\u001b[1;33m=\u001b[0m\u001b[0mX_train\u001b[0m\u001b[1;33m.\u001b[0m\u001b[0mvalues\u001b[0m\u001b[1;33m\u001b[0m\u001b[1;33m\u001b[0m\u001b[0m\n\u001b[0m\u001b[0;32m      2\u001b[0m \u001b[0my_target_ar\u001b[0m\u001b[1;33m=\u001b[0m\u001b[0mnp\u001b[0m\u001b[1;33m.\u001b[0m\u001b[0masarray\u001b[0m\u001b[1;33m(\u001b[0m\u001b[0my_train\u001b[0m\u001b[1;33m)\u001b[0m\u001b[1;33m\u001b[0m\u001b[1;33m\u001b[0m\u001b[0m\n\u001b[0;32m      3\u001b[0m \u001b[0mx_train_ar\u001b[0m \u001b[1;33m=\u001b[0m \u001b[0mStandardScaler\u001b[0m\u001b[1;33m(\u001b[0m\u001b[1;33m)\u001b[0m\u001b[1;33m.\u001b[0m\u001b[0mfit\u001b[0m\u001b[1;33m(\u001b[0m\u001b[0mx_train_ar\u001b[0m\u001b[1;33m)\u001b[0m\u001b[1;33m.\u001b[0m\u001b[0mtransform\u001b[0m\u001b[1;33m(\u001b[0m\u001b[0mx_train_ar\u001b[0m\u001b[1;33m)\u001b[0m\u001b[1;33m\u001b[0m\u001b[1;33m\u001b[0m\u001b[0m\n\u001b[0;32m      4\u001b[0m \u001b[0my_test\u001b[0m\u001b[1;33m\u001b[0m\u001b[1;33m\u001b[0m\u001b[0m\n\u001b[0;32m      5\u001b[0m \u001b[0mprint\u001b[0m\u001b[1;33m(\u001b[0m\u001b[0mx_train_ar\u001b[0m\u001b[1;33m.\u001b[0m\u001b[0mshape\u001b[0m\u001b[1;33m)\u001b[0m\u001b[1;33m\u001b[0m\u001b[1;33m\u001b[0m\u001b[0m\n",
      "\u001b[1;31mAttributeError\u001b[0m: 'numpy.ndarray' object has no attribute 'values'"
     ]
    }
   ],
   "source": [
    "x_train_ar=X_train.values\n",
    "y_target_ar=np.asarray(y_train)\n",
    "x_train_ar = StandardScaler().fit(x_train_ar).transform(x_train_ar)\n",
    "\n",
    "print(x_train_ar.shape)\n",
    "print(y_target_ar.shape)\n",
    "unique, counts = np.unique(y_target_ar, return_counts=True)\n",
    "np.asarray((unique, counts))\n",
    "plt.pie(np.asarray(( counts)), labels=np.unique(y_target_ar), startangle=90, autopct='%.1f%%')\n",
    "plt.show()"
   ]
  },
  {
   "cell_type": "markdown",
   "metadata": {},
   "source": [
    "The metric we will use to determine the performance of our model will be the macro-averaged F1 score. We are using macro-averaging instead of micro since we have a class imbalance problem. The number of instances for each class varies quite greatly and we want to use a metric that will weigh the scores equally for each class.\n",
    "\n",
    "We are using F1 as we care both about precision and recall. The goal of the Austin Animal Center is to determine in advance how likely an animal is to be adopted, transferred, or if it will never be either. In any case, mislabeling has dire consequences. If we classify an animal as likely adoptable but are incorrect, it could have financial consequences. If we incorrectly ignore an animal because we think it wouldn't be adopted, we missed out on providing a home for a pet in need."
   ]
  },
  {
   "cell_type": "markdown",
   "metadata": {},
   "source": [
    "# Evaluation "
   ]
  },
  {
   "cell_type": "code",
   "execution_count": 163,
   "metadata": {},
   "outputs": [],
   "source": [
    "from sklearn.metrics import make_scorer, accuracy_score\n",
    "from sklearn.metrics import precision_score, recall_score, f1_score\n",
    "\n",
    "# macro-averaged f1\n",
    "\n",
    "macro_avg_f1_scorer = make_scorer(score_func=f1_score,\n",
    "                                 pos_label=1,\n",
    "                                 greater_is_better=True,\n",
    "                                 average='micro')"
   ]
  },
  {
   "cell_type": "markdown",
   "metadata": {},
   "source": [
    "## Stratified k-fold Cross Validation"
   ]
  },
  {
   "cell_type": "markdown",
   "metadata": {},
   "source": [
    "To break up our data into training and test sets, we have chosen to implement k-fold cross validation. Because our data has varying numbers of instances for each class, stratified k-fold cross validation will allow us to train on sections of data that retain the same proportions of classes as the overall dataset."
   ]
  },
  {
   "cell_type": "code",
   "execution_count": 135,
   "metadata": {},
   "outputs": [
    {
     "data": {
      "image/png": "[encoded data removed]",
      "text/plain": [
       "<Figure size 432x288 with 1 Axes>"
      ]
     },
     "metadata": {},
     "output_type": "display_data"
    },
    {
     "name": "stdout",
     "output_type": "stream",
     "text": [
      "Number of instances of other : 4088\n",
      "Number of instances of transfer_partner : 9486\n",
      "Number of instances of euthanasia_at-vet : 16\n",
      "Number of instances of adoption_foster : 3357\n",
      "Number of instances of transfer_scrp : 3211\n",
      "Number of instances of adoption_unknown : 9264\n"
     ]
    }
   ],
   "source": [
    "from matplotlib import pyplot as plt\n",
    "import copy\n",
    "%matplotlib inline\n",
    "\n",
    "\n",
    "X = copy.deepcopy(cats_ohe)\n",
    "X.drop(columns=['outcome'], inplace=True)\n",
    "y = copy.deepcopy(cats_ohe['outcome'])\n",
    "y = [out_t[item] for item in y]\n",
    "\n",
    "target_labels = {'other': 0}\n",
    "for key in out_t:\n",
    "    if out_t[key] != 0:\n",
    "        target_labels[key] = out_t[key]\n",
    "        \n",
    "#print (target_labels)\n",
    "\n",
    "unique, counts = np.unique(y, return_counts=True)\n",
    "\n",
    "np.asarray((unique, counts)).T\n",
    "\n",
    "\n",
    "plt.style.use('ggplot')\n",
    "\n",
    "plt.pie(counts, labels=target_labels, startangle=135, autopct='%.1f%%')\n",
    "plt.show()\n",
    "\n",
    "for lbl in target_labels:\n",
    "    print('Number of instances of', lbl, ':', counts[target_labels[lbl]])"
   ]
  },
  {
   "cell_type": "code",
   "execution_count": 137,
   "metadata": {},
   "outputs": [
    {
     "name": "stdout",
     "output_type": "stream",
     "text": [
      "[[-0.52745758  0.28709801 -0.97799631 ... -0.93138104  1.10652135\n",
      "  -0.30659201]\n",
      " [-0.48270876 -0.06728182  0.04358739 ...  1.07367442 -0.90373312\n",
      "  -0.30659201]\n",
      " [-0.44609608 -1.13042131  1.17868038 ...  1.07367442 -0.90373312\n",
      "  -0.30659201]\n",
      " ...\n",
      " [-0.16946698 -1.83918097  1.63271758 ... -0.93138104  1.10652135\n",
      "  -0.30659201]\n",
      " [-0.35151334  0.28709801  1.40569898 ...  1.07367442 -0.90373312\n",
      "  -0.30659201]\n",
      " [-0.35151334  0.28709801  1.40569898 ... -0.93138104  1.10652135\n",
      "  -0.30659201]]\n",
      "[1 5 0 ... 1 5 5]\n"
     ]
    }
   ],
   "source": [
    "\n",
    "x_ar=X.values\n",
    "y_ar=np.asarray(y)\n",
    "x_ar = StandardScaler().fit(x_ar).transform(x_ar)\n",
    "\n",
    "print(x_ar)\n",
    "print(y_ar)"
   ]
  },
  {
   "cell_type": "code",
   "execution_count": 140,
   "metadata": {},
   "outputs": [
    {
     "data": {
      "text/plain": [
       "(0.5248284063880394, 0.5467210329595651)"
      ]
     },
     "execution_count": 140,
     "metadata": {},
     "output_type": "execute_result"
    },
    {
     "data": {
      "image/png": "[encoded data removed]",
      "text/plain": [
       "<Figure size 432x288 with 1 Axes>"
      ]
     },
     "metadata": {},
     "output_type": "display_data"
    }
   ],
   "source": [
    "#%%time\n",
    "# import warnings filter\n",
    "from warnings import simplefilter\n",
    "# ignore all future warnings\n",
    "simplefilter(action='ignore', category=FutureWarning)\n",
    "from sklearn.model_selection import cross_val_score\n",
    "from sklearn.model_selection import KFold, ShuffleSplit\n",
    "from sklearn.model_selection import StratifiedKFold, StratifiedShuffleSplit\n",
    "\n",
    "from sklearn.metrics import make_scorer, accuracy_score\n",
    "from sklearn.metrics import precision_score, recall_score, f1_score\n",
    "\n",
    "from sklearn.linear_model import LogisticRegression\n",
    "\n",
    "# select model\n",
    "clf = LogisticRegression()\n",
    "# select cross validation\n",
    "sss=StratifiedShuffleSplit(n_splits=3, random_state=1)\n",
    "\n",
    "\n",
    "\n",
    "# run model training and cross validation\n",
    "per_fold_eval_criteria = cross_val_score(estimator=clf,\n",
    "                                    X=x_ar,\n",
    "                                    y=y_ar,\n",
    "                                    cv=sss,\n",
    "                                    scoring=macro_avg_f1_scorer\n",
    "                                   )\n",
    "\n",
    "plt.bar(range(len(per_fold_eval_criteria)),per_fold_eval_criteria)\n",
    "plt.ylim([min(per_fold_eval_criteria)-0.01,max(per_fold_eval_criteria)])"
   ]
  },
  {
   "cell_type": "code",
   "execution_count": 141,
   "metadata": {},
   "outputs": [],
   "source": [
    "#plotting function for use in next question\n",
    "# takes input 'test_scores', axis labels, and an x-axis label\n",
    "def plot_filled(test_scores,train_x_axis, xlabel=''):\n",
    "    \n",
    "    test_mean = np.percentile(test_scores,50, axis=1)\n",
    "    test_max = np.percentile(test_scores,95, axis=1) \n",
    "    test_min = np.percentile(test_scores,5, axis=1) \n",
    "\n",
    "    plt.plot(train_x_axis, test_mean,\n",
    "             color='blue', linestyle='--',\n",
    "             marker='s', markersize=5,\n",
    "             label='validation set')\n",
    "\n",
    "    plt.fill_between(train_x_axis,\n",
    "                     test_min,\n",
    "                     test_max,\n",
    "                     alpha=0.15, color='blue')\n",
    "\n",
    "    plt.grid(True)\n",
    "    plt.xlabel(xlabel)\n",
    "    plt.ylabel('Evaluation Criterion')\n",
    "    plt.legend(loc='lower right')\n",
    "    plt.tight_layout()"
   ]
  },
  {
   "cell_type": "code",
   "execution_count": 143,
   "metadata": {},
   "outputs": [
    {
     "ename": "KeyboardInterrupt",
     "evalue": "",
     "output_type": "error",
     "traceback": [
      "\u001b[1;31m---------------------------------------------------------------------------\u001b[0m",
      "\u001b[1;31mKeyboardInterrupt\u001b[0m                         Traceback (most recent call last)",
      "\u001b[1;32m<timed exec>\u001b[0m in \u001b[0;36m<module>\u001b[1;34m\u001b[0m\n",
      "\u001b[1;32m~\\AppData\\Local\\Continuum\\anaconda3\\lib\\site-packages\\sklearn\\model_selection\\_validation.py\u001b[0m in \u001b[0;36mcross_val_score\u001b[1;34m(estimator, X, y, groups, scoring, cv, n_jobs, verbose, fit_params, pre_dispatch, error_score)\u001b[0m\n\u001b[0;32m    400\u001b[0m                                 \u001b[0mfit_params\u001b[0m\u001b[1;33m=\u001b[0m\u001b[0mfit_params\u001b[0m\u001b[1;33m,\u001b[0m\u001b[1;33m\u001b[0m\u001b[1;33m\u001b[0m\u001b[0m\n\u001b[0;32m    401\u001b[0m                                 \u001b[0mpre_dispatch\u001b[0m\u001b[1;33m=\u001b[0m\u001b[0mpre_dispatch\u001b[0m\u001b[1;33m,\u001b[0m\u001b[1;33m\u001b[0m\u001b[1;33m\u001b[0m\u001b[0m\n\u001b[1;32m--> 402\u001b[1;33m                                 error_score=error_score)\n\u001b[0m\u001b[0;32m    403\u001b[0m     \u001b[1;32mreturn\u001b[0m \u001b[0mcv_results\u001b[0m\u001b[1;33m[\u001b[0m\u001b[1;34m'test_score'\u001b[0m\u001b[1;33m]\u001b[0m\u001b[1;33m\u001b[0m\u001b[1;33m\u001b[0m\u001b[0m\n\u001b[0;32m    404\u001b[0m \u001b[1;33m\u001b[0m\u001b[0m\n",
      "\u001b[1;32m~\\AppData\\Local\\Continuum\\anaconda3\\lib\\site-packages\\sklearn\\model_selection\\_validation.py\u001b[0m in \u001b[0;36mcross_validate\u001b[1;34m(estimator, X, y, groups, scoring, cv, n_jobs, verbose, fit_params, pre_dispatch, return_train_score, return_estimator, error_score)\u001b[0m\n\u001b[0;32m    238\u001b[0m             \u001b[0mreturn_times\u001b[0m\u001b[1;33m=\u001b[0m\u001b[1;32mTrue\u001b[0m\u001b[1;33m,\u001b[0m \u001b[0mreturn_estimator\u001b[0m\u001b[1;33m=\u001b[0m\u001b[0mreturn_estimator\u001b[0m\u001b[1;33m,\u001b[0m\u001b[1;33m\u001b[0m\u001b[1;33m\u001b[0m\u001b[0m\n\u001b[0;32m    239\u001b[0m             error_score=error_score)\n\u001b[1;32m--> 240\u001b[1;33m         for train, test in cv.split(X, y, groups))\n\u001b[0m\u001b[0;32m    241\u001b[0m \u001b[1;33m\u001b[0m\u001b[0m\n\u001b[0;32m    242\u001b[0m     \u001b[0mzipped_scores\u001b[0m \u001b[1;33m=\u001b[0m \u001b[0mlist\u001b[0m\u001b[1;33m(\u001b[0m\u001b[0mzip\u001b[0m\u001b[1;33m(\u001b[0m\u001b[1;33m*\u001b[0m\u001b[0mscores\u001b[0m\u001b[1;33m)\u001b[0m\u001b[1;33m)\u001b[0m\u001b[1;33m\u001b[0m\u001b[1;33m\u001b[0m\u001b[0m\n",
      "\u001b[1;32m~\\AppData\\Local\\Continuum\\anaconda3\\lib\\site-packages\\sklearn\\externals\\joblib\\parallel.py\u001b[0m in \u001b[0;36m__call__\u001b[1;34m(self, iterable)\u001b[0m\n\u001b[0;32m    918\u001b[0m                 \u001b[0mself\u001b[0m\u001b[1;33m.\u001b[0m\u001b[0m_iterating\u001b[0m \u001b[1;33m=\u001b[0m \u001b[0mself\u001b[0m\u001b[1;33m.\u001b[0m\u001b[0m_original_iterator\u001b[0m \u001b[1;32mis\u001b[0m \u001b[1;32mnot\u001b[0m \u001b[1;32mNone\u001b[0m\u001b[1;33m\u001b[0m\u001b[1;33m\u001b[0m\u001b[0m\n\u001b[0;32m    919\u001b[0m \u001b[1;33m\u001b[0m\u001b[0m\n\u001b[1;32m--> 920\u001b[1;33m             \u001b[1;32mwhile\u001b[0m \u001b[0mself\u001b[0m\u001b[1;33m.\u001b[0m\u001b[0mdispatch_one_batch\u001b[0m\u001b[1;33m(\u001b[0m\u001b[0miterator\u001b[0m\u001b[1;33m)\u001b[0m\u001b[1;33m:\u001b[0m\u001b[1;33m\u001b[0m\u001b[1;33m\u001b[0m\u001b[0m\n\u001b[0m\u001b[0;32m    921\u001b[0m                 \u001b[1;32mpass\u001b[0m\u001b[1;33m\u001b[0m\u001b[1;33m\u001b[0m\u001b[0m\n\u001b[0;32m    922\u001b[0m \u001b[1;33m\u001b[0m\u001b[0m\n",
      "\u001b[1;32m~\\AppData\\Local\\Continuum\\anaconda3\\lib\\site-packages\\sklearn\\externals\\joblib\\parallel.py\u001b[0m in \u001b[0;36mdispatch_one_batch\u001b[1;34m(self, iterator)\u001b[0m\n\u001b[0;32m    757\u001b[0m                 \u001b[1;32mreturn\u001b[0m \u001b[1;32mFalse\u001b[0m\u001b[1;33m\u001b[0m\u001b[1;33m\u001b[0m\u001b[0m\n\u001b[0;32m    758\u001b[0m             \u001b[1;32melse\u001b[0m\u001b[1;33m:\u001b[0m\u001b[1;33m\u001b[0m\u001b[1;33m\u001b[0m\u001b[0m\n\u001b[1;32m--> 759\u001b[1;33m                 \u001b[0mself\u001b[0m\u001b[1;33m.\u001b[0m\u001b[0m_dispatch\u001b[0m\u001b[1;33m(\u001b[0m\u001b[0mtasks\u001b[0m\u001b[1;33m)\u001b[0m\u001b[1;33m\u001b[0m\u001b[1;33m\u001b[0m\u001b[0m\n\u001b[0m\u001b[0;32m    760\u001b[0m                 \u001b[1;32mreturn\u001b[0m \u001b[1;32mTrue\u001b[0m\u001b[1;33m\u001b[0m\u001b[1;33m\u001b[0m\u001b[0m\n\u001b[0;32m    761\u001b[0m \u001b[1;33m\u001b[0m\u001b[0m\n",
      "\u001b[1;32m~\\AppData\\Local\\Continuum\\anaconda3\\lib\\site-packages\\sklearn\\externals\\joblib\\parallel.py\u001b[0m in \u001b[0;36m_dispatch\u001b[1;34m(self, batch)\u001b[0m\n\u001b[0;32m    714\u001b[0m         \u001b[1;32mwith\u001b[0m \u001b[0mself\u001b[0m\u001b[1;33m.\u001b[0m\u001b[0m_lock\u001b[0m\u001b[1;33m:\u001b[0m\u001b[1;33m\u001b[0m\u001b[1;33m\u001b[0m\u001b[0m\n\u001b[0;32m    715\u001b[0m             \u001b[0mjob_idx\u001b[0m \u001b[1;33m=\u001b[0m \u001b[0mlen\u001b[0m\u001b[1;33m(\u001b[0m\u001b[0mself\u001b[0m\u001b[1;33m.\u001b[0m\u001b[0m_jobs\u001b[0m\u001b[1;33m)\u001b[0m\u001b[1;33m\u001b[0m\u001b[1;33m\u001b[0m\u001b[0m\n\u001b[1;32m--> 716\u001b[1;33m             \u001b[0mjob\u001b[0m \u001b[1;33m=\u001b[0m \u001b[0mself\u001b[0m\u001b[1;33m.\u001b[0m\u001b[0m_backend\u001b[0m\u001b[1;33m.\u001b[0m\u001b[0mapply_async\u001b[0m\u001b[1;33m(\u001b[0m\u001b[0mbatch\u001b[0m\u001b[1;33m,\u001b[0m \u001b[0mcallback\u001b[0m\u001b[1;33m=\u001b[0m\u001b[0mcb\u001b[0m\u001b[1;33m)\u001b[0m\u001b[1;33m\u001b[0m\u001b[1;33m\u001b[0m\u001b[0m\n\u001b[0m\u001b[0;32m    717\u001b[0m             \u001b[1;31m# A job can complete so quickly than its callback is\u001b[0m\u001b[1;33m\u001b[0m\u001b[1;33m\u001b[0m\u001b[1;33m\u001b[0m\u001b[0m\n\u001b[0;32m    718\u001b[0m             \u001b[1;31m# called before we get here, causing self._jobs to\u001b[0m\u001b[1;33m\u001b[0m\u001b[1;33m\u001b[0m\u001b[1;33m\u001b[0m\u001b[0m\n",
      "\u001b[1;32m~\\AppData\\Local\\Continuum\\anaconda3\\lib\\site-packages\\sklearn\\externals\\joblib\\_parallel_backends.py\u001b[0m in \u001b[0;36mapply_async\u001b[1;34m(self, func, callback)\u001b[0m\n\u001b[0;32m    180\u001b[0m     \u001b[1;32mdef\u001b[0m \u001b[0mapply_async\u001b[0m\u001b[1;33m(\u001b[0m\u001b[0mself\u001b[0m\u001b[1;33m,\u001b[0m \u001b[0mfunc\u001b[0m\u001b[1;33m,\u001b[0m \u001b[0mcallback\u001b[0m\u001b[1;33m=\u001b[0m\u001b[1;32mNone\u001b[0m\u001b[1;33m)\u001b[0m\u001b[1;33m:\u001b[0m\u001b[1;33m\u001b[0m\u001b[1;33m\u001b[0m\u001b[0m\n\u001b[0;32m    181\u001b[0m         \u001b[1;34m\"\"\"Schedule a func to be run\"\"\"\u001b[0m\u001b[1;33m\u001b[0m\u001b[1;33m\u001b[0m\u001b[0m\n\u001b[1;32m--> 182\u001b[1;33m         \u001b[0mresult\u001b[0m \u001b[1;33m=\u001b[0m \u001b[0mImmediateResult\u001b[0m\u001b[1;33m(\u001b[0m\u001b[0mfunc\u001b[0m\u001b[1;33m)\u001b[0m\u001b[1;33m\u001b[0m\u001b[1;33m\u001b[0m\u001b[0m\n\u001b[0m\u001b[0;32m    183\u001b[0m         \u001b[1;32mif\u001b[0m \u001b[0mcallback\u001b[0m\u001b[1;33m:\u001b[0m\u001b[1;33m\u001b[0m\u001b[1;33m\u001b[0m\u001b[0m\n\u001b[0;32m    184\u001b[0m             \u001b[0mcallback\u001b[0m\u001b[1;33m(\u001b[0m\u001b[0mresult\u001b[0m\u001b[1;33m)\u001b[0m\u001b[1;33m\u001b[0m\u001b[1;33m\u001b[0m\u001b[0m\n",
      "\u001b[1;32m~\\AppData\\Local\\Continuum\\anaconda3\\lib\\site-packages\\sklearn\\externals\\joblib\\_parallel_backends.py\u001b[0m in \u001b[0;36m__init__\u001b[1;34m(self, batch)\u001b[0m\n\u001b[0;32m    547\u001b[0m         \u001b[1;31m# Don't delay the application, to avoid keeping the input\u001b[0m\u001b[1;33m\u001b[0m\u001b[1;33m\u001b[0m\u001b[1;33m\u001b[0m\u001b[0m\n\u001b[0;32m    548\u001b[0m         \u001b[1;31m# arguments in memory\u001b[0m\u001b[1;33m\u001b[0m\u001b[1;33m\u001b[0m\u001b[1;33m\u001b[0m\u001b[0m\n\u001b[1;32m--> 549\u001b[1;33m         \u001b[0mself\u001b[0m\u001b[1;33m.\u001b[0m\u001b[0mresults\u001b[0m \u001b[1;33m=\u001b[0m \u001b[0mbatch\u001b[0m\u001b[1;33m(\u001b[0m\u001b[1;33m)\u001b[0m\u001b[1;33m\u001b[0m\u001b[1;33m\u001b[0m\u001b[0m\n\u001b[0m\u001b[0;32m    550\u001b[0m \u001b[1;33m\u001b[0m\u001b[0m\n\u001b[0;32m    551\u001b[0m     \u001b[1;32mdef\u001b[0m \u001b[0mget\u001b[0m\u001b[1;33m(\u001b[0m\u001b[0mself\u001b[0m\u001b[1;33m)\u001b[0m\u001b[1;33m:\u001b[0m\u001b[1;33m\u001b[0m\u001b[1;33m\u001b[0m\u001b[0m\n",
      "\u001b[1;32m~\\AppData\\Local\\Continuum\\anaconda3\\lib\\site-packages\\sklearn\\externals\\joblib\\parallel.py\u001b[0m in \u001b[0;36m__call__\u001b[1;34m(self)\u001b[0m\n\u001b[0;32m    223\u001b[0m         \u001b[1;32mwith\u001b[0m \u001b[0mparallel_backend\u001b[0m\u001b[1;33m(\u001b[0m\u001b[0mself\u001b[0m\u001b[1;33m.\u001b[0m\u001b[0m_backend\u001b[0m\u001b[1;33m,\u001b[0m \u001b[0mn_jobs\u001b[0m\u001b[1;33m=\u001b[0m\u001b[0mself\u001b[0m\u001b[1;33m.\u001b[0m\u001b[0m_n_jobs\u001b[0m\u001b[1;33m)\u001b[0m\u001b[1;33m:\u001b[0m\u001b[1;33m\u001b[0m\u001b[1;33m\u001b[0m\u001b[0m\n\u001b[0;32m    224\u001b[0m             return [func(*args, **kwargs)\n\u001b[1;32m--> 225\u001b[1;33m                     for func, args, kwargs in self.items]\n\u001b[0m\u001b[0;32m    226\u001b[0m \u001b[1;33m\u001b[0m\u001b[0m\n\u001b[0;32m    227\u001b[0m     \u001b[1;32mdef\u001b[0m \u001b[0m__len__\u001b[0m\u001b[1;33m(\u001b[0m\u001b[0mself\u001b[0m\u001b[1;33m)\u001b[0m\u001b[1;33m:\u001b[0m\u001b[1;33m\u001b[0m\u001b[1;33m\u001b[0m\u001b[0m\n",
      "\u001b[1;32m~\\AppData\\Local\\Continuum\\anaconda3\\lib\\site-packages\\sklearn\\externals\\joblib\\parallel.py\u001b[0m in \u001b[0;36m<listcomp>\u001b[1;34m(.0)\u001b[0m\n\u001b[0;32m    223\u001b[0m         \u001b[1;32mwith\u001b[0m \u001b[0mparallel_backend\u001b[0m\u001b[1;33m(\u001b[0m\u001b[0mself\u001b[0m\u001b[1;33m.\u001b[0m\u001b[0m_backend\u001b[0m\u001b[1;33m,\u001b[0m \u001b[0mn_jobs\u001b[0m\u001b[1;33m=\u001b[0m\u001b[0mself\u001b[0m\u001b[1;33m.\u001b[0m\u001b[0m_n_jobs\u001b[0m\u001b[1;33m)\u001b[0m\u001b[1;33m:\u001b[0m\u001b[1;33m\u001b[0m\u001b[1;33m\u001b[0m\u001b[0m\n\u001b[0;32m    224\u001b[0m             return [func(*args, **kwargs)\n\u001b[1;32m--> 225\u001b[1;33m                     for func, args, kwargs in self.items]\n\u001b[0m\u001b[0;32m    226\u001b[0m \u001b[1;33m\u001b[0m\u001b[0m\n\u001b[0;32m    227\u001b[0m     \u001b[1;32mdef\u001b[0m \u001b[0m__len__\u001b[0m\u001b[1;33m(\u001b[0m\u001b[0mself\u001b[0m\u001b[1;33m)\u001b[0m\u001b[1;33m:\u001b[0m\u001b[1;33m\u001b[0m\u001b[1;33m\u001b[0m\u001b[0m\n",
      "\u001b[1;32m~\\AppData\\Local\\Continuum\\anaconda3\\lib\\site-packages\\sklearn\\model_selection\\_validation.py\u001b[0m in \u001b[0;36m_fit_and_score\u001b[1;34m(estimator, X, y, scorer, train, test, verbose, parameters, fit_params, return_train_score, return_parameters, return_n_test_samples, return_times, return_estimator, error_score)\u001b[0m\n\u001b[0;32m    566\u001b[0m         \u001b[0mfit_time\u001b[0m \u001b[1;33m=\u001b[0m \u001b[0mtime\u001b[0m\u001b[1;33m.\u001b[0m\u001b[0mtime\u001b[0m\u001b[1;33m(\u001b[0m\u001b[1;33m)\u001b[0m \u001b[1;33m-\u001b[0m \u001b[0mstart_time\u001b[0m\u001b[1;33m\u001b[0m\u001b[1;33m\u001b[0m\u001b[0m\n\u001b[0;32m    567\u001b[0m         \u001b[1;31m# _score will return dict if is_multimetric is True\u001b[0m\u001b[1;33m\u001b[0m\u001b[1;33m\u001b[0m\u001b[1;33m\u001b[0m\u001b[0m\n\u001b[1;32m--> 568\u001b[1;33m         \u001b[0mtest_scores\u001b[0m \u001b[1;33m=\u001b[0m \u001b[0m_score\u001b[0m\u001b[1;33m(\u001b[0m\u001b[0mestimator\u001b[0m\u001b[1;33m,\u001b[0m \u001b[0mX_test\u001b[0m\u001b[1;33m,\u001b[0m \u001b[0my_test\u001b[0m\u001b[1;33m,\u001b[0m \u001b[0mscorer\u001b[0m\u001b[1;33m,\u001b[0m \u001b[0mis_multimetric\u001b[0m\u001b[1;33m)\u001b[0m\u001b[1;33m\u001b[0m\u001b[1;33m\u001b[0m\u001b[0m\n\u001b[0m\u001b[0;32m    569\u001b[0m         \u001b[0mscore_time\u001b[0m \u001b[1;33m=\u001b[0m \u001b[0mtime\u001b[0m\u001b[1;33m.\u001b[0m\u001b[0mtime\u001b[0m\u001b[1;33m(\u001b[0m\u001b[1;33m)\u001b[0m \u001b[1;33m-\u001b[0m \u001b[0mstart_time\u001b[0m \u001b[1;33m-\u001b[0m \u001b[0mfit_time\u001b[0m\u001b[1;33m\u001b[0m\u001b[1;33m\u001b[0m\u001b[0m\n\u001b[0;32m    570\u001b[0m         \u001b[1;32mif\u001b[0m \u001b[0mreturn_train_score\u001b[0m\u001b[1;33m:\u001b[0m\u001b[1;33m\u001b[0m\u001b[1;33m\u001b[0m\u001b[0m\n",
      "\u001b[1;32m~\\AppData\\Local\\Continuum\\anaconda3\\lib\\site-packages\\sklearn\\model_selection\\_validation.py\u001b[0m in \u001b[0;36m_score\u001b[1;34m(estimator, X_test, y_test, scorer, is_multimetric)\u001b[0m\n\u001b[0;32m    603\u001b[0m     \"\"\"\n\u001b[0;32m    604\u001b[0m     \u001b[1;32mif\u001b[0m \u001b[0mis_multimetric\u001b[0m\u001b[1;33m:\u001b[0m\u001b[1;33m\u001b[0m\u001b[1;33m\u001b[0m\u001b[0m\n\u001b[1;32m--> 605\u001b[1;33m         \u001b[1;32mreturn\u001b[0m \u001b[0m_multimetric_score\u001b[0m\u001b[1;33m(\u001b[0m\u001b[0mestimator\u001b[0m\u001b[1;33m,\u001b[0m \u001b[0mX_test\u001b[0m\u001b[1;33m,\u001b[0m \u001b[0my_test\u001b[0m\u001b[1;33m,\u001b[0m \u001b[0mscorer\u001b[0m\u001b[1;33m)\u001b[0m\u001b[1;33m\u001b[0m\u001b[1;33m\u001b[0m\u001b[0m\n\u001b[0m\u001b[0;32m    606\u001b[0m     \u001b[1;32melse\u001b[0m\u001b[1;33m:\u001b[0m\u001b[1;33m\u001b[0m\u001b[1;33m\u001b[0m\u001b[0m\n\u001b[0;32m    607\u001b[0m         \u001b[1;32mif\u001b[0m \u001b[0my_test\u001b[0m \u001b[1;32mis\u001b[0m \u001b[1;32mNone\u001b[0m\u001b[1;33m:\u001b[0m\u001b[1;33m\u001b[0m\u001b[1;33m\u001b[0m\u001b[0m\n",
      "\u001b[1;32m~\\AppData\\Local\\Continuum\\anaconda3\\lib\\site-packages\\sklearn\\model_selection\\_validation.py\u001b[0m in \u001b[0;36m_multimetric_score\u001b[1;34m(estimator, X_test, y_test, scorers)\u001b[0m\n\u001b[0;32m    633\u001b[0m             \u001b[0mscore\u001b[0m \u001b[1;33m=\u001b[0m \u001b[0mscorer\u001b[0m\u001b[1;33m(\u001b[0m\u001b[0mestimator\u001b[0m\u001b[1;33m,\u001b[0m \u001b[0mX_test\u001b[0m\u001b[1;33m)\u001b[0m\u001b[1;33m\u001b[0m\u001b[1;33m\u001b[0m\u001b[0m\n\u001b[0;32m    634\u001b[0m         \u001b[1;32melse\u001b[0m\u001b[1;33m:\u001b[0m\u001b[1;33m\u001b[0m\u001b[1;33m\u001b[0m\u001b[0m\n\u001b[1;32m--> 635\u001b[1;33m             \u001b[0mscore\u001b[0m \u001b[1;33m=\u001b[0m \u001b[0mscorer\u001b[0m\u001b[1;33m(\u001b[0m\u001b[0mestimator\u001b[0m\u001b[1;33m,\u001b[0m \u001b[0mX_test\u001b[0m\u001b[1;33m,\u001b[0m \u001b[0my_test\u001b[0m\u001b[1;33m)\u001b[0m\u001b[1;33m\u001b[0m\u001b[1;33m\u001b[0m\u001b[0m\n\u001b[0m\u001b[0;32m    636\u001b[0m \u001b[1;33m\u001b[0m\u001b[0m\n\u001b[0;32m    637\u001b[0m         \u001b[1;32mif\u001b[0m \u001b[0mhasattr\u001b[0m\u001b[1;33m(\u001b[0m\u001b[0mscore\u001b[0m\u001b[1;33m,\u001b[0m \u001b[1;34m'item'\u001b[0m\u001b[1;33m)\u001b[0m\u001b[1;33m:\u001b[0m\u001b[1;33m\u001b[0m\u001b[1;33m\u001b[0m\u001b[0m\n",
      "\u001b[1;32m~\\AppData\\Local\\Continuum\\anaconda3\\lib\\site-packages\\sklearn\\metrics\\scorer.py\u001b[0m in \u001b[0;36m__call__\u001b[1;34m(self, estimator, X, y_true, sample_weight)\u001b[0m\n\u001b[0;32m     89\u001b[0m         \"\"\"\n\u001b[0;32m     90\u001b[0m \u001b[1;33m\u001b[0m\u001b[0m\n\u001b[1;32m---> 91\u001b[1;33m         \u001b[0my_pred\u001b[0m \u001b[1;33m=\u001b[0m \u001b[0mestimator\u001b[0m\u001b[1;33m.\u001b[0m\u001b[0mpredict\u001b[0m\u001b[1;33m(\u001b[0m\u001b[0mX\u001b[0m\u001b[1;33m)\u001b[0m\u001b[1;33m\u001b[0m\u001b[1;33m\u001b[0m\u001b[0m\n\u001b[0m\u001b[0;32m     92\u001b[0m         \u001b[1;32mif\u001b[0m \u001b[0msample_weight\u001b[0m \u001b[1;32mis\u001b[0m \u001b[1;32mnot\u001b[0m \u001b[1;32mNone\u001b[0m\u001b[1;33m:\u001b[0m\u001b[1;33m\u001b[0m\u001b[1;33m\u001b[0m\u001b[0m\n\u001b[0;32m     93\u001b[0m             return self._sign * self._score_func(y_true, y_pred,\n",
      "\u001b[1;32m~\\AppData\\Local\\Continuum\\anaconda3\\lib\\site-packages\\sklearn\\linear_model\\base.py\u001b[0m in \u001b[0;36mpredict\u001b[1;34m(self, X)\u001b[0m\n\u001b[0;32m    279\u001b[0m             \u001b[0mPredicted\u001b[0m \u001b[1;32mclass\u001b[0m \u001b[0mlabel\u001b[0m \u001b[0mper\u001b[0m \u001b[0msample\u001b[0m\u001b[1;33m.\u001b[0m\u001b[1;33m\u001b[0m\u001b[1;33m\u001b[0m\u001b[0m\n\u001b[0;32m    280\u001b[0m         \"\"\"\n\u001b[1;32m--> 281\u001b[1;33m         \u001b[0mscores\u001b[0m \u001b[1;33m=\u001b[0m \u001b[0mself\u001b[0m\u001b[1;33m.\u001b[0m\u001b[0mdecision_function\u001b[0m\u001b[1;33m(\u001b[0m\u001b[0mX\u001b[0m\u001b[1;33m)\u001b[0m\u001b[1;33m\u001b[0m\u001b[1;33m\u001b[0m\u001b[0m\n\u001b[0m\u001b[0;32m    282\u001b[0m         \u001b[1;32mif\u001b[0m \u001b[0mlen\u001b[0m\u001b[1;33m(\u001b[0m\u001b[0mscores\u001b[0m\u001b[1;33m.\u001b[0m\u001b[0mshape\u001b[0m\u001b[1;33m)\u001b[0m \u001b[1;33m==\u001b[0m \u001b[1;36m1\u001b[0m\u001b[1;33m:\u001b[0m\u001b[1;33m\u001b[0m\u001b[1;33m\u001b[0m\u001b[0m\n\u001b[0;32m    283\u001b[0m             \u001b[0mindices\u001b[0m \u001b[1;33m=\u001b[0m \u001b[1;33m(\u001b[0m\u001b[0mscores\u001b[0m \u001b[1;33m>\u001b[0m \u001b[1;36m0\u001b[0m\u001b[1;33m)\u001b[0m\u001b[1;33m.\u001b[0m\u001b[0mastype\u001b[0m\u001b[1;33m(\u001b[0m\u001b[0mnp\u001b[0m\u001b[1;33m.\u001b[0m\u001b[0mint\u001b[0m\u001b[1;33m)\u001b[0m\u001b[1;33m\u001b[0m\u001b[1;33m\u001b[0m\u001b[0m\n",
      "\u001b[1;32m~\\AppData\\Local\\Continuum\\anaconda3\\lib\\site-packages\\sklearn\\linear_model\\base.py\u001b[0m in \u001b[0;36mdecision_function\u001b[1;34m(self, X)\u001b[0m\n\u001b[0;32m    255\u001b[0m                                  \"yet\" % {'name': type(self).__name__})\n\u001b[0;32m    256\u001b[0m \u001b[1;33m\u001b[0m\u001b[0m\n\u001b[1;32m--> 257\u001b[1;33m         \u001b[0mX\u001b[0m \u001b[1;33m=\u001b[0m \u001b[0mcheck_array\u001b[0m\u001b[1;33m(\u001b[0m\u001b[0mX\u001b[0m\u001b[1;33m,\u001b[0m \u001b[0maccept_sparse\u001b[0m\u001b[1;33m=\u001b[0m\u001b[1;34m'csr'\u001b[0m\u001b[1;33m)\u001b[0m\u001b[1;33m\u001b[0m\u001b[1;33m\u001b[0m\u001b[0m\n\u001b[0m\u001b[0;32m    258\u001b[0m \u001b[1;33m\u001b[0m\u001b[0m\n\u001b[0;32m    259\u001b[0m         \u001b[0mn_features\u001b[0m \u001b[1;33m=\u001b[0m \u001b[0mself\u001b[0m\u001b[1;33m.\u001b[0m\u001b[0mcoef_\u001b[0m\u001b[1;33m.\u001b[0m\u001b[0mshape\u001b[0m\u001b[1;33m[\u001b[0m\u001b[1;36m1\u001b[0m\u001b[1;33m]\u001b[0m\u001b[1;33m\u001b[0m\u001b[1;33m\u001b[0m\u001b[0m\n",
      "\u001b[1;32m~\\AppData\\Local\\Continuum\\anaconda3\\lib\\site-packages\\sklearn\\utils\\validation.py\u001b[0m in \u001b[0;36mcheck_array\u001b[1;34m(array, accept_sparse, accept_large_sparse, dtype, order, copy, force_all_finite, ensure_2d, allow_nd, ensure_min_samples, ensure_min_features, warn_on_dtype, estimator)\u001b[0m\n\u001b[0;32m    525\u001b[0m             \u001b[1;32mtry\u001b[0m\u001b[1;33m:\u001b[0m\u001b[1;33m\u001b[0m\u001b[1;33m\u001b[0m\u001b[0m\n\u001b[0;32m    526\u001b[0m                 \u001b[0mwarnings\u001b[0m\u001b[1;33m.\u001b[0m\u001b[0msimplefilter\u001b[0m\u001b[1;33m(\u001b[0m\u001b[1;34m'error'\u001b[0m\u001b[1;33m,\u001b[0m \u001b[0mComplexWarning\u001b[0m\u001b[1;33m)\u001b[0m\u001b[1;33m\u001b[0m\u001b[1;33m\u001b[0m\u001b[0m\n\u001b[1;32m--> 527\u001b[1;33m                 \u001b[0marray\u001b[0m \u001b[1;33m=\u001b[0m \u001b[0mnp\u001b[0m\u001b[1;33m.\u001b[0m\u001b[0masarray\u001b[0m\u001b[1;33m(\u001b[0m\u001b[0marray\u001b[0m\u001b[1;33m,\u001b[0m \u001b[0mdtype\u001b[0m\u001b[1;33m=\u001b[0m\u001b[0mdtype\u001b[0m\u001b[1;33m,\u001b[0m \u001b[0morder\u001b[0m\u001b[1;33m=\u001b[0m\u001b[0morder\u001b[0m\u001b[1;33m)\u001b[0m\u001b[1;33m\u001b[0m\u001b[1;33m\u001b[0m\u001b[0m\n\u001b[0m\u001b[0;32m    528\u001b[0m             \u001b[1;32mexcept\u001b[0m \u001b[0mComplexWarning\u001b[0m\u001b[1;33m:\u001b[0m\u001b[1;33m\u001b[0m\u001b[1;33m\u001b[0m\u001b[0m\n\u001b[0;32m    529\u001b[0m                 raise ValueError(\"Complex data not supported\\n\"\n",
      "\u001b[1;32m~\\AppData\\Local\\Continuum\\anaconda3\\lib\\site-packages\\numpy\\core\\numeric.py\u001b[0m in \u001b[0;36masarray\u001b[1;34m(a, dtype, order)\u001b[0m\n\u001b[0;32m    499\u001b[0m \u001b[1;33m\u001b[0m\u001b[0m\n\u001b[0;32m    500\u001b[0m     \"\"\"\n\u001b[1;32m--> 501\u001b[1;33m     \u001b[1;32mreturn\u001b[0m \u001b[0marray\u001b[0m\u001b[1;33m(\u001b[0m\u001b[0ma\u001b[0m\u001b[1;33m,\u001b[0m \u001b[0mdtype\u001b[0m\u001b[1;33m,\u001b[0m \u001b[0mcopy\u001b[0m\u001b[1;33m=\u001b[0m\u001b[1;32mFalse\u001b[0m\u001b[1;33m,\u001b[0m \u001b[0morder\u001b[0m\u001b[1;33m=\u001b[0m\u001b[0morder\u001b[0m\u001b[1;33m)\u001b[0m\u001b[1;33m\u001b[0m\u001b[1;33m\u001b[0m\u001b[0m\n\u001b[0m\u001b[0;32m    502\u001b[0m \u001b[1;33m\u001b[0m\u001b[0m\n\u001b[0;32m    503\u001b[0m \u001b[1;33m\u001b[0m\u001b[0m\n",
      "\u001b[1;32m~\\AppData\\Local\\Continuum\\anaconda3\\lib\\site-packages\\pandas\\core\\generic.py\u001b[0m in \u001b[0;36m__array__\u001b[1;34m(self, dtype)\u001b[0m\n\u001b[0;32m   1604\u001b[0m \u001b[1;33m\u001b[0m\u001b[0m\n\u001b[0;32m   1605\u001b[0m     \u001b[1;32mdef\u001b[0m \u001b[0m__array__\u001b[0m\u001b[1;33m(\u001b[0m\u001b[0mself\u001b[0m\u001b[1;33m,\u001b[0m \u001b[0mdtype\u001b[0m\u001b[1;33m=\u001b[0m\u001b[1;32mNone\u001b[0m\u001b[1;33m)\u001b[0m\u001b[1;33m:\u001b[0m\u001b[1;33m\u001b[0m\u001b[1;33m\u001b[0m\u001b[0m\n\u001b[1;32m-> 1606\u001b[1;33m         \u001b[1;32mreturn\u001b[0m \u001b[0mcom\u001b[0m\u001b[1;33m.\u001b[0m\u001b[0m_values_from_object\u001b[0m\u001b[1;33m(\u001b[0m\u001b[0mself\u001b[0m\u001b[1;33m)\u001b[0m\u001b[1;33m\u001b[0m\u001b[1;33m\u001b[0m\u001b[0m\n\u001b[0m\u001b[0;32m   1607\u001b[0m \u001b[1;33m\u001b[0m\u001b[0m\n\u001b[0;32m   1608\u001b[0m     \u001b[1;32mdef\u001b[0m \u001b[0m__array_wrap__\u001b[0m\u001b[1;33m(\u001b[0m\u001b[0mself\u001b[0m\u001b[1;33m,\u001b[0m \u001b[0mresult\u001b[0m\u001b[1;33m,\u001b[0m \u001b[0mcontext\u001b[0m\u001b[1;33m=\u001b[0m\u001b[1;32mNone\u001b[0m\u001b[1;33m)\u001b[0m\u001b[1;33m:\u001b[0m\u001b[1;33m\u001b[0m\u001b[1;33m\u001b[0m\u001b[0m\n",
      "\u001b[1;32mpandas\\_libs\\lib.pyx\u001b[0m in \u001b[0;36mpandas._libs.lib.values_from_object\u001b[1;34m()\u001b[0m\n",
      "\u001b[1;32m~\\AppData\\Local\\Continuum\\anaconda3\\lib\\site-packages\\pandas\\core\\generic.py\u001b[0m in \u001b[0;36mget_values\u001b[1;34m(self)\u001b[0m\n\u001b[0;32m   4686\u001b[0m                [nan,  3.]])\n\u001b[0;32m   4687\u001b[0m         \"\"\"\n\u001b[1;32m-> 4688\u001b[1;33m         \u001b[1;32mreturn\u001b[0m \u001b[0mself\u001b[0m\u001b[1;33m.\u001b[0m\u001b[0mvalues\u001b[0m\u001b[1;33m\u001b[0m\u001b[1;33m\u001b[0m\u001b[0m\n\u001b[0m\u001b[0;32m   4689\u001b[0m \u001b[1;33m\u001b[0m\u001b[0m\n\u001b[0;32m   4690\u001b[0m     \u001b[1;32mdef\u001b[0m \u001b[0mget_dtype_counts\u001b[0m\u001b[1;33m(\u001b[0m\u001b[0mself\u001b[0m\u001b[1;33m)\u001b[0m\u001b[1;33m:\u001b[0m\u001b[1;33m\u001b[0m\u001b[1;33m\u001b[0m\u001b[0m\n",
      "\u001b[1;32m~\\AppData\\Local\\Continuum\\anaconda3\\lib\\site-packages\\pandas\\core\\generic.py\u001b[0m in \u001b[0;36mvalues\u001b[1;34m(self)\u001b[0m\n\u001b[0;32m   4631\u001b[0m         \"\"\"\n\u001b[0;32m   4632\u001b[0m         \u001b[0mself\u001b[0m\u001b[1;33m.\u001b[0m\u001b[0m_consolidate_inplace\u001b[0m\u001b[1;33m(\u001b[0m\u001b[1;33m)\u001b[0m\u001b[1;33m\u001b[0m\u001b[1;33m\u001b[0m\u001b[0m\n\u001b[1;32m-> 4633\u001b[1;33m         \u001b[1;32mreturn\u001b[0m \u001b[0mself\u001b[0m\u001b[1;33m.\u001b[0m\u001b[0m_data\u001b[0m\u001b[1;33m.\u001b[0m\u001b[0mas_array\u001b[0m\u001b[1;33m(\u001b[0m\u001b[0mtranspose\u001b[0m\u001b[1;33m=\u001b[0m\u001b[0mself\u001b[0m\u001b[1;33m.\u001b[0m\u001b[0m_AXIS_REVERSED\u001b[0m\u001b[1;33m)\u001b[0m\u001b[1;33m\u001b[0m\u001b[1;33m\u001b[0m\u001b[0m\n\u001b[0m\u001b[0;32m   4634\u001b[0m \u001b[1;33m\u001b[0m\u001b[0m\n\u001b[0;32m   4635\u001b[0m     \u001b[1;33m@\u001b[0m\u001b[0mproperty\u001b[0m\u001b[1;33m\u001b[0m\u001b[1;33m\u001b[0m\u001b[0m\n",
      "\u001b[1;32m~\\AppData\\Local\\Continuum\\anaconda3\\lib\\site-packages\\pandas\\core\\internals.py\u001b[0m in \u001b[0;36mas_array\u001b[1;34m(self, transpose, items)\u001b[0m\n\u001b[0;32m   3947\u001b[0m             \u001b[0marr\u001b[0m \u001b[1;33m=\u001b[0m \u001b[0mmgr\u001b[0m\u001b[1;33m.\u001b[0m\u001b[0mblocks\u001b[0m\u001b[1;33m[\u001b[0m\u001b[1;36m0\u001b[0m\u001b[1;33m]\u001b[0m\u001b[1;33m.\u001b[0m\u001b[0mget_values\u001b[0m\u001b[1;33m(\u001b[0m\u001b[1;33m)\u001b[0m\u001b[1;33m\u001b[0m\u001b[1;33m\u001b[0m\u001b[0m\n\u001b[0;32m   3948\u001b[0m         \u001b[1;32melse\u001b[0m\u001b[1;33m:\u001b[0m\u001b[1;33m\u001b[0m\u001b[1;33m\u001b[0m\u001b[0m\n\u001b[1;32m-> 3949\u001b[1;33m             \u001b[0marr\u001b[0m \u001b[1;33m=\u001b[0m \u001b[0mmgr\u001b[0m\u001b[1;33m.\u001b[0m\u001b[0m_interleave\u001b[0m\u001b[1;33m(\u001b[0m\u001b[1;33m)\u001b[0m\u001b[1;33m\u001b[0m\u001b[1;33m\u001b[0m\u001b[0m\n\u001b[0m\u001b[0;32m   3950\u001b[0m \u001b[1;33m\u001b[0m\u001b[0m\n\u001b[0;32m   3951\u001b[0m         \u001b[1;32mreturn\u001b[0m \u001b[0marr\u001b[0m\u001b[1;33m.\u001b[0m\u001b[0mtranspose\u001b[0m\u001b[1;33m(\u001b[0m\u001b[1;33m)\u001b[0m \u001b[1;32mif\u001b[0m \u001b[0mtranspose\u001b[0m \u001b[1;32melse\u001b[0m \u001b[0marr\u001b[0m\u001b[1;33m\u001b[0m\u001b[1;33m\u001b[0m\u001b[0m\n",
      "\u001b[1;32m~\\AppData\\Local\\Continuum\\anaconda3\\lib\\site-packages\\pandas\\core\\internals.py\u001b[0m in \u001b[0;36m_interleave\u001b[1;34m(self)\u001b[0m\n\u001b[0;32m   3976\u001b[0m         \u001b[1;32mfor\u001b[0m \u001b[0mblk\u001b[0m \u001b[1;32min\u001b[0m \u001b[0mself\u001b[0m\u001b[1;33m.\u001b[0m\u001b[0mblocks\u001b[0m\u001b[1;33m:\u001b[0m\u001b[1;33m\u001b[0m\u001b[1;33m\u001b[0m\u001b[0m\n\u001b[0;32m   3977\u001b[0m             \u001b[0mrl\u001b[0m \u001b[1;33m=\u001b[0m \u001b[0mblk\u001b[0m\u001b[1;33m.\u001b[0m\u001b[0mmgr_locs\u001b[0m\u001b[1;33m\u001b[0m\u001b[1;33m\u001b[0m\u001b[0m\n\u001b[1;32m-> 3978\u001b[1;33m             \u001b[0mresult\u001b[0m\u001b[1;33m[\u001b[0m\u001b[0mrl\u001b[0m\u001b[1;33m.\u001b[0m\u001b[0mindexer\u001b[0m\u001b[1;33m]\u001b[0m \u001b[1;33m=\u001b[0m \u001b[0mblk\u001b[0m\u001b[1;33m.\u001b[0m\u001b[0mget_values\u001b[0m\u001b[1;33m(\u001b[0m\u001b[0mdtype\u001b[0m\u001b[1;33m)\u001b[0m\u001b[1;33m\u001b[0m\u001b[1;33m\u001b[0m\u001b[0m\n\u001b[0m\u001b[0;32m   3979\u001b[0m             \u001b[0mitemmask\u001b[0m\u001b[1;33m[\u001b[0m\u001b[0mrl\u001b[0m\u001b[1;33m.\u001b[0m\u001b[0mindexer\u001b[0m\u001b[1;33m]\u001b[0m \u001b[1;33m=\u001b[0m \u001b[1;36m1\u001b[0m\u001b[1;33m\u001b[0m\u001b[1;33m\u001b[0m\u001b[0m\n\u001b[0;32m   3980\u001b[0m \u001b[1;33m\u001b[0m\u001b[0m\n",
      "\u001b[1;31mKeyboardInterrupt\u001b[0m: "
     ]
    }
   ],
   "source": [
    "%%time\n",
    "test_scores = []\n",
    "train_sizes=np.linspace(5e-4,5e-3,10)\n",
    "\n",
    "for size in train_sizes:\n",
    "    sss = StratifiedShuffleSplit(n_splits=100,\n",
    "                                train_size = size,\n",
    "                                test_size = 1-size,\n",
    "                               )\n",
    "    test_scores.append(cross_val_score(estimator=clf,X=X,y=y,cv=sss,scoring=macro_avg_f1_scorer))\n",
    "\n",
    "plot_filled(np.array(test_scores), train_sizes*100, 'Percentage training data (%)')"
   ]
  },
  {
   "cell_type": "markdown",
   "metadata": {},
   "source": [
    "# Modeling "
   ]
  },
  {
   "cell_type": "code",
   "execution_count": 13,
   "metadata": {},
   "outputs": [],
   "source": [
    "# Example adapted from https://github.com/rasbt/python-machine-learning-book/blob/master/code/ch12/ch12.ipynb\n",
    "# Original Author: Sebastian Raschka\n",
    "\n",
    "# This is the optional book we use in the course, excellent intuitions and straightforward programming examples\n",
    "# please note, however, that this code has been manipulated to reflect our assumptions and notation.\n",
    "import numpy as np\n",
    "from scipy.special import expit\n",
    "import pandas as pd\n",
    "import sys\n",
    "\n",
    "# start with a simple base classifier, which can't be fit or predicted\n",
    "# it only has internal classes to be used by classes that will subclass it\n",
    "class TwoLayerPerceptronBase(object):\n",
    "    def __init__(self, n_hidden=30,\n",
    "                 C=0.0, epochs=500, eta=0.001, random_state=None,phi='sig',n_ner=2,cf='quad'):\n",
    "        np.random.seed(random_state)\n",
    "        self.n_hidden = n_hidden\n",
    "        self.l2_C = C\n",
    "        self.epochs = epochs\n",
    "        self.eta = eta\n",
    "        self.phi=phi\n",
    "        self.n_ner=n_ner\n",
    "        self.cf=cf\n",
    "        \n",
    "         # keep track of gradiants\n",
    "        self._grad = np.empty([self.n_ner, self.epochs])\n",
    "    \n",
    "    @staticmethod\n",
    "    def _encode_labels(y):\n",
    "        \"\"\"Encode labels into one-hot representation\"\"\"\n",
    "        onehot = pd.get_dummies(y).values.T\n",
    "            \n",
    "        return onehot\n",
    "\n",
    "    def _initialize_weights(self):\n",
    "        \"\"\"Initialize weights with small random numbers.\"\"\"\n",
    "        #W1_num_elems = (self.n_features_ + 1)*self.n_hidden\n",
    "        #W1 = np.random.uniform(-1.0, 1.0,size=W1_num_elems)\n",
    "        #W1 = W1.reshape(self.n_hidden, self.n_features_ + 1) # reshape to be W\n",
    "        \n",
    "        #W2_num_elems = (self.n_hidden + 1)*self.n_output_\n",
    "        #W2 = np.random.uniform(-1.0, 1.0, size=W2_num_elems)\n",
    "        #W2 = W2.reshape(self.n_output_, self.n_hidden + 1)\n",
    "\n",
    "        for i in range(self.n_ner):\n",
    "         if i==0:\n",
    "          vars()[\"W\" + str(i + 1) +\"_num_elems\"] = (self.n_features_ + 1)*self.n_hidden\n",
    "          vars()[\"W\" + str(i + 1)] = np.random.uniform(-1.0, 1.0,size=vars()[\"W\" + str(i + 1) +\"_num_elems\"])\n",
    "          vars()[\"W\" + str(i + 1)] = vars()[\"W\" + str(i+1)].reshape(self.n_hidden, self.n_features_ + 1) # reshape to be W \n",
    "\n",
    "         if i>0:\n",
    "          vars()[\"W\" + str(i + 1)+\"_num_elems\"] = (self.n_hidden + 1)*self.n_hidden\n",
    "          vars()[\"W\" + str(i + 1)] = np.random.uniform(-1.0, 1.0,size=vars()[\"W\" + str(i + 1)+\"_num_elems\"])\n",
    "          vars()[\"W\" + str(i + 1)] = vars()[\"W\" + str(i+1)].reshape(self.n_hidden, self.n_hidden + 1) # reshape to be W \n",
    "      \n",
    "         if i==(self.n_ner-1):\n",
    "          vars()[\"W\" + str(i + 1)+\"_num_elems\"] = (self.n_hidden + 1)*self.n_output_  \n",
    "          vars()[\"W\" + str(i + 1)] = np.random.uniform(-1.0, 1.0,size=vars()[\"W\" + str(i + 1)+\"_num_elems\"])\n",
    "          vars()[\"W\" + str(i + 1)] = vars()[\"W\" + str(i+1)].reshape(self.n_output_, self.n_hidden + 1)\n",
    "\n",
    "        return vars()\n",
    "    \n",
    "    @staticmethod\n",
    "    def _sigmoid(z,phi):\n",
    "        \"\"\"Use scipy.special.expit to avoid overflow\"\"\"\n",
    "        # 1.0 / (1.0 + np.exp(-z))\n",
    "        if phi=='sig': \n",
    "         return expit(z)\n",
    "        if phi=='lin': \n",
    "         return z\n",
    "        if phi=='silu': \n",
    "         return expit(z)*z\n",
    "        if phi=='relu': \n",
    "         bol= z>=0  \n",
    "         #z=bol*z\n",
    "         return np.maximum(0,z.copy())\n",
    "    \n",
    "    @staticmethod\n",
    "    def _add_bias_unit(X, how='column'):\n",
    "        \"\"\"Add bias unit (column or row of 1s) to array at index 0\"\"\"\n",
    "        if how == 'column':\n",
    "            ones = np.ones((X.shape[0], 1))\n",
    "            X_new = np.hstack((ones, X))\n",
    "        elif how == 'row':\n",
    "            ones = np.ones((1, X.shape[1]))\n",
    "            X_new = np.vstack((ones, X))\n",
    "        return X_new\n",
    "    \n",
    "    @staticmethod\n",
    "    def _L2_reg(lambda_, W,n):\n",
    "        \"\"\"Compute L2-regularization cost\"\"\"\n",
    "        # only compute for non-bias terms\n",
    "        W_sum=0\n",
    "        for i in range(n):\n",
    "         W_sum=np.mean(W['W'+str(i+1)][:, 1:] ** 2)+W_sum\n",
    "            \n",
    "        sqr=np.sqrt(W_sum)\n",
    "        return (lambda_/2.0) *sqr\n",
    "    \n",
    "    def _cost(self,Al,Y_enc,W):\n",
    "        '''Get the objective function value'''\n",
    "        cost = np.mean((Y_enc-Al)**2)\n",
    "        L2_term = self._L2_reg(self.l2_C, W,self.n_ner)\n",
    "        return cost + L2_term\n",
    "    \n",
    "    def _feedforward(self, X, W, n_ner):\n",
    "        \"\"\"Compute feedforward step\n",
    "        \"\"\" \n",
    "    # for i in range(5):\n",
    "     #   n = 1\n",
    "      #  globals()[\"A\" + str(i + 1)] = a + b\n",
    "       # print(globals()[\"Temp\" + str(i + 1)])\n",
    "        #n = n + 1\n",
    "        #A1 = self._add_bias_unit(X, how='column')\n",
    "        #A1 = A1.T\n",
    "       # Z1 = W1 @ A1\n",
    "        #A2 = self._sigmoid(Z1,self.phi)\n",
    "        #A2 = self._add_bias_unit(A2, how='row')\n",
    "        #Z2 = W2 @ A2\n",
    "        #A3 = self._sigmoid(Z2,'sig')  nl=3\n",
    "  \n",
    "        for i in range(self.n_ner+1):\n",
    "         if i==0:   \n",
    "          vars()[\"A\"+str(i+1)]=self._add_bias_unit(X, how='column')\n",
    "          vars()[\"A\"+str(i+1)]=vars()[\"A\"+str(i+1)].T\n",
    "          vars()[\"Z\"+str(i+1)]=W[\"W\"+str(i+1)] @ vars()[\"A\"+str(i+1)]\n",
    "          #print(\"A\"+str(i+1))\n",
    "          #print(vars()[\"A\"+str(i+1)])\n",
    "         if (i>0) and i<(self.n_ner):\n",
    "          vars()[\"A\"+str(i+1)]=self._sigmoid(vars()[\"Z\"+str(i)],self.phi)\n",
    "          vars()[\"A\"+str(i+1)]=self._add_bias_unit(vars()[\"A\"+str(i+1)], how='row')\n",
    "          vars()[\"Z\"+str(i+1)]=W[\"W\"+str(i+1)]@vars()[\"A\"+str(i+1)]\n",
    "          #print(\"A\"+str(i+1))\n",
    "          #print(vars()[\"A\"+str(i+1)])\n",
    "         if i==(self.n_ner):\n",
    "          vars()[\"A\"+str(i+1)]=self._sigmoid(vars()[\"Z\"+str(i)],'sig')\n",
    "          #print(\"A\"+str(i+1))\n",
    "          #print(vars()[\"A\"+str(i+1)])\n",
    "        \n",
    "        return vars()\n",
    "    def _div(b,A_,phi):\n",
    "     \n",
    "        if phi=='sig':   \n",
    "         return A_*(1-A_)\n",
    "        if phi=='lin':     \n",
    "         return 1\n",
    "        if phi=='silu':\n",
    "         return (expit(A_)*A_)+(expit(A_)*(1-expit(A_)*A_))\n",
    "        if phi=='relu': \n",
    "         bol= A_>=0   \n",
    "         return 1  \n",
    "    \n",
    "    def _get_gradient(self, F, Y_enc, W):\n",
    "        \"\"\" Compute gradient step using backpropagation.\n",
    "        \"\"\"\n",
    "        # vectorized backpropagation\n",
    "        #Z1_with_bias = self._add_bias_unit(Z1,how='row')\n",
    "        #Z2_with_bias = self._add_bias_unit(Z2,how='row')\n",
    "        #V2 = -2*(Y_enc-A3)*self._div(A3,self.phi) # last layer sensitivity\n",
    "        #V1 = self._div(A2,self.phi)*(W2.T @ V2) # back prop the sensitivity \n",
    "    \n",
    "        #grad2 = V2 @ A2.T # no bias on final layer\n",
    "        #grad1 = V1[1:,:] @ A1.T # dont back prop sensitivity of bias\n",
    "        if self.cf==\"quad\": \n",
    "         vars()['V'+str(self.n_ner)] = -2*(Y_enc-F[\"A\"+str(self.n_ner+1)])*self._div(F[\"A\"+str(self.n_ner+1)],'sig')\n",
    "         #if self.phi=='relu': \n",
    "         # vars()['V'+str(self.n_ner)][F[\"Z\"+str(self.n_ner)]<=0] = 0 \n",
    "         \n",
    "       \n",
    "        if self.cf==\"ce\": \n",
    "         vars()['V'+str(self.n_ner)] = -2*(Y_enc-F[\"A\"+str(self.n_ner+1)])\n",
    "         \n",
    "        vars()['grad'+str(self.n_ner)] = vars()['V'+str(self.n_ner)] @ F[\"A\"+str(self.n_ner)].T    \n",
    "\n",
    "        vars()['grad'+str(self.n_ner)][:, 1:] += W[\"W\"+str(self.n_ner)][:, 1:] * self.l2_C\n",
    "        \n",
    "        for i in range(self.n_ner-1):\n",
    "         l=self.n_ner-1-i # l=4-->1\n",
    "         if l==self.n_ner-1:\n",
    "          \n",
    "          vars()[\"Z\"+str(l)+\"_with_bias\"] = self._add_bias_unit(F[\"Z\"+str(l)],how='row')\n",
    "          \n",
    "          vars()['V'+str(l)] = self._div(F[\"A\"+str(l+1)],self.phi)*(W[\"W\"+str(l+1)].T @ vars()['V'+str(l+1)])\n",
    "          if self.phi=='relu':\n",
    "           vars()['V'+str(l)][vars()[\"Z\"+str(l)+\"_with_bias\"]<=0] = 0\n",
    "         if l!=self.n_ner-1:\n",
    "          \n",
    "          vars()[\"Z\"+str(l)+\"_with_bias\"] = self._add_bias_unit(F[\"Z\"+str(l)],how='row')\n",
    "          vars()['V'+str(l)] = self._div(F[\"A\"+str(l+1)],self.phi)*(W[\"W\"+str(l+1)].T @ vars()['V'+str(l+1)][1:, :]) \n",
    "          if self.phi=='relu':\n",
    "           vars()['V'+str(l)][vars()[\"Z\"+str(l)+\"_with_bias\"]<=0] = 0\n",
    "         \n",
    "        \n",
    "         vars()['grad'+str(l)]=vars()['V'+str(l)][1:,:]  @ F[\"A\"+str(l)].T\n",
    "      \n",
    "    \n",
    "         vars()['grad'+str(l)][:, 1:] += W[\"W\"+str(l)][:, 1:] * self.l2_C\n",
    "        # regularize weights that are not bias terms\n",
    "        #grad1[:, 1:] += W1[:, 1:] * self.l2_C\n",
    "        #grad2[:, 1:] += W2[:, 1:] * self.l2_C\n",
    "        \n",
    "        \n",
    "        return vars()\n",
    "    \n",
    "    def predict(self, X):\n",
    "        \"\"\"Predict class labels\"\"\"\n",
    "        p = self._feedforward(X, self.W,self.n_ner)\n",
    "        #print(p[\"A\"+str(self.n_ner+1)])\n",
    "        \n",
    "        y_pred = np.argmax(p[\"A\"+str(self.n_ner+1)], axis=0)\n",
    "        return y_pred"
   ]
  },
  {
   "cell_type": "code",
   "execution_count": 71,
   "metadata": {},
   "outputs": [],
   "source": [
    "from sklearn.metrics import accuracy_score\n",
    "# just start with the vectorized version and minibatch\n",
    "class TLPMiniBatch(TwoLayerPerceptronBase):\n",
    "    def __init__(self, alpha=0.0, decrease_const=0.0, shuffle=True, \n",
    "                 minibatches=1, **kwds):        \n",
    "        # need to add to the original initializer \n",
    "        self.alpha = alpha\n",
    "        self.decrease_const = decrease_const\n",
    "        self.shuffle = shuffle\n",
    "        self.minibatches = minibatches\n",
    "        \n",
    "        \n",
    "        \n",
    "        # but keep other keywords\n",
    "        super().__init__(**kwds)\n",
    "        \n",
    "    \n",
    "    def fit(self, X, y, print_progress=False):\n",
    "        \"\"\" Learn weights from training data. With mini-batch\"\"\"\n",
    "        X_data, y_data = X.copy(), y.copy()\n",
    "        Y_enc = self._encode_labels(y)\n",
    "        \n",
    "        # init weights and setup matrices\n",
    "        self.n_features_ = X_data.shape[1]\n",
    "        self.n_output_ = Y_enc.shape[0]\n",
    "      \n",
    "          #self.vars()[\"W\" + str(i + 1)]= self._initialize_weights(i)\n",
    "        self.W=self._initialize_weights()\n",
    "        \n",
    "          #print(self.W['W1'])\n",
    "        for i in range(self.n_ner):\n",
    "         vars()[\"delta_W\"+str(i + 1)+\"_prev\"] = np.zeros(self.W[\"W\" + str(i + 1)].shape)\n",
    "        #delta_W2_prev = np.zeros(self.W[2].shape)\n",
    "\n",
    "        self.cost_ = []\n",
    "        self.score_ = []\n",
    "        # get starting acc\n",
    "        self.score_.append(accuracy_score(y_data,self.predict(X_data)))\n",
    "        for i in range(self.epochs):\n",
    "\n",
    "            # adaptive learning rate\n",
    "            self.eta /= (1 + self.decrease_const*i)\n",
    "\n",
    "            if print_progress>0 and (i+1)%print_progress==0:\n",
    "                sys.stderr.write('\\rEpoch: %d/%d' % (i+1, self.epochs))\n",
    "                sys.stderr.flush()\n",
    "\n",
    "            if self.shuffle:\n",
    "                idx_shuffle = np.random.permutation(y_data.shape[0])\n",
    "                X_data, Y_enc, y_data = X_data[idx_shuffle], Y_enc[:, idx_shuffle], y_data[idx_shuffle]\n",
    "\n",
    "            mini = np.array_split(range(y_data.shape[0]), self.minibatches)\n",
    "            mini_cost = []\n",
    "            for idx in mini:\n",
    "\n",
    "                # feedforward\n",
    "             \n",
    "                F = self._feedforward(X_data[idx],self.W,self.n_ner)\n",
    "                                                      \n",
    "                              # F[\"A\"+str(self.n_ner+1)]                     \n",
    "                \n",
    "                cost = self._cost(F[\"A\"+str(self.n_ner+1)],Y_enc[:, idx],self.W)\n",
    "                mini_cost.append(cost) # this appends cost of mini-batch only\n",
    "\n",
    "                # compute gradient via backpropagation\n",
    "                grad= self._get_gradient(F= F, \n",
    "                                                  Y_enc=Y_enc[:, idx],\n",
    "                                                  W=self.W)\n",
    "                \n",
    "                \n",
    "                \n",
    "                # momentum calculations\n",
    "                for i in range(self.n_ner):\n",
    "                 #delta_W1, delta_W2 = self.eta * grad1, self.eta * grad2\n",
    "                 #self.W1 -= (delta_W1 + (self.alpha * delta_W1_prev))\n",
    "                 #self.W2 -= (delta_W2 + (self.alpha * delta_W2_prev))\n",
    "                 #delta_W1_prev, delta_W2_prev = delta_W1, delta_W2\n",
    "                 vars()[\"delta_W\"+str(i + 1)] = self.eta * grad[\"grad\"+str(i + 1)]\n",
    "                 self.W[\"W\"+str(i + 1)] -=(vars()[\"delta_W\"+str(i + 1)]+ (self.alpha * vars()[\"delta_W\"+str(i + 1)+\"_prev\"]))\n",
    "                 vars()[\"delta_W\"+str(i + 1)+\"_prev\"]=vars()[\"delta_W\"+str(i + 1)]  \n",
    "            # get gradiants for visualization    \n",
    "            np.append(self._grad, [(grad[key].mean() for key in grad.keys() if re.match(\"grad[0-9]\", grad[key]))])    \n",
    "            self.cost_.append(mini_cost)\n",
    "            self.score_.append(accuracy_score(y_data,self.predict(X_data)))\n",
    "            \n",
    "        return self"
   ]
  },
  {
   "cell_type": "code",
   "execution_count": 85,
   "metadata": {
    "scrolled": false
   },
   "outputs": [
    {
     "name": "stdout",
     "output_type": "stream",
     "text": [
      "Accuracy: 0.6106130772825764\n",
      "Wall time: 7.7 s\n"
     ]
    }
   ],
   "source": [
    "%%time\n",
    "params = dict(n_hidden=100, \n",
    "              C=.0001, # tradeoff L2 regularizer\n",
    "              epochs=10, # iterations\n",
    "              eta=0.001,  # learning rate\n",
    "              random_state=1,\n",
    "              phi='sig',n_ner=4,cf='ce')\n",
    "nn_mini = TLPMiniBatch(**params,\n",
    "                          alpha=0.01,# momentum calculation\n",
    "                          decrease_const=0.001, # decreasing eta\n",
    "                          minibatches=50, # minibatch size\n",
    "                          shuffle=True)\n",
    "\n",
    "    \n",
    "nn_mini.fit(x_train_ar, y_target_ar, print_progress=50)\n",
    "yhat = nn_mini.predict(x_train_ar)\n",
    "print('Accuracy:',accuracy_score(y_target_ar,yhat))"
   ]
  },
  {
   "cell_type": "code",
   "execution_count": 91,
   "metadata": {},
   "outputs": [
    {
     "data": {
      "text/plain": [
       "[<matplotlib.lines.Line2D at 0x2c467137b00>]"
      ]
     },
     "execution_count": 91,
     "metadata": {},
     "output_type": "execute_result"
    },
    {
     "data": {
      "image/png": "[encoded data removed]",
      "text/plain": [
       "<Figure size 432x288 with 1 Axes>"
      ]
     },
     "metadata": {
      "needs_background": "light"
     },
     "output_type": "display_data"
    }
   ],
   "source": [
    "plt.plot(nn_mini._grad[3, :]*1e300)"
   ]
  },
  {
   "cell_type": "code",
   "execution_count": 161,
   "metadata": {
    "scrolled": false
   },
   "outputs": [
    {
     "name": "stdout",
     "output_type": "stream",
     "text": [
      "TRAIN: (26479,) TEST: (2943,)\n"
     ]
    },
    {
     "ename": "TypeError",
     "evalue": "__call__() missing 1 required positional argument: 'y_true'",
     "output_type": "error",
     "traceback": [
      "\u001b[1;31m---------------------------------------------------------------------------\u001b[0m",
      "\u001b[1;31mTypeError\u001b[0m                                 Traceback (most recent call last)",
      "\u001b[1;32m<ipython-input-161-9b842d2cf566>\u001b[0m in \u001b[0;36m<module>\u001b[1;34m\u001b[0m\n\u001b[0;32m     29\u001b[0m             \u001b[0myhat\u001b[0m \u001b[1;33m=\u001b[0m \u001b[0mnn_mini\u001b[0m\u001b[1;33m.\u001b[0m\u001b[0mpredict\u001b[0m\u001b[1;33m(\u001b[0m\u001b[0mX_test\u001b[0m\u001b[1;33m)\u001b[0m\u001b[1;33m\u001b[0m\u001b[1;33m\u001b[0m\u001b[0m\n\u001b[0;32m     30\u001b[0m             \u001b[0mmodels\u001b[0m\u001b[1;33m.\u001b[0m\u001b[0mappend\u001b[0m\u001b[1;33m(\u001b[0m\u001b[0mnn_mini\u001b[0m\u001b[1;33m)\u001b[0m\u001b[1;33m\u001b[0m\u001b[1;33m\u001b[0m\u001b[0m\n\u001b[1;32m---> 31\u001b[1;33m             \u001b[0mprint\u001b[0m\u001b[1;33m(\u001b[0m\u001b[1;34m'Accuracy of {} layers, objective function of {}, and phi of {}: '\u001b[0m\u001b[1;33m.\u001b[0m\u001b[0mformat\u001b[0m\u001b[1;33m(\u001b[0m\u001b[0mlayer\u001b[0m\u001b[1;33m,\u001b[0m \u001b[0mobj\u001b[0m\u001b[1;33m,\u001b[0m \u001b[0mphi\u001b[0m\u001b[1;33m)\u001b[0m\u001b[1;33m,\u001b[0m\u001b[0mmacro_avg_f1_scorer\u001b[0m\u001b[1;33m(\u001b[0m\u001b[0my_test\u001b[0m\u001b[1;33m,\u001b[0m\u001b[0myhat\u001b[0m\u001b[1;33m)\u001b[0m\u001b[1;33m)\u001b[0m\u001b[1;33m\u001b[0m\u001b[1;33m\u001b[0m\u001b[0m\n\u001b[0m\u001b[0;32m     32\u001b[0m \u001b[1;33m\u001b[0m\u001b[0m\n",
      "\u001b[1;31mTypeError\u001b[0m: __call__() missing 1 required positional argument: 'y_true'"
     ]
    }
   ],
   "source": [
    "#%%time\n",
    "# loop through tests\n",
    "\n",
    "layers = [2, 3, 4]\n",
    "objs = ['quad', 'ce']\n",
    "phis = ['lin', 'sig']\n",
    "\n",
    "models = []\n",
    "sss=StratifiedShuffleSplit(n_splits=3, random_state=1)\n",
    "for train_index, test_index in sss.split(x_ar, y_ar):\n",
    " print(\"TRAIN:\", train_index.shape, \"TEST:\", test_index.shape)\n",
    " X_train, X_test = x_ar[train_index], x_ar[test_index]\n",
    " y_train, y_test = y_ar[train_index], y_ar[test_index]\n",
    " for layer in layers:\n",
    "    for obj in objs:\n",
    "        for phi in phis:\n",
    "            params = dict(n_hidden=50, \n",
    "                  C=.0001, # tradeoff L2 regularizer\n",
    "                  epochs=5, # iterations\n",
    "                  eta=0.001,  # learning rate\n",
    "                  random_state=1,\n",
    "                  phi=phi, n_ner=layer, cf=obj)\n",
    "            nn_mini = TLPMiniBatch(**params,\n",
    "                                    alpha=0.001,# momentum calculation\n",
    "                                    decrease_const=0.0001, # decreasing eta\n",
    "                                    minibatches=50, # minibatch size\n",
    "                                    shuffle=True)\n",
    "            nn_mini.fit(X_train, y_train, print_progress=50)\n",
    "            yhat = nn_mini.predict(X_test)\n",
    "            models.append(nn_mini)\n",
    "            print('Accuracy of {} layers, objective function of {}, and phi of {}: '.format(layer, obj, phi),accuracy_score(y_test,yhat))\n",
    "        "
   ]
  },
  {
   "cell_type": "code",
   "execution_count": 156,
   "metadata": {
    "scrolled": true
   },
   "outputs": [
    {
     "name": "stdout",
     "output_type": "stream",
     "text": [
      "TRAIN: (26479,) TEST: (2943,)\n",
      "TRAIN: (26479,) TEST: (2943,)\n",
      "TRAIN: (26479,) TEST: (2943,)\n"
     ]
    }
   ],
   "source": [
    "sss=StratifiedShuffleSplit(n_splits=3, random_state=1)\n",
    "for train_index, test_index in sss.split(x_ar, y_ar):\n",
    "    print(\"TRAIN:\", train_index.shape, \"TEST:\", test_index.shape)\n",
    "    X_train, X_test = x_ar[train_index], x_ar[test_index]\n",
    "    y_train, y_test = y_ar[train_index], y_ar[test_index]"
   ]
  },
  {
   "cell_type": "code",
   "execution_count": 164,
   "metadata": {},
   "outputs": [
    {
     "ename": "TypeError",
     "evalue": "Cannot clone object '<__main__.TLPMiniBatch object at 0x000002C400CD59B0>' (type <class '__main__.TLPMiniBatch'>): it does not seem to be a scikit-learn estimator as it does not implement a 'get_params' methods.",
     "output_type": "error",
     "traceback": [
      "\u001b[1;31m---------------------------------------------------------------------------\u001b[0m",
      "\u001b[1;31mTypeError\u001b[0m                                 Traceback (most recent call last)",
      "\u001b[1;32m<ipython-input-164-aeef5800c7d1>\u001b[0m in \u001b[0;36m<module>\u001b[1;34m\u001b[0m\n\u001b[0;32m      3\u001b[0m                                     \u001b[0my\u001b[0m\u001b[1;33m=\u001b[0m\u001b[0my_ar\u001b[0m\u001b[1;33m,\u001b[0m\u001b[1;33m\u001b[0m\u001b[1;33m\u001b[0m\u001b[0m\n\u001b[0;32m      4\u001b[0m                                     \u001b[0mcv\u001b[0m\u001b[1;33m=\u001b[0m\u001b[0msss\u001b[0m\u001b[1;33m,\u001b[0m\u001b[1;33m\u001b[0m\u001b[1;33m\u001b[0m\u001b[0m\n\u001b[1;32m----> 5\u001b[1;33m                                     \u001b[0mscoring\u001b[0m\u001b[1;33m=\u001b[0m\u001b[0mmacro_avg_f1_scorer\u001b[0m\u001b[1;33m\u001b[0m\u001b[1;33m\u001b[0m\u001b[0m\n\u001b[0m\u001b[0;32m      6\u001b[0m                                    )\n",
      "\u001b[1;32m~\\AppData\\Local\\Continuum\\anaconda3\\lib\\site-packages\\sklearn\\model_selection\\_validation.py\u001b[0m in \u001b[0;36mcross_val_score\u001b[1;34m(estimator, X, y, groups, scoring, cv, n_jobs, verbose, fit_params, pre_dispatch, error_score)\u001b[0m\n\u001b[0;32m    400\u001b[0m                                 \u001b[0mfit_params\u001b[0m\u001b[1;33m=\u001b[0m\u001b[0mfit_params\u001b[0m\u001b[1;33m,\u001b[0m\u001b[1;33m\u001b[0m\u001b[1;33m\u001b[0m\u001b[0m\n\u001b[0;32m    401\u001b[0m                                 \u001b[0mpre_dispatch\u001b[0m\u001b[1;33m=\u001b[0m\u001b[0mpre_dispatch\u001b[0m\u001b[1;33m,\u001b[0m\u001b[1;33m\u001b[0m\u001b[1;33m\u001b[0m\u001b[0m\n\u001b[1;32m--> 402\u001b[1;33m                                 error_score=error_score)\n\u001b[0m\u001b[0;32m    403\u001b[0m     \u001b[1;32mreturn\u001b[0m \u001b[0mcv_results\u001b[0m\u001b[1;33m[\u001b[0m\u001b[1;34m'test_score'\u001b[0m\u001b[1;33m]\u001b[0m\u001b[1;33m\u001b[0m\u001b[1;33m\u001b[0m\u001b[0m\n\u001b[0;32m    404\u001b[0m \u001b[1;33m\u001b[0m\u001b[0m\n",
      "\u001b[1;32m~\\AppData\\Local\\Continuum\\anaconda3\\lib\\site-packages\\sklearn\\model_selection\\_validation.py\u001b[0m in \u001b[0;36mcross_validate\u001b[1;34m(estimator, X, y, groups, scoring, cv, n_jobs, verbose, fit_params, pre_dispatch, return_train_score, return_estimator, error_score)\u001b[0m\n\u001b[0;32m    238\u001b[0m             \u001b[0mreturn_times\u001b[0m\u001b[1;33m=\u001b[0m\u001b[1;32mTrue\u001b[0m\u001b[1;33m,\u001b[0m \u001b[0mreturn_estimator\u001b[0m\u001b[1;33m=\u001b[0m\u001b[0mreturn_estimator\u001b[0m\u001b[1;33m,\u001b[0m\u001b[1;33m\u001b[0m\u001b[1;33m\u001b[0m\u001b[0m\n\u001b[0;32m    239\u001b[0m             error_score=error_score)\n\u001b[1;32m--> 240\u001b[1;33m         for train, test in cv.split(X, y, groups))\n\u001b[0m\u001b[0;32m    241\u001b[0m \u001b[1;33m\u001b[0m\u001b[0m\n\u001b[0;32m    242\u001b[0m     \u001b[0mzipped_scores\u001b[0m \u001b[1;33m=\u001b[0m \u001b[0mlist\u001b[0m\u001b[1;33m(\u001b[0m\u001b[0mzip\u001b[0m\u001b[1;33m(\u001b[0m\u001b[1;33m*\u001b[0m\u001b[0mscores\u001b[0m\u001b[1;33m)\u001b[0m\u001b[1;33m)\u001b[0m\u001b[1;33m\u001b[0m\u001b[1;33m\u001b[0m\u001b[0m\n",
      "\u001b[1;32m~\\AppData\\Local\\Continuum\\anaconda3\\lib\\site-packages\\sklearn\\externals\\joblib\\parallel.py\u001b[0m in \u001b[0;36m__call__\u001b[1;34m(self, iterable)\u001b[0m\n\u001b[0;32m    915\u001b[0m             \u001b[1;31m# remaining jobs.\u001b[0m\u001b[1;33m\u001b[0m\u001b[1;33m\u001b[0m\u001b[1;33m\u001b[0m\u001b[0m\n\u001b[0;32m    916\u001b[0m             \u001b[0mself\u001b[0m\u001b[1;33m.\u001b[0m\u001b[0m_iterating\u001b[0m \u001b[1;33m=\u001b[0m \u001b[1;32mFalse\u001b[0m\u001b[1;33m\u001b[0m\u001b[1;33m\u001b[0m\u001b[0m\n\u001b[1;32m--> 917\u001b[1;33m             \u001b[1;32mif\u001b[0m \u001b[0mself\u001b[0m\u001b[1;33m.\u001b[0m\u001b[0mdispatch_one_batch\u001b[0m\u001b[1;33m(\u001b[0m\u001b[0miterator\u001b[0m\u001b[1;33m)\u001b[0m\u001b[1;33m:\u001b[0m\u001b[1;33m\u001b[0m\u001b[1;33m\u001b[0m\u001b[0m\n\u001b[0m\u001b[0;32m    918\u001b[0m                 \u001b[0mself\u001b[0m\u001b[1;33m.\u001b[0m\u001b[0m_iterating\u001b[0m \u001b[1;33m=\u001b[0m \u001b[0mself\u001b[0m\u001b[1;33m.\u001b[0m\u001b[0m_original_iterator\u001b[0m \u001b[1;32mis\u001b[0m \u001b[1;32mnot\u001b[0m \u001b[1;32mNone\u001b[0m\u001b[1;33m\u001b[0m\u001b[1;33m\u001b[0m\u001b[0m\n\u001b[0;32m    919\u001b[0m \u001b[1;33m\u001b[0m\u001b[0m\n",
      "\u001b[1;32m~\\AppData\\Local\\Continuum\\anaconda3\\lib\\site-packages\\sklearn\\externals\\joblib\\parallel.py\u001b[0m in \u001b[0;36mdispatch_one_batch\u001b[1;34m(self, iterator)\u001b[0m\n\u001b[0;32m    752\u001b[0m             tasks = BatchedCalls(itertools.islice(iterator, batch_size),\n\u001b[0;32m    753\u001b[0m                                  \u001b[0mself\u001b[0m\u001b[1;33m.\u001b[0m\u001b[0m_backend\u001b[0m\u001b[1;33m.\u001b[0m\u001b[0mget_nested_backend\u001b[0m\u001b[1;33m(\u001b[0m\u001b[1;33m)\u001b[0m\u001b[1;33m,\u001b[0m\u001b[1;33m\u001b[0m\u001b[1;33m\u001b[0m\u001b[0m\n\u001b[1;32m--> 754\u001b[1;33m                                  self._pickle_cache)\n\u001b[0m\u001b[0;32m    755\u001b[0m             \u001b[1;32mif\u001b[0m \u001b[0mlen\u001b[0m\u001b[1;33m(\u001b[0m\u001b[0mtasks\u001b[0m\u001b[1;33m)\u001b[0m \u001b[1;33m==\u001b[0m \u001b[1;36m0\u001b[0m\u001b[1;33m:\u001b[0m\u001b[1;33m\u001b[0m\u001b[1;33m\u001b[0m\u001b[0m\n\u001b[0;32m    756\u001b[0m                 \u001b[1;31m# No more tasks available in the iterator: tell caller to stop.\u001b[0m\u001b[1;33m\u001b[0m\u001b[1;33m\u001b[0m\u001b[1;33m\u001b[0m\u001b[0m\n",
      "\u001b[1;32m~\\AppData\\Local\\Continuum\\anaconda3\\lib\\site-packages\\sklearn\\externals\\joblib\\parallel.py\u001b[0m in \u001b[0;36m__init__\u001b[1;34m(self, iterator_slice, backend_and_jobs, pickle_cache)\u001b[0m\n\u001b[0;32m    208\u001b[0m \u001b[1;33m\u001b[0m\u001b[0m\n\u001b[0;32m    209\u001b[0m     \u001b[1;32mdef\u001b[0m \u001b[0m__init__\u001b[0m\u001b[1;33m(\u001b[0m\u001b[0mself\u001b[0m\u001b[1;33m,\u001b[0m \u001b[0miterator_slice\u001b[0m\u001b[1;33m,\u001b[0m \u001b[0mbackend_and_jobs\u001b[0m\u001b[1;33m,\u001b[0m \u001b[0mpickle_cache\u001b[0m\u001b[1;33m=\u001b[0m\u001b[1;32mNone\u001b[0m\u001b[1;33m)\u001b[0m\u001b[1;33m:\u001b[0m\u001b[1;33m\u001b[0m\u001b[1;33m\u001b[0m\u001b[0m\n\u001b[1;32m--> 210\u001b[1;33m         \u001b[0mself\u001b[0m\u001b[1;33m.\u001b[0m\u001b[0mitems\u001b[0m \u001b[1;33m=\u001b[0m \u001b[0mlist\u001b[0m\u001b[1;33m(\u001b[0m\u001b[0miterator_slice\u001b[0m\u001b[1;33m)\u001b[0m\u001b[1;33m\u001b[0m\u001b[1;33m\u001b[0m\u001b[0m\n\u001b[0m\u001b[0;32m    211\u001b[0m         \u001b[0mself\u001b[0m\u001b[1;33m.\u001b[0m\u001b[0m_size\u001b[0m \u001b[1;33m=\u001b[0m \u001b[0mlen\u001b[0m\u001b[1;33m(\u001b[0m\u001b[0mself\u001b[0m\u001b[1;33m.\u001b[0m\u001b[0mitems\u001b[0m\u001b[1;33m)\u001b[0m\u001b[1;33m\u001b[0m\u001b[1;33m\u001b[0m\u001b[0m\n\u001b[0;32m    212\u001b[0m         \u001b[1;32mif\u001b[0m \u001b[0misinstance\u001b[0m\u001b[1;33m(\u001b[0m\u001b[0mbackend_and_jobs\u001b[0m\u001b[1;33m,\u001b[0m \u001b[0mtuple\u001b[0m\u001b[1;33m)\u001b[0m\u001b[1;33m:\u001b[0m\u001b[1;33m\u001b[0m\u001b[1;33m\u001b[0m\u001b[0m\n",
      "\u001b[1;32m~\\AppData\\Local\\Continuum\\anaconda3\\lib\\site-packages\\sklearn\\model_selection\\_validation.py\u001b[0m in \u001b[0;36m<genexpr>\u001b[1;34m(.0)\u001b[0m\n\u001b[0;32m    238\u001b[0m             \u001b[0mreturn_times\u001b[0m\u001b[1;33m=\u001b[0m\u001b[1;32mTrue\u001b[0m\u001b[1;33m,\u001b[0m \u001b[0mreturn_estimator\u001b[0m\u001b[1;33m=\u001b[0m\u001b[0mreturn_estimator\u001b[0m\u001b[1;33m,\u001b[0m\u001b[1;33m\u001b[0m\u001b[1;33m\u001b[0m\u001b[0m\n\u001b[0;32m    239\u001b[0m             error_score=error_score)\n\u001b[1;32m--> 240\u001b[1;33m         for train, test in cv.split(X, y, groups))\n\u001b[0m\u001b[0;32m    241\u001b[0m \u001b[1;33m\u001b[0m\u001b[0m\n\u001b[0;32m    242\u001b[0m     \u001b[0mzipped_scores\u001b[0m \u001b[1;33m=\u001b[0m \u001b[0mlist\u001b[0m\u001b[1;33m(\u001b[0m\u001b[0mzip\u001b[0m\u001b[1;33m(\u001b[0m\u001b[1;33m*\u001b[0m\u001b[0mscores\u001b[0m\u001b[1;33m)\u001b[0m\u001b[1;33m)\u001b[0m\u001b[1;33m\u001b[0m\u001b[1;33m\u001b[0m\u001b[0m\n",
      "\u001b[1;32m~\\AppData\\Local\\Continuum\\anaconda3\\lib\\site-packages\\sklearn\\base.py\u001b[0m in \u001b[0;36mclone\u001b[1;34m(estimator, safe)\u001b[0m\n\u001b[0;32m     56\u001b[0m                             \u001b[1;34m\"it does not seem to be a scikit-learn estimator \"\u001b[0m\u001b[1;33m\u001b[0m\u001b[1;33m\u001b[0m\u001b[0m\n\u001b[0;32m     57\u001b[0m                             \u001b[1;34m\"as it does not implement a 'get_params' methods.\"\u001b[0m\u001b[1;33m\u001b[0m\u001b[1;33m\u001b[0m\u001b[0m\n\u001b[1;32m---> 58\u001b[1;33m                             % (repr(estimator), type(estimator)))\n\u001b[0m\u001b[0;32m     59\u001b[0m     \u001b[0mklass\u001b[0m \u001b[1;33m=\u001b[0m \u001b[0mestimator\u001b[0m\u001b[1;33m.\u001b[0m\u001b[0m__class__\u001b[0m\u001b[1;33m\u001b[0m\u001b[1;33m\u001b[0m\u001b[0m\n\u001b[0;32m     60\u001b[0m     \u001b[0mnew_object_params\u001b[0m \u001b[1;33m=\u001b[0m \u001b[0mestimator\u001b[0m\u001b[1;33m.\u001b[0m\u001b[0mget_params\u001b[0m\u001b[1;33m(\u001b[0m\u001b[0mdeep\u001b[0m\u001b[1;33m=\u001b[0m\u001b[1;32mFalse\u001b[0m\u001b[1;33m)\u001b[0m\u001b[1;33m\u001b[0m\u001b[1;33m\u001b[0m\u001b[0m\n",
      "\u001b[1;31mTypeError\u001b[0m: Cannot clone object '<__main__.TLPMiniBatch object at 0x000002C400CD59B0>' (type <class '__main__.TLPMiniBatch'>): it does not seem to be a scikit-learn estimator as it does not implement a 'get_params' methods."
     ]
    }
   ],
   "source": [
    "per_fold_eval_criteria = cross_val_score(estimator=nn_mini,\n",
    "                                    X=x_ar,\n",
    "                                    y=y_ar,\n",
    "                                    cv=sss,\n",
    "                                    scoring=macro_avg_f1_scorer\n",
    "                                   )"
   ]
  },
  {
   "cell_type": "code",
   "execution_count": 131,
   "metadata": {},
   "outputs": [
    {
     "data": {
      "image/png": "[encoded data removed]",
      "text/plain": [
       "<Figure size 432x288 with 1 Axes>"
      ]
     },
     "metadata": {
      "needs_background": "light"
     },
     "output_type": "display_data"
    }
   ],
   "source": [
    "ax = plt.subplot(1,1,1)\n",
    "xa = np.arange(1, nn_mini.epochs)\n",
    "for i in range(nn_mini._grad.shape[0]):\n",
    "    plt.plot(models[9]._grad[i,:], label=\"layer {}\".format(i+1))\n",
    "plt.legend()\n",
    "plt.ylabel('Average Gradient magnitude x 10e300')\n",
    "plt.xlabel('Iteration')\n",
    "ax.relim()\n",
    "ax.autoscale_view()\n",
    "plt.show()"
   ]
  },
  {
   "cell_type": "code",
   "execution_count": null,
   "metadata": {},
   "outputs": [],
   "source": [
    "# lets load up the handwritten digit dataset\n",
    "from sklearn.datasets import load_digits\n",
    "from sklearn.metrics import accuracy_score\n",
    "from sklearn.preprocessing import StandardScaler\n",
    "import numpy as np\n",
    "\n",
    "ds = load_digits()\n",
    "X = ds.data/16.0-0.5\n",
    "y = ds.target\n",
    "X_train, X_test, y_train, y_test = train_test_split(X,y,test_size = 0.2)"
   ]
  },
  {
   "cell_type": "code",
   "execution_count": null,
   "metadata": {},
   "outputs": [],
   "source": [
    "%%time\n",
    "params = dict(n_hidden=50, \n",
    "              C=.0001, # tradeoff L2 regularizer\n",
    "              epochs=100, # iterations\n",
    "              eta=0.001,  # learning rate\n",
    "              random_state=1,\n",
    "              phi='relu',n_ner=3,cf='ce')\n",
    "nn_mini = TLPMiniBatch(**params,\n",
    "                          alpha=0.001,# momentum calculation\n",
    "                          decrease_const=0.0001, # decreasing eta\n",
    "                          minibatches=50, # minibatch size\n",
    "                          shuffle=True)\n",
    "\n",
    "\n",
    "    \n",
    "nn_mini.fit(X_train, y_train, print_progress=50)\n",
    "yhat = nn_mini.predict(X_train)\n",
    "print('Accuracy:',accuracy_score(y_train,yhat))"
   ]
  },
  {
   "cell_type": "code",
   "execution_count": null,
   "metadata": {},
   "outputs": [],
   "source": [
    "from sklearn.preprocessing import StandardScaler\n",
    "from sklearn.datasets import load_iris\n",
    "import numpy as np\n",
    "import plotly\n",
    "\n",
    "ds = load_iris()\n",
    "X = ds.data\n",
    "y = ds.target\n",
    "x_train_ar = StandardScaler().fit(X).transform(X)\n",
    "X_train1, X_test1, y_train1, y_test1 = train_test_split(X,y,test_size = 0.2)"
   ]
  },
  {
   "cell_type": "code",
   "execution_count": null,
   "metadata": {},
   "outputs": [],
   "source": [
    "%%time\n",
    "params = dict(n_hidden=50, \n",
    "              C=.0001, # tradeoff L2 regularizer\n",
    "              epochs=100, # iterations\n",
    "              eta=0.001,  # learning rate\n",
    "              random_state=1,\n",
    "              phi='sig',n_ner=3,cf='ce')\n",
    "params31 = dict(n_hidden=50, \n",
    "              C=.0001, # tradeoff L2 regularizer\n",
    "              epochs=100, # iterations\n",
    "              eta=0.001,  # learning rate\n",
    "              random_state=1,\n",
    "              phi='sig',n_ner=3,cf='quad')\n",
    "\n",
    "\n",
    "nn_mini = TLPMiniBatch(**params,\n",
    "                          alpha=0.001,# momentum calculation\n",
    "                          decrease_const=0.0001, # decreasing eta\n",
    "                          minibatches=50, # minibatch size\n",
    "                          shuffle=True)\n",
    "\n",
    "nn_mini31 = TLPMiniBatch(**params31,\n",
    "                          alpha=0.001,# momentum calculation\n",
    "                          decrease_const=1e-5, # decreasing eta\n",
    "                          minibatches=50, # minibatch size\n",
    "                          shuffle=True)\n",
    "                          \n",
    "\n",
    "\n",
    "    \n",
    "nn_mini31.fit(X_train1, y_train1, print_progress=50)\n",
    "yhat = nn_mini31.predict(X_train1)\n",
    "print('Accuracy:',accuracy_score(y_train1,yhat))"
   ]
  },
  {
   "cell_type": "code",
   "execution_count": 174,
   "metadata": {},
   "outputs": [],
   "source": [
    "from sklearn.metrics import accuracy_score\n",
    "import matplotlib.pyplot as plt\n",
    "%matplotlib inline\n",
    "\n",
    "plt.style.use('ggplot')\n",
    "\n",
    "def print_result(nn,X_train,y_train,X_test,y_test,title=\"\",color=\"red\"):\n",
    "    \n",
    "    print(\"=================\")\n",
    "    print(title,\":\")\n",
    "    yhat = nn.predict(X_train)\n",
    "    print('Resubstitution acc:',accuracy_score(y_train,yhat))\n",
    "    \n",
    "    yhat = nn.predict(X_test)\n",
    "    print('Validation acc:',accuracy_score(y_test,yhat))\n",
    "    \n",
    "    if hasattr(nn,'val_score_'):\n",
    "        plt.plot(range(len(nn.val_score_)), nn.val_score_, color=color,label=title)\n",
    "        plt.ylabel('Validation Accuracy')\n",
    "    else:\n",
    "        plt.plot(range(len(nn.score_)), nn.score_, color=color,label=title)\n",
    "        plt.ylabel('Resub Accuracy')\n",
    "        \n",
    "    plt.xlabel('Epochs')\n",
    "    plt.tight_layout()\n",
    "    plt.legend(loc='best')\n",
    "    plt.grid(True)"
   ]
  },
  {
   "cell_type": "code",
   "execution_count": null,
   "metadata": {},
   "outputs": [],
   "source": [
    "paramslin = dict(n_hidden=50, \n",
    "              C=.0001, # tradeoff L2 regularizer\n",
    "              epochs=100, # iterations\n",
    "              eta=0.001,  # learning rate\n",
    "              random_state=1,\n",
    "              phi='sig',n_ner=3,cf='ce')\n",
    "paramslin31 = dict(n_hidden=50, \n",
    "              C=.0001, # tradeoff L2 regularizer\n",
    "              epochs=100, # iterations\n",
    "              eta=0.001,  # learning rate\n",
    "              random_state=1,\n",
    "              phi='lin',n_ner=3,cf='ce')\n",
    "nn_minilin = TLPMiniBatch(**paramslin,\n",
    "                          alpha=0.001,# momentum calculation\n",
    "                          decrease_const=0.0001, # decreasing eta\n",
    "                          minibatches=50, # minibatch size\n",
    "                          shuffle=True)\n",
    "\n",
    "nn_minilin31 = TLPMiniBatch(**paramslin31,\n",
    "                          alpha=0.001,# momentum calculation\n",
    "                          decrease_const=1e-5, # decreasing eta\n",
    "                          minibatches=50, # minibatch size\n",
    "                          shuffle=True)"
   ]
  },
  {
   "cell_type": "code",
   "execution_count": null,
   "metadata": {},
   "outputs": [],
   "source": [
    "%time nn_mini.fit(X_train1, y_train1, print_progress=10)\n",
    "%time nn_mini31.fit(X_train1, y_train1, print_progress=10)"
   ]
  },
  {
   "cell_type": "code",
   "execution_count": null,
   "metadata": {
    "scrolled": true
   },
   "outputs": [],
   "source": [
    "nn_mini31._initialize_weights()"
   ]
  },
  {
   "cell_type": "code",
   "execution_count": null,
   "metadata": {
    "scrolled": false
   },
   "outputs": [],
   "source": [
    "print_result(nn_mini,X_train1,y_train1,X_test1,y_test1,title=\"Cross Entropy Loss\",color=\"red\")\n",
    "print_result(nn_mini31,X_train1,y_train1,X_test1,y_test1,title=\"Quadratic Loss\",color=\"blue\")\n",
    "plt.show()"
   ]
  },
  {
   "cell_type": "code",
   "execution_count": null,
   "metadata": {},
   "outputs": [],
   "source": [
    "%time nn_minilin.fit(X_train1, y_train1, print_progress=10)\n",
    "%time nn_minilin31.fit(X_train1, y_train1, print_progress=10)"
   ]
  },
  {
   "cell_type": "code",
   "execution_count": null,
   "metadata": {
    "scrolled": true
   },
   "outputs": [],
   "source": [
    "nn_minilin31._initialize_weights()"
   ]
  },
  {
   "cell_type": "code",
   "execution_count": null,
   "metadata": {},
   "outputs": [],
   "source": [
    "print_result(nn_minilin,X_train1,y_train1,X_test1,y_test1,title=\"Cross Entropy Loss sig\",color=\"red\")\n",
    "print_result(nn_minilin31,X_train1,y_train1,X_test1,y_test1,title=\"Cross Entropy Loss lin\",color=\"blue\")\n",
    "plt.show()"
   ]
  },
  {
   "cell_type": "code",
   "execution_count": null,
   "metadata": {},
   "outputs": [],
   "source": [
    "params2 = dict(n_hidden=50, \n",
    "              C=.0001, # tradeoff L2 regularizer\n",
    "              epochs=50, # iterations\n",
    "              eta=0.001,  # learning rate\n",
    "              random_state=1,\n",
    "              phi='relu',n_ner=2,cf='ce')\n",
    "params3 = dict(n_hidden=50, \n",
    "              C=.0001, # tradeoff L2 regularizer\n",
    "              epochs=50, # iterations\n",
    "              eta=0.001,  # learning rate\n",
    "              random_state=1,\n",
    "              phi='relu',n_ner=3,cf='ce')\n",
    "nn_mini2 = TLPMiniBatch(**params2,\n",
    "                          alpha=0.001,# momentum calculation\n",
    "                          decrease_const=0.0001, # decreasing eta\n",
    "                          minibatches=50, # minibatch size\n",
    "                          shuffle=True)\n",
    "\n",
    "nn_mini3 = TLPMiniBatch(**params3,\n",
    "                          alpha=0.001,# momentum calculation\n",
    "                          decrease_const=1e-5, # decreasing eta\n",
    "                          minibatches=50, # minibatch size\n",
    "                          shuffle=True)"
   ]
  },
  {
   "cell_type": "code",
   "execution_count": null,
   "metadata": {
    "scrolled": true
   },
   "outputs": [],
   "source": [
    "%time nn_mini2.fit(X_train1, y_train1, print_progress=10)\n",
    "%time nn_mini3.fit(X_train1, y_train1, print_progress=10)"
   ]
  },
  {
   "cell_type": "code",
   "execution_count": null,
   "metadata": {
    "scrolled": true
   },
   "outputs": [],
   "source": [
    "nn_mini3._initialize_weights()"
   ]
  },
  {
   "cell_type": "code",
   "execution_count": null,
   "metadata": {},
   "outputs": [],
   "source": [
    "print_result(nn_mini2,X_train1,y_train1,X_test1,y_test1,title=\"CE sig 2 layers\",color=\"red\")\n",
    "print_result(nn_mini3,X_train1,y_train1,X_test1,y_test1,title=\"CE sig 3 layers\",color=\"blue\")\n",
    "plt.show()"
   ]
  },
  {
   "cell_type": "markdown",
   "metadata": {},
   "source": [
    "# Exceptional Work "
   ]
  },
  {
   "cell_type": "code",
   "execution_count": 165,
   "metadata": {},
   "outputs": [
    {
     "name": "stdout",
     "output_type": "stream",
     "text": [
      "TRAIN: (26479,) TEST: (2943,)\n",
      "Accuracy of 2 layers, objective function of ce, and phi of sig:  0.5300713557594292\n",
      "Accuracy of 2 layers, objective function of ce, and phi of silu:  0.5582738702004757\n",
      "Accuracy of 2 layers, objective function of ce, and phi of relu:  0.5834182806659871\n",
      "Accuracy of 3 layers, objective function of ce, and phi of sig:  0.5372069317023446\n",
      "Accuracy of 3 layers, objective function of ce, and phi of silu:  0.13897383622154263\n",
      "Accuracy of 3 layers, objective function of ce, and phi of relu:  0.5158002038735984\n",
      "TRAIN: (26479,) TEST: (2943,)\n",
      "Accuracy of 2 layers, objective function of ce, and phi of sig:  0.5341488277268094\n",
      "Accuracy of 2 layers, objective function of ce, and phi of silu:  0.5599728168535508\n",
      "Accuracy of 2 layers, objective function of ce, and phi of relu:  0.5762827047230717\n",
      "Accuracy of 3 layers, objective function of ce, and phi of sig:  0.5606523955147809\n",
      "Accuracy of 3 layers, objective function of ce, and phi of silu:  0.13897383622154263\n",
      "Accuracy of 3 layers, objective function of ce, and phi of relu:  0.472646958885491\n",
      "TRAIN: (26479,) TEST: (2943,)\n",
      "Accuracy of 2 layers, objective function of ce, and phi of sig:  0.5412844036697247\n",
      "Accuracy of 2 layers, objective function of ce, and phi of silu:  0.5667686034658511\n",
      "Accuracy of 2 layers, objective function of ce, and phi of relu:  0.5851172273190621\n",
      "Accuracy of 3 layers, objective function of ce, and phi of sig:  0.5609921848453958\n",
      "Accuracy of 3 layers, objective function of ce, and phi of silu:  0.13897383622154263\n",
      "Accuracy of 3 layers, objective function of ce, and phi of relu:  0.3968739381583418\n"
     ]
    }
   ],
   "source": [
    "layers = [2, 3]\n",
    "objs = [ 'ce']\n",
    "phis = ['sig', 'silu','relu']\n",
    "\n",
    "models = []\n",
    "sss=StratifiedShuffleSplit(n_splits=3, random_state=1)\n",
    "for train_index, test_index in sss.split(x_ar, y_ar):\n",
    " print(\"TRAIN:\", train_index.shape, \"TEST:\", test_index.shape)\n",
    " X_train, X_test = x_ar[train_index], x_ar[test_index]\n",
    " y_train, y_test = y_ar[train_index], y_ar[test_index]\n",
    " for layer in layers:\n",
    "    for obj in objs:\n",
    "        for phi in phis:\n",
    "            params = dict(n_hidden=50, \n",
    "                  C=.0001, # tradeoff L2 regularizer\n",
    "                  epochs=5, # iterations\n",
    "                  eta=0.001,  # learning rate\n",
    "                  random_state=1,\n",
    "                  phi=phi, n_ner=layer, cf=obj)\n",
    "            nn_mini = TLPMiniBatch(**params,\n",
    "                                    alpha=0.001,# momentum calculation\n",
    "                                    decrease_const=0.0001, # decreasing eta\n",
    "                                    minibatches=50, # minibatch size\n",
    "                                    shuffle=True)\n",
    "            nn_mini.fit(X_train, y_train, print_progress=50)\n",
    "            yhat = nn_mini.predict(X_test)\n",
    "            models.append(nn_mini)\n",
    "            print('Accuracy of {} layers, objective function of {}, and phi of {}: '.format(layer, obj, phi),accuracy_score(y_test,yhat))"
   ]
  },
  {
   "cell_type": "code",
   "execution_count": 179,
   "metadata": {},
   "outputs": [
    {
     "name": "stderr",
     "output_type": "stream",
     "text": [
      "\r",
      "Epoch: 50/50"
     ]
    },
    {
     "name": "stdout",
     "output_type": "stream",
     "text": [
      "Accuracy: 0.6785486680545524\n",
      "Wall time: 7.51 s\n"
     ]
    }
   ],
   "source": [
    "%%time\n",
    "params = dict(n_hidden=50, \n",
    "              C=.0001, # tradeoff L2 regularizer\n",
    "              epochs=50, # iterations\n",
    "              eta=0.001,  # learning rate\n",
    "              random_state=1,\n",
    "              phi='sig',n_ner=2,cf='ce')\n",
    "params31 = dict(n_hidden=50, \n",
    "              C=.0001, # tradeoff L2 regularizer\n",
    "              epochs=50, # iterations\n",
    "              eta=0.001,  # learning rate\n",
    "              random_state=1,\n",
    "              phi='relu',n_ner=2,cf='ce')\n",
    "\n",
    "\n",
    "nn_mini = TLPMiniBatch(**params,\n",
    "                          alpha=0.001,# momentum calculation\n",
    "                          decrease_const=0.0001, # decreasing eta\n",
    "                          minibatches=50, # minibatch size\n",
    "                          shuffle=True)\n",
    "\n",
    "nn_mini31 = TLPMiniBatch(**params31,\n",
    "                          alpha=0.001,# momentum calculation\n",
    "                          decrease_const=1e-5, # decreasing eta\n",
    "                          minibatches=50, # minibatch size\n",
    "                          shuffle=True)\n",
    "                          \n",
    "\n",
    "\n",
    "    \n",
    "nn_mini31.fit(x_train_ar, y_target_ar, print_progress=50)\n",
    "yhat = nn_mini31.predict(x_train_ar)\n",
    "print('Accuracy:',accuracy_score(y_target_ar,yhat))"
   ]
  },
  {
   "cell_type": "code",
   "execution_count": 180,
   "metadata": {},
   "outputs": [
    {
     "name": "stderr",
     "output_type": "stream",
     "text": [
      "Epoch: 50/50"
     ]
    },
    {
     "name": "stdout",
     "output_type": "stream",
     "text": [
      "Wall time: 7.22 s\n"
     ]
    },
    {
     "name": "stderr",
     "output_type": "stream",
     "text": [
      "Epoch: 50/50"
     ]
    },
    {
     "name": "stdout",
     "output_type": "stream",
     "text": [
      "Wall time: 8.75 s\n"
     ]
    },
    {
     "data": {
      "text/plain": [
       "<__main__.TLPMiniBatch at 0x2c4016ff470>"
      ]
     },
     "execution_count": 180,
     "metadata": {},
     "output_type": "execute_result"
    }
   ],
   "source": [
    "%time nn_mini.fit(x_train_ar, y_target_ar, print_progress=10)\n",
    "%time nn_mini31.fit(x_train_ar, y_target_ar, print_progress=10)"
   ]
  },
  {
   "cell_type": "code",
   "execution_count": 170,
   "metadata": {},
   "outputs": [
    {
     "data": {
      "text/plain": [
       "{'self': <__main__.TLPMiniBatch at 0x2c400e0fe48>,\n",
       " 'i': 2,\n",
       " 'W1_num_elems': 7050,\n",
       " 'W1': array([[ 0.60663411,  0.94472735,  0.74294192, ...,  0.21033926,\n",
       "          0.34469538,  0.11538373],\n",
       "        [-0.59347736,  0.40525801, -0.78495944, ...,  0.1974968 ,\n",
       "         -0.53220503, -0.27302763],\n",
       "        [-0.60597929, -0.56116206,  0.89767744, ...,  0.55999089,\n",
       "         -0.84384787,  0.12178354],\n",
       "        ...,\n",
       "        [-0.09563996,  0.91614069, -0.2592471 , ..., -0.44633056,\n",
       "          0.64082041,  0.37373253],\n",
       "        [ 0.59284216, -0.49166069, -0.33118774, ...,  0.35387062,\n",
       "          0.77101971,  0.11367025],\n",
       "        [ 0.82353257,  0.66283657, -0.04087723, ..., -0.17798363,\n",
       "          0.80198638,  0.27900563]]),\n",
       " 'W2_num_elems': 2550,\n",
       " 'W2': array([[-0.08027026,  0.03128459,  0.85994096, ...,  0.72887801,\n",
       "          0.24552733,  0.51098148],\n",
       "        [ 0.28131646,  0.15645437,  0.75990244, ...,  0.35761521,\n",
       "         -0.40400941,  0.35850145],\n",
       "        [-0.48853977,  0.63603842,  0.19507548, ...,  0.64998604,\n",
       "         -0.00702241, -0.26161608],\n",
       "        ...,\n",
       "        [-0.40587597,  0.69618546,  0.84061238, ...,  0.04440196,\n",
       "         -0.48178368,  0.03385764],\n",
       "        [-0.93329123, -0.77235325,  0.57931652, ..., -0.25981212,\n",
       "         -0.72617814, -0.97595034],\n",
       "        [-0.43787182, -0.76748247,  0.28915676, ..., -0.63690205,\n",
       "          0.48933077, -0.29057395]]),\n",
       " 'W3_num_elems': 306,\n",
       " 'W3': array([[-1.57690338e-02,  6.57701702e-05, -1.25806969e-01,\n",
       "         -4.63605412e-01,  8.67220273e-01, -3.95818947e-01,\n",
       "          7.61958798e-01,  9.21766863e-01,  5.23338431e-01,\n",
       "         -9.84658238e-01, -1.31604382e-01,  9.72720251e-01,\n",
       "          1.30175913e-02,  2.76692391e-01, -9.82067369e-01,\n",
       "         -9.89120916e-01,  1.31182261e-02, -7.50984170e-01,\n",
       "          1.40041689e-01, -1.98181431e-01,  4.56060313e-01,\n",
       "         -1.21832129e-01, -4.00306030e-01,  3.88325217e-01,\n",
       "         -7.33568301e-01, -9.53792992e-01, -7.35939824e-02,\n",
       "          8.16459836e-01,  7.61813785e-01,  2.08719646e-01,\n",
       "          5.46239334e-01, -8.49977078e-01,  1.14543131e-01,\n",
       "          2.79296783e-01,  7.42138117e-01, -2.44519827e-01,\n",
       "          3.87605411e-01,  7.40699686e-01, -7.88483209e-01,\n",
       "         -1.18412774e-01,  3.56008838e-02, -5.09478468e-01,\n",
       "          8.00103086e-01,  1.20688936e-01,  1.87849799e-01,\n",
       "          4.11214500e-01, -2.57321345e-03, -4.19981329e-01,\n",
       "          9.11892777e-02,  6.05476831e-01, -6.12012967e-01],\n",
       "        [-8.64643511e-01,  2.21599938e-01, -9.56472982e-01,\n",
       "          7.11231199e-01,  9.85750251e-01,  7.35971230e-01,\n",
       "         -9.66838915e-01, -7.03368422e-01,  9.98552854e-01,\n",
       "          2.44462205e-01, -6.60411890e-01, -5.74869104e-01,\n",
       "         -9.95404159e-01, -8.73430621e-02, -6.50032504e-01,\n",
       "          6.39617544e-01, -7.67684632e-01,  5.65036966e-01,\n",
       "         -5.19381729e-01, -9.44085542e-01,  8.29491754e-01,\n",
       "         -6.56781017e-01, -6.11216063e-01, -5.81321353e-01,\n",
       "          7.70934228e-01, -3.02375090e-02, -6.95338009e-01,\n",
       "          6.51958482e-01, -8.35435288e-01, -7.51077575e-01,\n",
       "         -2.30789570e-01,  8.63388954e-02,  3.07630373e-02,\n",
       "         -9.03225975e-01,  8.65082314e-01,  1.40402563e-01,\n",
       "          4.56057711e-02,  7.42574918e-01,  7.34772148e-01,\n",
       "         -3.34946058e-01,  7.61977831e-01, -3.50848459e-01,\n",
       "          9.04297288e-01, -5.31484087e-01,  5.94326137e-01,\n",
       "         -2.30555881e-01,  3.74079807e-01,  9.23957144e-01,\n",
       "          3.97158966e-01,  5.20043855e-01,  7.65331183e-01],\n",
       "        [-1.36038337e-01, -6.89404454e-01, -5.13632511e-02,\n",
       "          3.30392378e-01, -7.04048662e-01, -9.07050631e-01,\n",
       "         -3.03498348e-01, -1.36067992e-01, -2.70841394e-01,\n",
       "          4.38854145e-01,  3.95829217e-02, -3.58761497e-01,\n",
       "          4.54233882e-01,  6.68957919e-01,  7.91794881e-01,\n",
       "          5.60337857e-01, -8.11784797e-01,  7.69510244e-01,\n",
       "         -5.38482660e-01, -5.09025060e-01,  1.77237118e-01,\n",
       "         -1.86162494e-01, -4.85039330e-01,  5.22529009e-01,\n",
       "          9.65182372e-02, -1.09110081e-01,  6.38610881e-01,\n",
       "         -8.28012681e-01,  4.94963052e-01, -2.77780479e-01,\n",
       "         -1.01416597e-01,  7.07910590e-01, -6.47477312e-01,\n",
       "          8.71602710e-01,  1.87556807e-01,  1.19531904e-01,\n",
       "         -7.82062736e-01,  2.03831487e-01,  2.52006199e-01,\n",
       "          4.85509458e-01, -5.08860052e-01,  3.44400117e-01,\n",
       "          3.09944022e-01,  7.52239562e-01,  7.25925268e-01,\n",
       "          8.80910281e-01,  2.00260216e-01,  4.80722564e-01,\n",
       "         -3.19777290e-01, -6.71948330e-01,  1.64160445e-01],\n",
       "        [-8.51733537e-01, -2.64578776e-01,  1.96705058e-01,\n",
       "          4.88170300e-01,  9.22498756e-01,  7.00600908e-01,\n",
       "         -9.21049128e-01, -3.48884891e-01,  2.47678661e-01,\n",
       "          6.53580569e-01, -1.09481814e-01, -9.56311103e-01,\n",
       "          3.08597581e-01,  7.44764482e-01,  9.53847527e-01,\n",
       "         -4.33268134e-01, -4.65551757e-01,  9.71485751e-01,\n",
       "         -3.69026674e-01,  8.67400337e-01, -5.34125399e-01,\n",
       "          9.33080462e-01, -1.94988266e-01, -6.79747213e-01,\n",
       "          8.74859204e-01,  9.12470175e-01,  4.61753631e-01,\n",
       "          5.22575754e-01, -8.87795208e-02,  1.94610536e-02,\n",
       "          3.48585520e-01,  3.77235780e-01,  3.85801417e-01,\n",
       "          7.50865030e-01, -6.70867105e-01, -3.50277428e-01,\n",
       "          1.24806957e-01, -4.02713458e-02,  1.36901369e-02,\n",
       "          4.44135075e-01, -9.67450197e-01,  6.42766664e-01,\n",
       "          2.66795528e-01, -7.02037683e-02, -5.32406065e-01,\n",
       "         -7.26557720e-01,  2.39273115e-01,  1.70967102e-01,\n",
       "          3.51143207e-01,  5.51955299e-01, -5.40026420e-01],\n",
       "        [ 2.80124788e-02,  3.74862831e-01, -2.75842104e-01,\n",
       "         -6.84265601e-01, -7.51813052e-01, -4.03168195e-01,\n",
       "         -1.33715474e-01,  8.26235490e-01, -2.04236075e-01,\n",
       "         -1.86942118e-01, -5.65024341e-01, -1.51987635e-01,\n",
       "         -1.49424383e-01, -4.03775038e-01, -3.29856584e-01,\n",
       "         -8.76317714e-01, -1.17197062e-01, -2.86225797e-01,\n",
       "         -8.52348109e-01,  5.29450487e-02, -7.10762161e-01,\n",
       "         -1.83518361e-01, -9.27199605e-01, -6.45166528e-01,\n",
       "          8.48192669e-01, -4.92603989e-01,  4.63974115e-01,\n",
       "          6.76676377e-01,  3.98055910e-01, -9.09641000e-02,\n",
       "         -1.56418335e-01,  2.96509713e-01, -7.59778725e-01,\n",
       "         -7.00298939e-01,  1.14845925e-02,  7.71715203e-01,\n",
       "          2.20149219e-01,  4.88227345e-01,  6.20010049e-01,\n",
       "         -8.21641794e-01, -3.29741186e-01,  4.69836766e-01,\n",
       "         -8.19962318e-03,  1.66337280e-01,  6.04911767e-01,\n",
       "          3.81451326e-01, -6.07558428e-01,  1.99803098e-01,\n",
       "          5.73092233e-01,  2.30696342e-01,  4.11990235e-01],\n",
       "        [-8.82894202e-02,  4.35370303e-02,  8.16643581e-01,\n",
       "         -2.42296707e-01,  7.77936402e-01,  2.16911258e-01,\n",
       "          2.56887893e-01,  8.13974182e-01, -8.90702362e-01,\n",
       "         -3.23245533e-01,  3.72971022e-01,  9.77561903e-01,\n",
       "          8.42472888e-01, -7.05722295e-01, -1.22253925e-01,\n",
       "          3.19304193e-01,  1.51735129e-01,  2.39561969e-01,\n",
       "         -7.06900205e-01, -9.26592582e-01,  9.35828834e-02,\n",
       "         -5.15546653e-01,  7.55671375e-01, -2.30361017e-01,\n",
       "          1.51157247e-01,  5.19958069e-01,  9.13239472e-01,\n",
       "          8.56033248e-01, -8.70613389e-01, -4.49065993e-01,\n",
       "          3.23230029e-01,  7.45363981e-01, -6.50137862e-02,\n",
       "          1.91548764e-01, -2.93519514e-01,  8.73119687e-01,\n",
       "          1.96062503e-02, -9.34640284e-01, -6.43145991e-01,\n",
       "          1.78440991e-01,  2.22923397e-01,  9.36044919e-01,\n",
       "         -1.46392088e-01, -8.30888849e-01,  1.98811509e-02,\n",
       "         -4.25649717e-01, -1.77429824e-01,  1.36570276e-01,\n",
       "         -5.64076405e-01,  6.89812142e-01,  6.28086188e-01]])}"
      ]
     },
     "execution_count": 170,
     "metadata": {},
     "output_type": "execute_result"
    }
   ],
   "source": [
    "nn_mini31._initialize_weights()"
   ]
  },
  {
   "cell_type": "code",
   "execution_count": 181,
   "metadata": {},
   "outputs": [
    {
     "name": "stdout",
     "output_type": "stream",
     "text": [
      "=================\n",
      "sig :\n",
      "Resubstitution acc: 0.6504227386667799\n",
      "Validation acc: 0.6504227386667799\n",
      "=================\n",
      "relu :\n",
      "Resubstitution acc: 0.6804180651739814\n",
      "Validation acc: 0.6804180651739814\n"
     ]
    },
    {
     "data": {
      "image/png": "[encoded data removed]",
      "text/plain": [
       "<Figure size 432x288 with 1 Axes>"
      ]
     },
     "metadata": {},
     "output_type": "display_data"
    }
   ],
   "source": [
    "print_result(nn_mini,x_train_ar,y_target_ar,x_train_ar,y_target_ar,title=\"sig\",color=\"red\")\n",
    "print_result(nn_mini31,x_train_ar,y_target_ar,x_train_ar,y_target_ar,title=\"relu\",color=\"blue\")\n",
    "plt.show()"
   ]
  },
  {
   "cell_type": "code",
   "execution_count": null,
   "metadata": {},
   "outputs": [],
   "source": []
  }
 ],
 "metadata": {
  "kernelspec": {
   "display_name": "Python 3",
   "language": "python",
   "name": "python3"
  },
  "language_info": {
   "codemirror_mode": {
    "name": "ipython",
    "version": 3
   },
   "file_extension": ".py",
   "mimetype": "text/x-python",
   "name": "python",
   "nbconvert_exporter": "python",
   "pygments_lexer": "ipython3",
   "version": "3.7.1"
  }
 },
 "nbformat": 4,
 "nbformat_minor": 2
}
