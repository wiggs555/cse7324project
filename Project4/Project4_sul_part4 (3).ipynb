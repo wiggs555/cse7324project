{
 "cells": [
  {
   "cell_type": "markdown",
   "metadata": {},
   "source": [
    "# Preparation "
   ]
  },
  {
   "cell_type": "code",
   "execution_count": 287,
   "metadata": {},
   "outputs": [],
   "source": [
    "# dependencies\n",
    "import pandas as pd\n",
    "import numpy as np\n",
    "import missingno as msno \n",
    "import matplotlib.pyplot as plt\n",
    "import re\n",
    "from sklearn.model_selection import train_test_split\n",
    "\n",
    "from textwrap import wrap\n",
    "from sklearn.preprocessing import StandardScaler\n",
    "import warnings\n",
    "warnings.filterwarnings(\"ignore\")\n",
    "import math\n",
    "%matplotlib inline"
   ]
  },
  {
   "cell_type": "code",
   "execution_count": 691,
   "metadata": {},
   "outputs": [
    {
     "data": {
      "text/html": [
       "<div>\n",
       "<style scoped>\n",
       "    .dataframe tbody tr th:only-of-type {\n",
       "        vertical-align: middle;\n",
       "    }\n",
       "\n",
       "    .dataframe tbody tr th {\n",
       "        vertical-align: top;\n",
       "    }\n",
       "\n",
       "    .dataframe thead th {\n",
       "        text-align: right;\n",
       "    }\n",
       "</style>\n",
       "<table border=\"1\" class=\"dataframe\">\n",
       "  <thead>\n",
       "    <tr style=\"text-align: right;\">\n",
       "      <th></th>\n",
       "      <th>breed</th>\n",
       "      <th>color</th>\n",
       "      <th>age</th>\n",
       "      <th>dob_month</th>\n",
       "      <th>dob_day</th>\n",
       "      <th>dob_dayofweek</th>\n",
       "      <th>month</th>\n",
       "      <th>day</th>\n",
       "      <th>dayofweek</th>\n",
       "      <th>hour</th>\n",
       "      <th>quarter</th>\n",
       "      <th>breed1</th>\n",
       "      <th>color1</th>\n",
       "      <th>spayed_neutered</th>\n",
       "      <th>sex</th>\n",
       "      <th>domestic</th>\n",
       "      <th>outcome</th>\n",
       "    </tr>\n",
       "  </thead>\n",
       "  <tbody>\n",
       "    <tr>\n",
       "      <th>0</th>\n",
       "      <td>domestic shorthair</td>\n",
       "      <td>orange tabby</td>\n",
       "      <td>15</td>\n",
       "      <td>7</td>\n",
       "      <td>7</td>\n",
       "      <td>0</td>\n",
       "      <td>7</td>\n",
       "      <td>22</td>\n",
       "      <td>1</td>\n",
       "      <td>16</td>\n",
       "      <td>3</td>\n",
       "      <td>None</td>\n",
       "      <td>None</td>\n",
       "      <td>False</td>\n",
       "      <td>male</td>\n",
       "      <td>1</td>\n",
       "      <td>transfer_partner</td>\n",
       "    </tr>\n",
       "    <tr>\n",
       "      <th>8</th>\n",
       "      <td>domestic shorthair</td>\n",
       "      <td>blue tabby</td>\n",
       "      <td>59</td>\n",
       "      <td>6</td>\n",
       "      <td>16</td>\n",
       "      <td>0</td>\n",
       "      <td>8</td>\n",
       "      <td>14</td>\n",
       "      <td>3</td>\n",
       "      <td>18</td>\n",
       "      <td>3</td>\n",
       "      <td>None</td>\n",
       "      <td>white</td>\n",
       "      <td>False</td>\n",
       "      <td>female</td>\n",
       "      <td>1</td>\n",
       "      <td>adoption_unknown</td>\n",
       "    </tr>\n",
       "    <tr>\n",
       "      <th>9</th>\n",
       "      <td>domestic shorthair</td>\n",
       "      <td>white</td>\n",
       "      <td>95</td>\n",
       "      <td>3</td>\n",
       "      <td>26</td>\n",
       "      <td>2</td>\n",
       "      <td>6</td>\n",
       "      <td>29</td>\n",
       "      <td>6</td>\n",
       "      <td>17</td>\n",
       "      <td>2</td>\n",
       "      <td>None</td>\n",
       "      <td>black</td>\n",
       "      <td>True</td>\n",
       "      <td>female</td>\n",
       "      <td>1</td>\n",
       "      <td>adoption_offsite</td>\n",
       "    </tr>\n",
       "    <tr>\n",
       "      <th>10</th>\n",
       "      <td>domestic mediumhair</td>\n",
       "      <td>black</td>\n",
       "      <td>366</td>\n",
       "      <td>3</td>\n",
       "      <td>27</td>\n",
       "      <td>2</td>\n",
       "      <td>3</td>\n",
       "      <td>28</td>\n",
       "      <td>4</td>\n",
       "      <td>14</td>\n",
       "      <td>1</td>\n",
       "      <td>None</td>\n",
       "      <td>white</td>\n",
       "      <td>True</td>\n",
       "      <td>female</td>\n",
       "      <td>1</td>\n",
       "      <td>return-to-owner_unknown</td>\n",
       "    </tr>\n",
       "    <tr>\n",
       "      <th>17</th>\n",
       "      <td>domestic shorthair</td>\n",
       "      <td>black</td>\n",
       "      <td>24</td>\n",
       "      <td>12</td>\n",
       "      <td>16</td>\n",
       "      <td>0</td>\n",
       "      <td>1</td>\n",
       "      <td>9</td>\n",
       "      <td>3</td>\n",
       "      <td>19</td>\n",
       "      <td>1</td>\n",
       "      <td>None</td>\n",
       "      <td>white</td>\n",
       "      <td>False</td>\n",
       "      <td>male</td>\n",
       "      <td>1</td>\n",
       "      <td>transfer_partner</td>\n",
       "    </tr>\n",
       "  </tbody>\n",
       "</table>\n",
       "</div>"
      ],
      "text/plain": [
       "                  breed         color  age  dob_month  dob_day  dob_dayofweek  \\\n",
       "0    domestic shorthair  orange tabby   15          7        7              0   \n",
       "8    domestic shorthair    blue tabby   59          6       16              0   \n",
       "9    domestic shorthair         white   95          3       26              2   \n",
       "10  domestic mediumhair         black  366          3       27              2   \n",
       "17   domestic shorthair         black   24         12       16              0   \n",
       "\n",
       "    month  day  dayofweek  hour  quarter breed1 color1 spayed_neutered  \\\n",
       "0       7   22          1    16        3   None   None           False   \n",
       "8       8   14          3    18        3   None  white           False   \n",
       "9       6   29          6    17        2   None  black            True   \n",
       "10      3   28          4    14        1   None  white            True   \n",
       "17      1    9          3    19        1   None  white           False   \n",
       "\n",
       "       sex  domestic                  outcome  \n",
       "0     male         1         transfer_partner  \n",
       "8   female         1         adoption_unknown  \n",
       "9   female         1         adoption_offsite  \n",
       "10  female         1  return-to-owner_unknown  \n",
       "17    male         1         transfer_partner  "
      ]
     },
     "execution_count": 691,
     "metadata": {},
     "output_type": "execute_result"
    }
   ],
   "source": [
    "# import data\n",
    "shelter_outcomes = pd.read_csv(\"C:/Users/sulem/OneDrive/Desktop/machin learnign/Project3/aac_shelter_outcomes.csv\")\n",
    "# filter animal type for just cats\n",
    "cats = shelter_outcomes[shelter_outcomes['animal_type'] == 'Cat']\n",
    "#print(cats.head())\n",
    "\n",
    "# remove age_upon_outcome and recalculate to standard units (days)\n",
    "age = cats.loc[:,['datetime', 'date_of_birth']]\n",
    "# convert to datetime\n",
    "age.loc[:,'datetime'] = pd.to_datetime(age['datetime'])\n",
    "age.loc[:,'date_of_birth'] = pd.to_datetime(age['date_of_birth'])\n",
    "# calculate cat age in days\n",
    "cats.loc[:,'age'] = (age.loc[:,'datetime'] - age.loc[:,'date_of_birth']).dt.days\n",
    "# get dob info\n",
    "cats['dob_month'] = age.loc[:, 'date_of_birth'].dt.month\n",
    "cats['dob_day'] = age.loc[:, 'date_of_birth'].dt.day\n",
    "cats['dob_dayofweek'] = age.loc[:, 'date_of_birth'].dt.dayofweek\n",
    "# get month from datetime\n",
    "cats['month'] = age.loc[:,'datetime'].dt.month\n",
    "# get day of month\n",
    "cats['day'] = age.loc[:,'datetime'].dt.day\n",
    "# get day of week\n",
    "cats['dayofweek'] = age.loc[:, 'datetime'].dt.dayofweek\n",
    "# get hour of day\n",
    "cats['hour'] = age.loc[:, 'datetime'].dt.hour\n",
    "# get quarter\n",
    "cats['quarter'] = age.loc[:, 'datetime'].dt.quarter\n",
    "\n",
    "# clean up breed attribute\n",
    "# get breed attribute for processing\n",
    "# convert to lowercase, remove mix and strip whitespace\n",
    "# remove space in 'medium hair' to match 'longhair' and 'shorthair'\n",
    "# split on either space or '/'\n",
    "breed = cats.loc[:, 'breed'].str.lower().str.replace('mix', '').str.replace('medium hair', 'mediumhair').str.strip().str.split('/', expand=True)\n",
    "cats['breed'] = breed[0]\n",
    "cats['breed1'] = breed[1]\n",
    "\n",
    "# clean up color attribute\n",
    "# convert to lowercase\n",
    "# strip spaces\n",
    "# split on '/'\n",
    "color = cats.loc[:, 'color'].str.lower().str.strip().str.split('/', expand=True)\n",
    "cats['color'] = color[0]\n",
    "cats['color1'] = color[1]\n",
    "\n",
    "# clean up sex_upon_outcome\n",
    "sex = cats['sex_upon_outcome'].str.lower().str.strip().str.split(' ', expand=True)\n",
    "sex[0].replace('spayed', True, inplace=True)\n",
    "sex[0].replace('neutered', True, inplace=True)\n",
    "sex[0].replace('intact', False, inplace=True)\n",
    "sex[1].replace(np.nan, 'unknown', inplace=True)\n",
    "cats['spayed_neutered'] = sex[0]\n",
    "cats['sex'] = sex[1]\n",
    "\n",
    "# add in domesticated attribute\n",
    "cats['domestic'] = np.where(cats['breed'].str.contains('domestic'), 1, 0)\n",
    "\n",
    "# combine outcome and outcome subtype into a single attribute\n",
    "cats['outcome_subtype'] = cats['outcome_subtype'].str.lower().str.replace(' ', '-').fillna('unknown')\n",
    "cats['outcome_type'] = cats['outcome_type'].str.lower().str.replace(' ', '-').fillna('unknown')\n",
    "cats['outcome'] = cats['outcome_type'] + '_' + cats['outcome_subtype']\n",
    "\n",
    "# drop unnecessary columns\n",
    "cats.drop(columns=['animal_id', 'name', 'animal_type', 'age_upon_outcome', 'date_of_birth', 'datetime', 'monthyear', 'sex_upon_outcome', 'outcome_subtype', 'outcome_type'], inplace=True)\n",
    "#print(cats['outcome'].value_counts())\n",
    "\n",
    "cats.head()\n"
   ]
  },
  {
   "cell_type": "code",
   "execution_count": 692,
   "metadata": {},
   "outputs": [
    {
     "name": "stdout",
     "output_type": "stream",
     "text": [
      "    age  dob_month  dob_day  dob_dayofweek  month  day  dayofweek  hour  \\\n",
      "0    15          7        7              0      7   22          1    16   \n",
      "8    59          6       16              0      8   14          3    18   \n",
      "9    95          3       26              2      6   29          6    17   \n",
      "10  366          3       27              2      3   28          4    14   \n",
      "17   24         12       16              0      1    9          3    19   \n",
      "\n",
      "    quarter  domestic     ...      color1_tortie point  color1_tricolor  \\\n",
      "0         3         1     ...                        0                0   \n",
      "8         3         1     ...                        0                0   \n",
      "9         2         1     ...                        0                0   \n",
      "10        1         1     ...                        0                0   \n",
      "17        1         1     ...                        0                0   \n",
      "\n",
      "    color1_white  color1_yellow  spayed_neutered_False  spayed_neutered_True  \\\n",
      "0              0              0                      1                     0   \n",
      "8              1              0                      1                     0   \n",
      "9              0              0                      0                     1   \n",
      "10             1              0                      0                     1   \n",
      "17             1              0                      1                     0   \n",
      "\n",
      "    spayed_neutered_unknown  sex_female  sex_male  sex_unknown  \n",
      "0                         0           0         1            0  \n",
      "8                         0           1         0            0  \n",
      "9                         0           1         0            0  \n",
      "10                        0           1         0            0  \n",
      "17                        0           0         1            0  \n",
      "\n",
      "[5 rows x 141 columns]\n"
     ]
    }
   ],
   "source": [
    "cats.drop(columns=['breed1'], inplace=True)\n",
    "# Breed, Color, Color1, Spayed_Netured and Sex attributes need to be one hot encoded\n",
    "cats_ohe = pd.get_dummies(cats, columns=['breed', 'color', 'color1', 'spayed_neutered', 'sex'])\n",
    "cats_ohe.head()\n",
    "out_t={'euthanasia_suffering' : 0, 'died_in-kennel' : 0, 'return-to-owner_unknown' : 0, 'transfer_partner' : 1, 'euthanasia_at-vet' : 2, 'adoption_foster' : 3, 'died_in-foster' : 0, 'transfer_scrp' : 4, 'euthanasia_medical' : 0, 'transfer_snr' : 0, 'died_enroute' : 0, 'rto-adopt_unknown' : 0, 'missing_in-foster' : 0, 'adoption_offsite' : 0, 'adoption_unknown' :5,'euthanasia_rabies-risk' : 0, 'unknown_unknown' : 0, 'adoption_barn' : 0, 'died_unknown' : 0, 'died_in-surgery' : 0, 'euthanasia_aggressive' : 0, 'euthanasia_unknown' : 0, 'missing_unknown' : 0, 'missing_in-kennel' : 0, 'missing_possible-theft' : 0, 'died_at-vet' : 0, 'disposal_unknown' : 0, 'euthanasia_underage' : 0, 'transfer_barn' : 0}\n",
    "#output is converted from string to catogries 0 to 5 represent each output\n",
    "# separate outcome from data\n",
    "outcome = cats_ohe['outcome']\n",
    "cats_ohe.drop(columns=['outcome'])\n",
    "\n",
    "print(cats_ohe.head())\n",
    "\n",
    "# split the data\n",
    "X_train, X_test, y_train, y_test = train_test_split(cats_ohe, outcome, test_size=0.2, random_state=0)\n",
    "X_train.drop(columns=['outcome'], inplace=True)\n",
    "y_train = [out_t[item] for item in y_train]\n",
    "#print(X_train.shape, X_test.shape, y_train.shape, y_test.shape)"
   ]
  },
  {
   "cell_type": "code",
   "execution_count": 693,
   "metadata": {},
   "outputs": [
    {
     "name": "stdout",
     "output_type": "stream",
     "text": [
      "(23537, 140)\n",
      "(23537,)\n"
     ]
    },
    {
     "data": {
      "image/png": "[encoded data removed]",
      "text/plain": [
       "<Figure size 432x288 with 1 Axes>"
      ]
     },
     "metadata": {},
     "output_type": "display_data"
    }
   ],
   "source": [
    "x_train_ar=X_train.values\n",
    "y_target_ar=np.asarray(y_train)\n",
    "x_train_ar = StandardScaler().fit(x_train_ar).transform(x_train_ar)\n",
    "print(x_train_ar.shape)\n",
    "print(y_target_ar.shape)\n",
    "unique, counts = np.unique(y_target_ar, return_counts=True)\n",
    "np.asarray((unique, counts))\n",
    "plt.pie(np.asarray(( counts)), labels=np.unique(y_target_ar), startangle=90, autopct='%.1f%%')\n",
    "plt.show()"
   ]
  },
  {
   "cell_type": "markdown",
   "metadata": {},
   "source": [
    "# Evaluation "
   ]
  },
  {
   "cell_type": "markdown",
   "metadata": {},
   "source": [
    "# Modeling "
   ]
  },
  {
   "cell_type": "markdown",
   "metadata": {},
   "source": [
    "# Exceptional Work "
   ]
  },
  {
   "cell_type": "code",
   "execution_count": 1177,
   "metadata": {},
   "outputs": [],
   "source": [
    "# Example adapted from https://github.com/rasbt/python-machine-learning-book/blob/master/code/ch12/ch12.ipynb\n",
    "# Original Author: Sebastian Raschka\n",
    "\n",
    "# This is the optional book we use in the course, excellent intuitions and straightforward programming examples\n",
    "# please note, however, that this code has been manipulated to reflect our assumptions and notation.\n",
    "import numpy as np\n",
    "from scipy.special import expit\n",
    "import pandas as pd\n",
    "import sys\n",
    "\n",
    "# start with a simple base classifier, which can't be fit or predicted\n",
    "# it only has internal classes to be used by classes that will subclass it\n",
    "class TwoLayerPerceptronBase(object):\n",
    "    def __init__(self, n_hidden=30,\n",
    "                 C=0.0, epochs=500, eta=0.001, random_state=None,phi='sig',n_ner=2):\n",
    "        np.random.seed(random_state)\n",
    "        self.n_hidden = n_hidden\n",
    "        self.l2_C = C\n",
    "        self.epochs = epochs\n",
    "        self.eta = eta\n",
    "        self.phi=phi\n",
    "        self.n_ner=n_ner\n",
    "        \n",
    "    @staticmethod\n",
    "    def _encode_labels(y):\n",
    "        \"\"\"Encode labels into one-hot representation\"\"\"\n",
    "        onehot = pd.get_dummies(y).values.T\n",
    "            \n",
    "        return onehot\n",
    "\n",
    "    def _initialize_weights(self):\n",
    "        \"\"\"Initialize weights with small random numbers.\"\"\"\n",
    "        #W1_num_elems = (self.n_features_ + 1)*self.n_hidden\n",
    "        #W1 = np.random.uniform(-1.0, 1.0,size=W1_num_elems)\n",
    "        #W1 = W1.reshape(self.n_hidden, self.n_features_ + 1) # reshape to be W\n",
    "        \n",
    "        #W2_num_elems = (self.n_hidden + 1)*self.n_output_\n",
    "        #W2 = np.random.uniform(-1.0, 1.0, size=W2_num_elems)\n",
    "        #W2 = W2.reshape(self.n_output_, self.n_hidden + 1)\n",
    "\n",
    "        for i in range(self.n_ner):\n",
    "         if i==0:\n",
    "          vars()[\"W\" + str(i + 1) +\"_num_elems\"] = (self.n_features_ + 1)*self.n_hidden\n",
    "          vars()[\"W\" + str(i + 1)] = np.random.uniform(-1.0, 1.0,size=W1_num_elems)\n",
    "          vars()[\"W\" + str(i + 1)] = vars()[\"W\" + str(i+1)].reshape(self.n_hidden, self.n_features_ + 1) # reshape to be W \n",
    "\n",
    "         if i>0:\n",
    "          vars()[\"W\" + str(i + 1)+\"_num_elems\"] = (self.n_hidden + 1)*self.n_hidden\n",
    "          vars()[\"W\" + str(i + 1)] = np.random.uniform(-1.0, 1.0,size=vars()[\"W\" + str(i + 1)+\"_num_elems\"])\n",
    "          vars()[\"W\" + str(i + 1)] = vars()[\"W\" + str(i+1)].reshape(self.n_hidden, self.n_hidden + 1) # reshape to be W \n",
    "      \n",
    "         if i==(self.n_ner-1):\n",
    "          vars()[\"W\" + str(i + 1)+\"_num_elems\"] = (self.n_hidden + 1)*self.n_output_  \n",
    "          vars()[\"W\" + str(i + 1)] = np.random.uniform(-1.0, 1.0,size=vars()[\"W\" + str(i + 1)+\"_num_elems\"])\n",
    "          vars()[\"W\" + str(i + 1)] = vars()[\"W\" + str(i+1)].reshape(self.n_output_, self.n_hidden + 1)\n",
    "\n",
    "        return vars()\n",
    "    \n",
    "    @staticmethod\n",
    "    def _sigmoid(z,phi):\n",
    "        \"\"\"Use scipy.special.expit to avoid overflow\"\"\"\n",
    "        # 1.0 / (1.0 + np.exp(-z))\n",
    "        if phi=='sig': \n",
    "         return expit(z)\n",
    "        if phi=='lin': \n",
    "         return z\n",
    "        if phi=='silu': \n",
    "         return expit(z)*z\n",
    "        if phi=='relu': \n",
    "         bol= z>=0  \n",
    "         #z=bol*z\n",
    "         return np.maximum(0,z.copy())\n",
    "    \n",
    "    @staticmethod\n",
    "    def _add_bias_unit(X, how='column'):\n",
    "        \"\"\"Add bias unit (column or row of 1s) to array at index 0\"\"\"\n",
    "        if how == 'column':\n",
    "            ones = np.ones((X.shape[0], 1))\n",
    "            X_new = np.hstack((ones, X))\n",
    "        elif how == 'row':\n",
    "            ones = np.ones((1, X.shape[1]))\n",
    "            X_new = np.vstack((ones, X))\n",
    "        return X_new\n",
    "    \n",
    "    @staticmethod\n",
    "    def _L2_reg(lambda_, W,n):\n",
    "        \"\"\"Compute L2-regularization cost\"\"\"\n",
    "        # only compute for non-bias terms\n",
    "        W_sum=0\n",
    "        for i in range(n):\n",
    "         W_sum=np.mean(W['W'+str(i+1)][:, 1:] ** 2)+W_sum\n",
    "            \n",
    "        sqr=np.sqrt(W_sum)\n",
    "        return (lambda_/2.0) *sqr\n",
    "    \n",
    "    def _cost(self,Al,Y_enc,W):\n",
    "        '''Get the objective function value'''\n",
    "        cost = np.mean((Y_enc-Al)**2)\n",
    "        L2_term = self._L2_reg(self.l2_C, W,self.n_ner)\n",
    "        return cost + L2_term\n",
    "    \n",
    "    def _feedforward(self, X, W, n_ner):\n",
    "        \"\"\"Compute feedforward step\n",
    "        \"\"\" \n",
    "    # for i in range(5):\n",
    "     #   n = 1\n",
    "      #  globals()[\"A\" + str(i + 1)] = a + b\n",
    "       # print(globals()[\"Temp\" + str(i + 1)])\n",
    "        #n = n + 1\n",
    "        #A1 = self._add_bias_unit(X, how='column')\n",
    "        #A1 = A1.T\n",
    "       # Z1 = W1 @ A1\n",
    "        #A2 = self._sigmoid(Z1,self.phi)\n",
    "        #A2 = self._add_bias_unit(A2, how='row')\n",
    "        #Z2 = W2 @ A2\n",
    "        #A3 = self._sigmoid(Z2,'sig')\n",
    "      \n",
    "        for i in range(self.n_ner+1):\n",
    "         if i==0:   \n",
    "          vars()[\"A\"+str(i+1)]=self._add_bias_unit(X, how='column')\n",
    "          vars()[\"A\"+str(i+1)]=vars()[\"A\"+str(i+1)].T\n",
    "          vars()[\"Z\"+str(i+1)]=W[\"W\"+str(i+1)] @ vars()[\"A\"+str(i+1)]\n",
    "          #print(\"W\"+str(i+1))\n",
    "          #print(W[\"W\"+str(i+1)])\n",
    "         if (i>0) and i!=(self.n_ner):\n",
    "          vars()[\"A\"+str(i+1)]=self._sigmoid(vars()[\"Z\"+str(i)],self.phi)\n",
    "          vars()[\"A\"+str(i+1)]=self._add_bias_unit(vars()[\"A\"+str(i+1)], how='row')\n",
    "          vars()[\"Z\"+str(i+1)]=W[\"W\"+str(i+1)]@vars()[\"A\"+str(i+1)]\n",
    "          #print(\"Z\"+str(i+1))\n",
    "          #print(vars()[\"Z\"+str(i+1)])\n",
    "         if i==(self.n_ner):\n",
    "          vars()[\"A\"+str(i+1)]=self._sigmoid(vars()[\"Z\"+str(i)],'sig')\n",
    "          #print(\"A\"+str(i+1))\n",
    "          #print(vars()[\"A\"+str(i+1)].shape)\n",
    "        \n",
    "        return vars()\n",
    "    def _div(b,A_,phi):\n",
    "     \n",
    "        if phi=='sig':   \n",
    "         return A_*(1-A_)\n",
    "        if phi=='lin':     \n",
    "         return 1\n",
    "        if phi=='silu':\n",
    "         return (expit(A_)*A_)+(expit(A_)*(1-expit(A_)*A_))\n",
    "        if phi=='relu': \n",
    "         bol= A_>=0   \n",
    "         return 1  \n",
    "    \n",
    "    def _get_gradient(self, F, Y_enc, W):\n",
    "        \"\"\" Compute gradient step using backpropagation.\n",
    "        \"\"\"\n",
    "        # vectorized backpropagation\n",
    "        #Z1_with_bias = self._add_bias_unit(Z1,how='row')\n",
    "        #Z2_with_bias = self._add_bias_unit(Z2,how='row')\n",
    "        #V2 = -2*(Y_enc-A3)*self._div(A3,self.phi) # last layer sensitivity\n",
    "        #V1 = self._div(A2,self.phi)*(W2.T @ V2) # back prop the sensitivity \n",
    "    \n",
    "        #grad2 = V2 @ A2.T # no bias on final layer\n",
    "        #grad1 = V1[1:,:] @ A1.T # dont back prop sensitivity of bias\n",
    "        \n",
    "        vars()['V'+str(self.n_ner)] = -2*(Y_enc-F[\"A\"+str(self.n_ner+1)])*self._div(F[\"A\"+str(self.n_ner+1)],self.phi)\n",
    "        if self.phi=='relu': \n",
    "         vars()['V'+str(self.n_ner)][F[\"Z\"+str(self.n_ner)]<=0] = 0 \n",
    "        \n",
    "        vars()['grad'+str(self.n_ner)] = vars()['V'+str(self.n_ner)] @ F[\"A\"+str(self.n_ner)].T\n",
    "\n",
    "        vars()['grad'+str(self.n_ner)][:, 1:] += W[\"W\"+str(self.n_ner)][:, 1:] * self.l2_C\n",
    "        for i in range(self.n_ner-1):\n",
    "         l=self.n_ner-1-i\n",
    "         if l==self.n_ner-1:\n",
    "          \n",
    "          vars()[\"Z\"+str(l)+\"_with_bias\"] = self._add_bias_unit(F[\"Z\"+str(l)],how='row')\n",
    "          \n",
    "          vars()['V'+str(l)] = self._div(F[\"A\"+str(l+1)],self.phi)*(W[\"W\"+str(l+1)].T @ vars()['V'+str(l+1)])\n",
    "          if self.phi=='relu':\n",
    "           vars()['V'+str(l)][vars()[\"Z\"+str(l)+\"_with_bias\"]<=0] = 0\n",
    "         if l!=self.n_ner-1:\n",
    "          \n",
    "          vars()[\"Z\"+str(l)+\"_with_bias\"] = self._add_bias_unit(F[\"Z\"+str(l)],how='row')\n",
    "          vars()['V'+str(l)] = self._div(F[\"A\"+str(l+1)],self.phi)*(W[\"W\"+str(l+1)].T @ vars()['V'+str(l+1)][1:, :]) \n",
    "          if self.phi=='relu':\n",
    "           vars()['V'+str(l)][vars()[\"Z\"+str(l)+\"_with_bias\"]<=0] = 0\n",
    "         \n",
    "        \n",
    "         vars()['grad'+str(l)]=vars()['V'+str(l)][1:,:]  @ F[\"A\"+str(l)].T\n",
    "      \n",
    "    \n",
    "         vars()['grad'+str(l)][:, 1:] += W[\"W\"+str(l)][:, 1:] * self.l2_C\n",
    "        # regularize weights that are not bias terms\n",
    "        #grad1[:, 1:] += W1[:, 1:] * self.l2_C\n",
    "        #grad2[:, 1:] += W2[:, 1:] * self.l2_C\n",
    "        \n",
    "        \n",
    "        return vars()\n",
    "    \n",
    "    def predict(self, X):\n",
    "        \"\"\"Predict class labels\"\"\"\n",
    "        p = self._feedforward(X, self.W,self.n_ner)\n",
    "        #print(p[\"A\"+str(self.n_ner+1)])\n",
    "        \n",
    "        y_pred = np.argmax(p[\"A\"+str(self.n_ner+1)], axis=0)\n",
    "        return y_pred"
   ]
  },
  {
   "cell_type": "code",
   "execution_count": 1178,
   "metadata": {},
   "outputs": [],
   "source": [
    "from sklearn.metrics import accuracy_score\n",
    "# just start with the vectorized version and minibatch\n",
    "class TLPMiniBatch(TwoLayerPerceptronBase):\n",
    "    def __init__(self, alpha=0.0, decrease_const=0.0, shuffle=True, \n",
    "                 minibatches=1, **kwds):        \n",
    "        # need to add to the original initializer \n",
    "        self.alpha = alpha\n",
    "        self.decrease_const = decrease_const\n",
    "        self.shuffle = shuffle\n",
    "        self.minibatches = minibatches\n",
    "        # but keep other keywords\n",
    "        super().__init__(**kwds)\n",
    "        \n",
    "    \n",
    "    def fit(self, X, y, print_progress=False):\n",
    "        \"\"\" Learn weights from training data. With mini-batch\"\"\"\n",
    "        X_data, y_data = X.copy(), y.copy()\n",
    "        Y_enc = self._encode_labels(y)\n",
    "        \n",
    "        # init weights and setup matrices\n",
    "        self.n_features_ = X_data.shape[1]\n",
    "        self.n_output_ = Y_enc.shape[0]\n",
    "      \n",
    "          #self.vars()[\"W\" + str(i + 1)]= self._initialize_weights(i)\n",
    "        self.W=self._initialize_weights()\n",
    "        \n",
    "          #print(self.W['W1'])\n",
    "        for i in range(self.n_ner):\n",
    "         vars()[\"delta_W\"+str(i + 1)+\"_prev\"] = np.zeros(self.W[\"W\" + str(i + 1)].shape)\n",
    "        #delta_W2_prev = np.zeros(self.W[2].shape)\n",
    "\n",
    "        self.cost_ = []\n",
    "        self.score_ = []\n",
    "        # get starting acc\n",
    "        self.score_.append(accuracy_score(y_data,self.predict(X_data)))\n",
    "        for i in range(self.epochs):\n",
    "\n",
    "            # adaptive learning rate\n",
    "            self.eta /= (1 + self.decrease_const*i)\n",
    "\n",
    "            if print_progress>0 and (i+1)%print_progress==0:\n",
    "                sys.stderr.write('\\rEpoch: %d/%d' % (i+1, self.epochs))\n",
    "                sys.stderr.flush()\n",
    "\n",
    "            if self.shuffle:\n",
    "                idx_shuffle = np.random.permutation(y_data.shape[0])\n",
    "                X_data, Y_enc, y_data = X_data[idx_shuffle], Y_enc[:, idx_shuffle], y_data[idx_shuffle]\n",
    "\n",
    "            mini = np.array_split(range(y_data.shape[0]), self.minibatches)\n",
    "            mini_cost = []\n",
    "            for idx in mini:\n",
    "\n",
    "                # feedforward\n",
    "             \n",
    "                F = self._feedforward(X_data[idx],self.W,self.n_ner)\n",
    "                                                      \n",
    "                              # F[\"A\"+str(self.n_ner+1)]                     \n",
    "                \n",
    "                cost = self._cost(F[\"A\"+str(self.n_ner+1)],Y_enc[:, idx],self.W)\n",
    "                mini_cost.append(cost) # this appends cost of mini-batch only\n",
    "\n",
    "                # compute gradient via backpropagation\n",
    "                grad= self._get_gradient(F= F, \n",
    "                                                  Y_enc=Y_enc[:, idx],\n",
    "                                                  W=self.W)\n",
    "                \n",
    "                # momentum calculations\n",
    "                for i in range(self.n_ner):\n",
    "                 #delta_W1, delta_W2 = self.eta * grad1, self.eta * grad2\n",
    "                 #self.W1 -= (delta_W1 + (self.alpha * delta_W1_prev))\n",
    "                 #self.W2 -= (delta_W2 + (self.alpha * delta_W2_prev))\n",
    "                 #delta_W1_prev, delta_W2_prev = delta_W1, delta_W2\n",
    "                 vars()[\"delta_W\"+str(i + 1)] = self.eta * grad[\"grad\"+str(i + 1)]\n",
    "                 self.W[\"W\"+str(i + 1)] -=(vars()[\"delta_W\"+str(i + 1)]+ (self.alpha * vars()[\"delta_W\"+str(i + 1)+\"_prev\"]))\n",
    "                 vars()[\"delta_W\"+str(i + 1)+\"_prev\"]=vars()[\"delta_W\"+str(i + 1)]   \n",
    "            self.cost_.append(mini_cost)\n",
    "            self.score_.append(accuracy_score(y_data,self.predict(X_data)))\n",
    "            \n",
    "        return self"
   ]
  },
  {
   "cell_type": "code",
   "execution_count": 1188,
   "metadata": {},
   "outputs": [
    {
     "name": "stderr",
     "output_type": "stream",
     "text": [
      "\r",
      "Epoch: 50/50"
     ]
    },
    {
     "name": "stdout",
     "output_type": "stream",
     "text": [
      "Accuracy: 0.13846284573225134\n",
      "Wall time: 8.69 s\n"
     ]
    }
   ],
   "source": [
    "%%time\n",
    "params = dict(n_hidden=100, \n",
    "              C=.0001, # tradeoff L2 regularizer\n",
    "              epochs=50, # iterations\n",
    "              eta=0.001,  # learning rate\n",
    "              random_state=1,\n",
    "              phi='lin',n_ner=3)\n",
    "nn_mini = TLPMiniBatch(**params,\n",
    "                          alpha=0.001,# momentum calculation\n",
    "                          decrease_const=0.0001, # decreasing eta\n",
    "                          minibatches=50, # minibatch size\n",
    "                          shuffle=False)\n",
    "\n",
    "    \n",
    "nn_mini.fit(x_train_ar, y_target_ar, print_progress=50)\n",
    "yhat = nn_mini.predict(x_train_ar)\n",
    "print('Accuracy:',accuracy_score(y_target_ar,yhat))"
   ]
  },
  {
   "cell_type": "code",
   "execution_count": 771,
   "metadata": {},
   "outputs": [
    {
     "data": {
      "text/plain": [
       "[0.5901707246762582]"
      ]
     },
     "execution_count": 771,
     "metadata": {},
     "output_type": "execute_result"
    }
   ],
   "source": [
    "cost_avgs = [np.mean(x) for x in nn_mini.cost_]\n",
    "\n",
    "cost_avgs\n",
    "0.6437948761524408\n",
    "0.6187704465309938"
   ]
  },
  {
   "cell_type": "code",
   "execution_count": 1186,
   "metadata": {
    "scrolled": true
   },
   "outputs": [
    {
     "data": {
      "text/plain": [
       "[<matplotlib.lines.Line2D at 0x19b84324b70>]"
      ]
     },
     "execution_count": 1186,
     "metadata": {},
     "output_type": "execute_result"
    },
    {
     "data": {
      "image/png": "[encoded data removed]",
      "text/plain": [
       "<Figure size 432x288 with 1 Axes>"
      ]
     },
     "metadata": {
      "needs_background": "light"
     },
     "output_type": "display_data"
    }
   ],
   "source": [
    "plt.plot(yhat)"
   ]
  },
  {
   "cell_type": "code",
   "execution_count": 1001,
   "metadata": {},
   "outputs": [
    {
     "data": {
      "text/plain": [
       "array([ 0.3287515 ,  0.78007737,  0.50884027, ..., -0.01190517,\n",
       "        0.23624704, -0.87097904])"
      ]
     },
     "execution_count": 1001,
     "metadata": {},
     "output_type": "execute_result"
    }
   ],
   "source": [
    "np.random.uniform(-1.0, 1.0,size=W1_num_elems)"
   ]
  },
  {
   "cell_type": "code",
   "execution_count": 1168,
   "metadata": {},
   "outputs": [],
   "source": [
    "vars()[\"k1\"]=np.random.uniform(-1.0, 1.0,size=25)\n",
    "vars()[\"k1\"]=k1.reshape(5,5)\n",
    "vars()[\"k2\"]=np.random.uniform(-1.0, 1.0,size=25)\n",
    "vars()[\"k2\"]=k2.reshape(5,5)"
   ]
  },
  {
   "cell_type": "code",
   "execution_count": 1169,
   "metadata": {},
   "outputs": [
    {
     "data": {
      "text/plain": [
       "array([[-0.5812825 ,  0.53904983, -0.54874151, -0.97117768, -0.28838004],\n",
       "       [-0.65669168, -0.99781367,  0.57433824,  0.81611962, -0.74482606],\n",
       "       [ 0.69866657, -0.44944153, -0.4813255 ,  0.47311558,  0.948348  ],\n",
       "       [-0.713536  , -0.32607229, -0.04424858, -0.31697137,  0.50855873],\n",
       "       [-0.1028998 , -0.42067045,  0.97813952, -0.75106289,  0.83094874]])"
      ]
     },
     "execution_count": 1169,
     "metadata": {},
     "output_type": "execute_result"
    }
   ],
   "source": [
    "k1\n",
    "k2"
   ]
  },
  {
   "cell_type": "code",
   "execution_count": 1170,
   "metadata": {},
   "outputs": [
    {
     "data": {
      "text/plain": [
       "array([-0.5812825 ,  0.53904983, -0.54874151, -0.28838004, -0.65669168,\n",
       "        0.57433824,  0.81611962,  0.47311558,  0.948348  , -0.713536  ,\n",
       "       -0.31697137,  0.50855873, -0.42067045, -0.75106289])"
      ]
     },
     "execution_count": 1170,
     "metadata": {},
     "output_type": "execute_result"
    }
   ],
   "source": [
    "k2[k1<=0]"
   ]
  },
  {
   "cell_type": "code",
   "execution_count": 1172,
   "metadata": {},
   "outputs": [],
   "source": [
    "vars()[\"k2\"][vars()[\"k1\"]<=0]=0"
   ]
  },
  {
   "cell_type": "code",
   "execution_count": 1173,
   "metadata": {},
   "outputs": [
    {
     "data": {
      "text/plain": [
       "array([[ 0.        ,  0.        ,  0.        , -0.97117768,  0.        ],\n",
       "       [ 0.        , -0.99781367,  0.        ,  0.        , -0.74482606],\n",
       "       [ 0.69866657, -0.44944153, -0.4813255 ,  0.        ,  0.        ],\n",
       "       [ 0.        , -0.32607229, -0.04424858,  0.        ,  0.        ],\n",
       "       [-0.1028998 ,  0.        ,  0.97813952,  0.        ,  0.83094874]])"
      ]
     },
     "execution_count": 1173,
     "metadata": {},
     "output_type": "execute_result"
    }
   ],
   "source": [
    "vars()[\"k2\"]"
   ]
  },
  {
   "cell_type": "code",
   "execution_count": null,
   "metadata": {},
   "outputs": [],
   "source": []
  }
 ],
 "metadata": {
  "kernelspec": {
   "display_name": "Python 3",
   "language": "python",
   "name": "python3"
  },
  "language_info": {
   "codemirror_mode": {
    "name": "ipython",
    "version": 3
   },
   "file_extension": ".py",
   "mimetype": "text/x-python",
   "name": "python",
   "nbconvert_exporter": "python",
   "pygments_lexer": "ipython3",
   "version": "3.7.1"
  }
 },
 "nbformat": 4,
 "nbformat_minor": 2
}
