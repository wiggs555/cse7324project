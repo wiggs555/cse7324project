{
 "cells": [
  {
   "cell_type": "markdown",
   "metadata": {},
   "source": [
    "# CSE 7324 Lab 4: Evaluation and Multi-Layer Perceptron\n",
    "### Thomas Adams, Suleiman Hijazeen, Nancy Le and Andrew Whigham"
   ]
  },
  {
   "cell_type": "markdown",
   "metadata": {},
   "source": [
    "\n",
    "# 1. Preparation and Overview"
   ]
  },
  {
   "cell_type": "markdown",
   "metadata": {},
   "source": [
    "## 1.1 Business Understanding"
   ]
  },
  {
   "cell_type": "markdown",
   "metadata": {},
   "source": [
    "\n",
    "Austin Animal Center is the largest no-kill shelter in the United States and provides shelter to more than 16,000 animals each year. As a no-kill shelter they refuse to euthanize any animal unless the animal has a terminal medical issue and is in pain or if the animal is a danger to the public or to the shelter staff. The Center keeps track of each animal that comes through their doors and keeps a record of the animal’s outcome; that is whether they were adopted, transferred to a partner shelter or sanctuary or one of many other outcomes. If the shelter could predict an animal’s outcome based on the animal’s characteristics, they could be much more efficient with having animals leave the shelter by knowing which animals they should be able to adopt out and which animals they should transfer to other shelters or sanctuaries.\n",
    "\n",
    "This lab examines the Austin Animal Center animal outcome data set to specifically look at cats and the outcome of each cat and attempts to build an accurate model of predicting the outcome. Our prediction model can perform how likely an animal be adopted, transferred or stayed in a shelter forever with a high accuracy. This model could serve the Austin Animal Center and other parties such as other shelters or shelter donors that are looking at issuing a no-kill ordinance for their shelters.\n"
   ]
  },
  {
   "cell_type": "markdown",
   "metadata": {},
   "source": [
    "## 1.2 Data Preparation"
   ]
  },
  {
   "cell_type": "code",
   "execution_count": 1,
   "metadata": {},
   "outputs": [],
   "source": [
    "# dependencies\n",
    "import pandas as pd\n",
    "import numpy as np\n",
    "import missingno as msno \n",
    "import matplotlib.pyplot as plt\n",
    "import re\n",
    "from sklearn.model_selection import train_test_split\n",
    "\n",
    "from textwrap import wrap\n",
    "from sklearn.preprocessing import StandardScaler\n",
    "import warnings\n",
    "warnings.filterwarnings(\"ignore\")\n",
    "import math\n",
    "%matplotlib inline"
   ]
  },
  {
   "cell_type": "code",
   "execution_count": 248,
   "metadata": {
    "scrolled": true
   },
   "outputs": [
    {
     "data": {
      "text/html": [
       "<div>\n",
       "<style scoped>\n",
       "    .dataframe tbody tr th:only-of-type {\n",
       "        vertical-align: middle;\n",
       "    }\n",
       "\n",
       "    .dataframe tbody tr th {\n",
       "        vertical-align: top;\n",
       "    }\n",
       "\n",
       "    .dataframe thead th {\n",
       "        text-align: right;\n",
       "    }\n",
       "</style>\n",
       "<table border=\"1\" class=\"dataframe\">\n",
       "  <thead>\n",
       "    <tr style=\"text-align: right;\">\n",
       "      <th></th>\n",
       "      <th>breed</th>\n",
       "      <th>color</th>\n",
       "      <th>age</th>\n",
       "      <th>dob_month</th>\n",
       "      <th>dob_day</th>\n",
       "      <th>dob_dayofweek</th>\n",
       "      <th>month</th>\n",
       "      <th>day</th>\n",
       "      <th>dayofweek</th>\n",
       "      <th>hour</th>\n",
       "      <th>quarter</th>\n",
       "      <th>breed1</th>\n",
       "      <th>color1</th>\n",
       "      <th>spayed_neutered</th>\n",
       "      <th>sex</th>\n",
       "      <th>domestic</th>\n",
       "      <th>outcome</th>\n",
       "    </tr>\n",
       "  </thead>\n",
       "  <tbody>\n",
       "    <tr>\n",
       "      <th>0</th>\n",
       "      <td>domestic shorthair</td>\n",
       "      <td>orange tabby</td>\n",
       "      <td>15</td>\n",
       "      <td>7</td>\n",
       "      <td>7</td>\n",
       "      <td>0</td>\n",
       "      <td>7</td>\n",
       "      <td>22</td>\n",
       "      <td>1</td>\n",
       "      <td>16</td>\n",
       "      <td>3</td>\n",
       "      <td>None</td>\n",
       "      <td>None</td>\n",
       "      <td>False</td>\n",
       "      <td>male</td>\n",
       "      <td>1</td>\n",
       "      <td>transfer_partner</td>\n",
       "    </tr>\n",
       "    <tr>\n",
       "      <th>8</th>\n",
       "      <td>domestic shorthair</td>\n",
       "      <td>blue tabby</td>\n",
       "      <td>59</td>\n",
       "      <td>6</td>\n",
       "      <td>16</td>\n",
       "      <td>0</td>\n",
       "      <td>8</td>\n",
       "      <td>14</td>\n",
       "      <td>3</td>\n",
       "      <td>18</td>\n",
       "      <td>3</td>\n",
       "      <td>None</td>\n",
       "      <td>white</td>\n",
       "      <td>False</td>\n",
       "      <td>female</td>\n",
       "      <td>1</td>\n",
       "      <td>adoption_unknown</td>\n",
       "    </tr>\n",
       "    <tr>\n",
       "      <th>9</th>\n",
       "      <td>domestic shorthair</td>\n",
       "      <td>white</td>\n",
       "      <td>95</td>\n",
       "      <td>3</td>\n",
       "      <td>26</td>\n",
       "      <td>2</td>\n",
       "      <td>6</td>\n",
       "      <td>29</td>\n",
       "      <td>6</td>\n",
       "      <td>17</td>\n",
       "      <td>2</td>\n",
       "      <td>None</td>\n",
       "      <td>black</td>\n",
       "      <td>True</td>\n",
       "      <td>female</td>\n",
       "      <td>1</td>\n",
       "      <td>adoption_offsite</td>\n",
       "    </tr>\n",
       "    <tr>\n",
       "      <th>10</th>\n",
       "      <td>domestic mediumhair</td>\n",
       "      <td>black</td>\n",
       "      <td>366</td>\n",
       "      <td>3</td>\n",
       "      <td>27</td>\n",
       "      <td>2</td>\n",
       "      <td>3</td>\n",
       "      <td>28</td>\n",
       "      <td>4</td>\n",
       "      <td>14</td>\n",
       "      <td>1</td>\n",
       "      <td>None</td>\n",
       "      <td>white</td>\n",
       "      <td>True</td>\n",
       "      <td>female</td>\n",
       "      <td>1</td>\n",
       "      <td>return-to-owner_unknown</td>\n",
       "    </tr>\n",
       "    <tr>\n",
       "      <th>17</th>\n",
       "      <td>domestic shorthair</td>\n",
       "      <td>black</td>\n",
       "      <td>24</td>\n",
       "      <td>12</td>\n",
       "      <td>16</td>\n",
       "      <td>0</td>\n",
       "      <td>1</td>\n",
       "      <td>9</td>\n",
       "      <td>3</td>\n",
       "      <td>19</td>\n",
       "      <td>1</td>\n",
       "      <td>None</td>\n",
       "      <td>white</td>\n",
       "      <td>False</td>\n",
       "      <td>male</td>\n",
       "      <td>1</td>\n",
       "      <td>transfer_partner</td>\n",
       "    </tr>\n",
       "  </tbody>\n",
       "</table>\n",
       "</div>"
      ],
      "text/plain": [
       "                  breed         color  age  dob_month  dob_day  dob_dayofweek  \\\n",
       "0    domestic shorthair  orange tabby   15          7        7              0   \n",
       "8    domestic shorthair    blue tabby   59          6       16              0   \n",
       "9    domestic shorthair         white   95          3       26              2   \n",
       "10  domestic mediumhair         black  366          3       27              2   \n",
       "17   domestic shorthair         black   24         12       16              0   \n",
       "\n",
       "    month  day  dayofweek  hour  quarter breed1 color1 spayed_neutered  \\\n",
       "0       7   22          1    16        3   None   None           False   \n",
       "8       8   14          3    18        3   None  white           False   \n",
       "9       6   29          6    17        2   None  black            True   \n",
       "10      3   28          4    14        1   None  white            True   \n",
       "17      1    9          3    19        1   None  white           False   \n",
       "\n",
       "       sex  domestic                  outcome  \n",
       "0     male         1         transfer_partner  \n",
       "8   female         1         adoption_unknown  \n",
       "9   female         1         adoption_offsite  \n",
       "10  female         1  return-to-owner_unknown  \n",
       "17    male         1         transfer_partner  "
      ]
     },
     "execution_count": 248,
     "metadata": {},
     "output_type": "execute_result"
    }
   ],
   "source": [
    "# import data\n",
    "shelter_outcomes =  pd.read_csv(\"C:/Users/sulem/OneDrive/Desktop/machin learnign/Project3/aac_shelter_outcomes.csv\")\n",
    "# filter animal type for just cats\n",
    "cats = shelter_outcomes[shelter_outcomes['animal_type'] == 'Cat']\n",
    "#print(cats.head())\n",
    "\n",
    "# remove age_upon_outcome and recalculate to standard units (days)\n",
    "age = cats.loc[:,['datetime', 'date_of_birth']]\n",
    "# convert to datetime\n",
    "age.loc[:,'datetime'] = pd.to_datetime(age['datetime'])\n",
    "age.loc[:,'date_of_birth'] = pd.to_datetime(age['date_of_birth'])\n",
    "# calculate cat age in days\n",
    "cats.loc[:,'age'] = (age.loc[:,'datetime'] - age.loc[:,'date_of_birth']).dt.days\n",
    "# get dob info\n",
    "cats['dob_month'] = age.loc[:, 'date_of_birth'].dt.month\n",
    "cats['dob_day'] = age.loc[:, 'date_of_birth'].dt.day\n",
    "cats['dob_dayofweek'] = age.loc[:, 'date_of_birth'].dt.dayofweek\n",
    "# get month from datetime\n",
    "cats['month'] = age.loc[:,'datetime'].dt.month\n",
    "# get day of month\n",
    "cats['day'] = age.loc[:,'datetime'].dt.day\n",
    "# get day of week\n",
    "cats['dayofweek'] = age.loc[:, 'datetime'].dt.dayofweek\n",
    "# get hour of day\n",
    "cats['hour'] = age.loc[:, 'datetime'].dt.hour\n",
    "# get quarter\n",
    "cats['quarter'] = age.loc[:, 'datetime'].dt.quarter\n",
    "\n",
    "# clean up breed attribute\n",
    "# get breed attribute for processing\n",
    "# convert to lowercase, remove mix and strip whitespace\n",
    "# remove space in 'medium hair' to match 'longhair' and 'shorthair'\n",
    "# split on either space or '/'\n",
    "breed = cats.loc[:, 'breed'].str.lower().str.replace('mix', '').str.replace('medium hair', 'mediumhair').str.strip().str.split('/', expand=True)\n",
    "cats['breed'] = breed[0]\n",
    "cats['breed1'] = breed[1]\n",
    "\n",
    "# clean up color attribute\n",
    "# convert to lowercase\n",
    "# strip spaces\n",
    "# split on '/'\n",
    "color = cats.loc[:, 'color'].str.lower().str.strip().str.split('/', expand=True)\n",
    "cats['color'] = color[0]\n",
    "cats['color1'] = color[1]\n",
    "\n",
    "# clean up sex_upon_outcome\n",
    "sex = cats['sex_upon_outcome'].str.lower().str.strip().str.split(' ', expand=True)\n",
    "sex[0].replace('spayed', True, inplace=True)\n",
    "sex[0].replace('neutered', True, inplace=True)\n",
    "sex[0].replace('intact', False, inplace=True)\n",
    "sex[1].replace(np.nan, 'unknown', inplace=True)\n",
    "cats['spayed_neutered'] = sex[0]\n",
    "cats['sex'] = sex[1]\n",
    "\n",
    "# add in domesticated attribute\n",
    "cats['domestic'] = np.where(cats['breed'].str.contains('domestic'), 1, 0)\n",
    "\n",
    "# combine outcome and outcome subtype into a single attribute\n",
    "cats['outcome_subtype'] = cats['outcome_subtype'].str.lower().str.replace(' ', '-').fillna('unknown')\n",
    "cats['outcome_type'] = cats['outcome_type'].str.lower().str.replace(' ', '-').fillna('unknown')\n",
    "cats['outcome'] = cats['outcome_type'] + '_' + cats['outcome_subtype']\n",
    "\n",
    "# drop unnecessary columns\n",
    "cats.drop(columns=['animal_id', 'name', 'animal_type', 'age_upon_outcome', 'date_of_birth', 'datetime', 'monthyear', 'sex_upon_outcome', 'outcome_subtype', 'outcome_type'], inplace=True)\n",
    "#print(cats['outcome'].value_counts())\n",
    "\n",
    "cats.head()\n"
   ]
  },
  {
   "cell_type": "markdown",
   "metadata": {},
   "source": [
    "Not all information included in this data set is necessary to the targeted prediction of outcome type. Some animals that were adopted were returned to the shelter as runaways before being returned to their owners. These instances have no impact on trying to predict outcome and will be removed from the data set.\n",
    "\n"
   ]
  },
  {
   "cell_type": "markdown",
   "metadata": {},
   "source": [
    "## 1.3 Data Description"
   ]
  },
  {
   "cell_type": "code",
   "execution_count": 4,
   "metadata": {},
   "outputs": [
    {
     "name": "stdout",
     "output_type": "stream",
     "text": [
      "Default datatypes of shelter cat outcomes:\n",
      "\n",
      "breed              object\n",
      "color              object\n",
      "age                 int64\n",
      "dob_month           int64\n",
      "dob_day             int64\n",
      "dob_dayofweek       int64\n",
      "month               int64\n",
      "day                 int64\n",
      "dayofweek           int64\n",
      "hour                int64\n",
      "quarter             int64\n",
      "breed1             object\n",
      "color1             object\n",
      "spayed_neutered    object\n",
      "sex                object\n",
      "domestic            int32\n",
      "outcome            object\n",
      "dtype: object\n",
      "\n",
      "Below is a description of the attributes in the cats dataframe:\n",
      "\n"
     ]
    }
   ],
   "source": [
    "print(\"Default datatypes of shelter cat outcomes:\\n\")\n",
    "print(cats.dtypes)\n",
    "\n",
    "print(\"\\nBelow is a description of the attributes in the cats dataframe:\\n\")"
   ]
  },
  {
   "cell_type": "code",
   "execution_count": 17,
   "metadata": {
    "scrolled": false
   },
   "outputs": [
    {
     "name": "stdout",
     "output_type": "stream",
     "text": [
      "Below is a listing of the target classes and their distributions:\n"
     ]
    },
    {
     "data": {
      "text/plain": [
       "transfer_partner           9486\n",
       "adoption_unknown           9264\n",
       "adoption_foster            3357\n",
       "transfer_scrp              3211\n",
       "return-to-owner_unknown    1431\n",
       "euthanasia_suffering       1304\n",
       "transfer_snr                625\n",
       "died_in-kennel              208\n",
       "died_in-foster              138\n",
       "adoption_offsite            110\n",
       "euthanasia_rabies-risk       61\n",
       "euthanasia_medical           56\n",
       "rto-adopt_unknown            33\n",
       "died_at-vet                  17\n",
       "died_unknown                 17\n",
       "disposal_unknown             16\n",
       "euthanasia_at-vet            16\n",
       "died_enroute                 15\n",
       "missing_in-foster            14\n",
       "euthanasia_unknown           11\n",
       "died_in-surgery               8\n",
       "missing_in-kennel             7\n",
       "missing_unknown               5\n",
       "euthanasia_aggressive         4\n",
       "unknown_unknown               3\n",
       "missing_possible-theft        2\n",
       "adoption_barn                 1\n",
       "euthanasia_underage           1\n",
       "transfer_barn                 1\n",
       "Name: outcome, dtype: int64"
      ]
     },
     "execution_count": 17,
     "metadata": {},
     "output_type": "execute_result"
    }
   ],
   "source": [
    "print('Below is a listing of the target classes and their distributions:')\n",
    "cats['outcome'].value_counts()"
   ]
  },
  {
   "cell_type": "markdown",
   "metadata": {},
   "source": [
    "\n",
    "Each feature has a different count, a low count per feature decrease the accuracy and the efficiency of the logistic regression method used, so all features with low count was not taken into account in traning the classfier"
   ]
  },
  {
   "cell_type": "code",
   "execution_count": 18,
   "metadata": {
    "scrolled": false
   },
   "outputs": [
    {
     "data": {
      "text/plain": [
       "<matplotlib.axes._subplots.AxesSubplot at 0x7fd630e9d0f0>"
      ]
     },
     "execution_count": 18,
     "metadata": {},
     "output_type": "execute_result"
    },
    {
     "data": {
      "image/png": "[encoded data removed]",
      "text/plain": [
       "<Figure size 1800x720 with 2 Axes>"
      ]
     },
     "metadata": {
      "needs_background": "light"
     },
     "output_type": "display_data"
    }
   ],
   "source": [
    "# examine missing data\n",
    "msno.matrix(cats)"
   ]
  },
  {
   "cell_type": "markdown",
   "metadata": {},
   "source": [
    "\n",
    "Since the missing data shows that breed1 will have little impact on the prediction since there are only two records that have a value, it will be removed from the data set. The missing data in color1 should be handled when one hot encoding is performed on it."
   ]
  },
  {
   "cell_type": "markdown",
   "metadata": {},
   "source": [
    "\n",
    "## 1.4 One hot encoding of data and splitting into training and testing sets"
   ]
  },
  {
   "cell_type": "code",
   "execution_count": 249,
   "metadata": {},
   "outputs": [
    {
     "name": "stdout",
     "output_type": "stream",
     "text": [
      "    age  dob_month  dob_day  dob_dayofweek  month  day  dayofweek  hour  \\\n",
      "0    15          7        7              0      7   22          1    16   \n",
      "8    59          6       16              0      8   14          3    18   \n",
      "9    95          3       26              2      6   29          6    17   \n",
      "10  366          3       27              2      3   28          4    14   \n",
      "17   24         12       16              0      1    9          3    19   \n",
      "\n",
      "    quarter  domestic     ...      color1_tortie point  color1_tricolor  \\\n",
      "0         3         1     ...                        0                0   \n",
      "8         3         1     ...                        0                0   \n",
      "9         2         1     ...                        0                0   \n",
      "10        1         1     ...                        0                0   \n",
      "17        1         1     ...                        0                0   \n",
      "\n",
      "    color1_white  color1_yellow  spayed_neutered_False  spayed_neutered_True  \\\n",
      "0              0              0                      1                     0   \n",
      "8              1              0                      1                     0   \n",
      "9              0              0                      0                     1   \n",
      "10             1              0                      0                     1   \n",
      "17             1              0                      1                     0   \n",
      "\n",
      "    spayed_neutered_unknown  sex_female  sex_male  sex_unknown  \n",
      "0                         0           0         1            0  \n",
      "8                         0           1         0            0  \n",
      "9                         0           1         0            0  \n",
      "10                        0           1         0            0  \n",
      "17                        0           0         1            0  \n",
      "\n",
      "[5 rows x 141 columns]\n"
     ]
    }
   ],
   "source": [
    "cats.drop(columns=['breed1'], inplace=True)\n",
    "# Breed, Color, Color1, Spayed_Netured and Sex attributes need to be one hot encoded\n",
    "cats_ohe = pd.get_dummies(cats, columns=['breed', 'color', 'color1', 'spayed_neutered', 'sex'])\n",
    "cats_ohe.head()\n",
    "out_t={'euthanasia_suffering' : 0, 'died_in-kennel' : 0, 'return-to-owner_unknown' : 0, 'transfer_partner' : 1, 'euthanasia_at-vet' : 2, 'adoption_foster' : 3, 'died_in-foster' : 0, 'transfer_scrp' : 4, 'euthanasia_medical' : 0, 'transfer_snr' : 0, 'died_enroute' : 0, 'rto-adopt_unknown' : 0, 'missing_in-foster' : 0, 'adoption_offsite' : 0, 'adoption_unknown' :5,'euthanasia_rabies-risk' : 0, 'unknown_unknown' : 0, 'adoption_barn' : 0, 'died_unknown' : 0, 'died_in-surgery' : 0, 'euthanasia_aggressive' : 0, 'euthanasia_unknown' : 0, 'missing_unknown' : 0, 'missing_in-kennel' : 0, 'missing_possible-theft' : 0, 'died_at-vet' : 0, 'disposal_unknown' : 0, 'euthanasia_underage' : 0, 'transfer_barn' : 0}\n",
    "#output is converted from string to catogries 0 to 5 represent each output\n",
    "# separate outcome from data\n",
    "outcome = cats_ohe['outcome']\n",
    "cats_ohe.drop(columns=['outcome'])\n",
    "\n",
    "print(cats_ohe.head())\n",
    "\n",
    "# split the data\n",
    "X_train, X_test, y_train, y_test = train_test_split(cats_ohe, outcome, test_size=0.2, random_state=0)\n",
    "X_train.drop(columns=['outcome'], inplace=True)\n",
    "y_train = np.asarray([out_t[item] for item in y_train])\n",
    "#print(X_train.shape, X_test.shape, y_train.shape, y_test.shape)"
   ]
  },
  {
   "cell_type": "markdown",
   "metadata": {},
   "source": [
    "\n",
    "One hot encoding is used for the cat breed, color, spayed/neutered and sex attributes to convert the categorical variables into a form that should play nicer with logistic regression. Although spayed_neutered and sex are essentially boolean attributes, they had to be converted because there were many unknown values in each.\n",
    "\n",
    "The data is split with an 80/20 train/test ratio using the train_test_split function in the cross validation functions in Skikit Learn's cross validation package. Although this was an easy method to split the data into training and test sets, it was not a good way to split the data for this dataset. As shown above, the target distribution is skewed and some targets have very few instances. It would have been better to select an 80/20 ratio for each class."
   ]
  },
  {
   "cell_type": "code",
   "execution_count": 250,
   "metadata": {
    "scrolled": true
   },
   "outputs": [
    {
     "name": "stdout",
     "output_type": "stream",
     "text": [
      "(23537, 140)\n",
      "(23537,)\n"
     ]
    },
    {
     "data": {
      "text/plain": [
       "array([[   0,    1,    2,    3,    4,    5],\n",
       "       [3259, 7600,   10, 2687, 2563, 7418]], dtype=int64)"
      ]
     },
     "execution_count": 250,
     "metadata": {},
     "output_type": "execute_result"
    }
   ],
   "source": [
    "x_train_ar=X_train.values\n",
    "y_target_ar=np.asarray(y_train)\n",
    "x_train_ar = StandardScaler().fit(x_train_ar).transform(x_train_ar)\n",
    "\n",
    "print(x_train_ar.shape)\n",
    "print(y_target_ar.shape)\n",
    "unique, counts = np.unique(y_target_ar, return_counts=True)\n",
    "np.asarray((unique, counts))\n"
   ]
  },
  {
   "cell_type": "markdown",
   "metadata": {},
   "source": [
    "# Evaluation "
   ]
  },
  {
   "cell_type": "markdown",
   "metadata": {},
   "source": [
    "The metric we will use to determine the performance of our model will be the weighted macro-averaged F1 score. We are using weighted macro-averaging instead of regular macro-averaging since we have a class imbalance problem. The number of instances for each class varies quite greatly and we want to use a metric that will weigh the scores equally for each class regardless of the number of instances for that class. We are using macro-averaging instead of micro-averaging because we care about each class equally and we don't want to skew the results toward one particular class's precision/recall.\n",
    "\n",
    "We are using F1 as we care both about precision and recall. The goal of the Austin Animal Center is to determine in advance how likely an animal is to be adopted, transferred, or if it will never be either. In any case, mislabeling has dire consequences. If we classify an animal as likely adoptable but are incorrect, it could have financial consequences. If we incorrectly ignore an animal because we think it wouldn't be adopted, we missed out on providing a home for a pet in need."
   ]
  },
  {
   "cell_type": "code",
   "execution_count": 163,
   "metadata": {},
   "outputs": [],
   "source": [
    "from sklearn.metrics import make_scorer, accuracy_score\n",
    "from sklearn.metrics import precision_score, recall_score, f1_score\n",
    "\n",
    "# macro-averaged f1\n",
    "\n",
    "macro_avg_f1_scorer = make_scorer(score_func=f1_score,\n",
    "                                 pos_label=1,\n",
    "                                 greater_is_better=True,\n",
    "                                 average='micro')"
   ]
  },
  {
   "cell_type": "markdown",
   "metadata": {},
   "source": [
    "## Stratified k-fold Cross Validation"
   ]
  },
  {
   "cell_type": "markdown",
   "metadata": {},
   "source": [
    "To break up our data into training and test sets, we have chosen to implement k-fold cross validation. Because our data has varying numbers of instances for each class, stratified k-fold cross validation will allow us to train on sections of data that retain the same proportions of classes as the overall dataset."
   ]
  },
  {
   "cell_type": "code",
   "execution_count": 258,
   "metadata": {},
   "outputs": [
    {
     "data": {
      "image/png": "[encoded data removed]",
      "text/plain": [
       "<Figure size 432x288 with 1 Axes>"
      ]
     },
     "metadata": {},
     "output_type": "display_data"
    },
    {
     "name": "stdout",
     "output_type": "stream",
     "text": [
      "Number of instances of other : 4088\n",
      "Number of instances of transfer_partner : 9486\n",
      "Number of instances of euthanasia_at-vet : 16\n",
      "Number of instances of adoption_foster : 3357\n",
      "Number of instances of transfer_scrp : 3211\n",
      "Number of instances of adoption_unknown : 9264\n"
     ]
    }
   ],
   "source": [
    "from matplotlib import pyplot as plt\n",
    "import copy\n",
    "%matplotlib inline\n",
    "\n",
    "\n",
    "X = copy.deepcopy(cats_ohe)\n",
    "X.drop(columns=['outcome'], inplace=True)\n",
    "y = copy.deepcopy(cats_ohe['outcome'])\n",
    "y = [out_t[item] for item in y]\n",
    "\n",
    "target_labels = {'other': 0}\n",
    "for key in out_t:\n",
    "    if out_t[key] != 0:\n",
    "        target_labels[key] = out_t[key]\n",
    "        \n",
    "#print (target_labels)\n",
    "\n",
    "unique, counts = np.unique(y, return_counts=True)\n",
    "\n",
    "np.asarray((unique, counts)).T\n",
    "\n",
    "\n",
    "plt.style.use('ggplot')\n",
    "\n",
    "plt.pie(counts, labels=target_labels, startangle=135, autopct='%.1f%%')\n",
    "plt.show()\n",
    "\n",
    "for lbl in target_labels:\n",
    "    print('Number of instances of', lbl, ':', counts[target_labels[lbl]])"
   ]
  },
  {
   "cell_type": "code",
   "execution_count": 259,
   "metadata": {},
   "outputs": [
    {
     "name": "stdout",
     "output_type": "stream",
     "text": [
      "[[-0.52745758  0.28709801 -0.97799631 ... -0.93138104  1.10652135\n",
      "  -0.30659201]\n",
      " [-0.48270876 -0.06728182  0.04358739 ...  1.07367442 -0.90373312\n",
      "  -0.30659201]\n",
      " [-0.44609608 -1.13042131  1.17868038 ...  1.07367442 -0.90373312\n",
      "  -0.30659201]\n",
      " ...\n",
      " [-0.16946698 -1.83918097  1.63271758 ... -0.93138104  1.10652135\n",
      "  -0.30659201]\n",
      " [-0.35151334  0.28709801  1.40569898 ...  1.07367442 -0.90373312\n",
      "  -0.30659201]\n",
      " [-0.35151334  0.28709801  1.40569898 ... -0.93138104  1.10652135\n",
      "  -0.30659201]]\n",
      "[1 5 0 ... 1 5 5]\n"
     ]
    }
   ],
   "source": [
    "\n",
    "x_ar=X.values\n",
    "y_ar=np.asarray(y)\n",
    "x_ar = StandardScaler().fit(x_ar).transform(x_ar)\n",
    "\n",
    "print(x_ar)\n",
    "print(y_ar)"
   ]
  },
  {
   "cell_type": "code",
   "execution_count": 260,
   "metadata": {},
   "outputs": [
    {
     "data": {
      "text/plain": [
       "(0.5248284063880394, 0.5467210329595651)"
      ]
     },
     "execution_count": 260,
     "metadata": {},
     "output_type": "execute_result"
    },
    {
     "data": {
      "image/png": "[encoded data removed]",
      "text/plain": [
       "<Figure size 432x288 with 1 Axes>"
      ]
     },
     "metadata": {},
     "output_type": "display_data"
    }
   ],
   "source": [
    "#%%time\n",
    "# import warnings filter\n",
    "from warnings import simplefilter\n",
    "# ignore all future warnings\n",
    "simplefilter(action='ignore', category=FutureWarning)\n",
    "from sklearn.model_selection import cross_val_score\n",
    "from sklearn.model_selection import KFold, ShuffleSplit\n",
    "from sklearn.model_selection import StratifiedKFold, StratifiedShuffleSplit\n",
    "\n",
    "from sklearn.metrics import make_scorer, accuracy_score\n",
    "from sklearn.metrics import precision_score, recall_score, f1_score\n",
    "\n",
    "from sklearn.linear_model import LogisticRegression\n",
    "\n",
    "# select model\n",
    "clf = LogisticRegression()\n",
    "# select cross validation\n",
    "sss=StratifiedShuffleSplit(n_splits=3, random_state=1)\n",
    "\n",
    "\n",
    "\n",
    "# run model training and cross validation\n",
    "per_fold_eval_criteria = cross_val_score(estimator=clf,\n",
    "                                    X=x_ar,\n",
    "                                    y=y_ar,\n",
    "                                    cv=sss,\n",
    "                                    scoring=macro_avg_f1_scorer\n",
    "                                   )\n",
    "\n",
    "plt.bar(range(len(per_fold_eval_criteria)),per_fold_eval_criteria)\n",
    "plt.ylim([min(per_fold_eval_criteria)-0.01,max(per_fold_eval_criteria)])"
   ]
  },
  {
   "cell_type": "code",
   "execution_count": 261,
   "metadata": {},
   "outputs": [],
   "source": [
    "#plotting function for use in next question\n",
    "# takes input 'test_scores', axis labels, and an x-axis label\n",
    "def plot_filled(test_scores,train_x_axis, xlabel=''):\n",
    "    \n",
    "    test_mean = np.percentile(test_scores,50, axis=1)\n",
    "    test_max = np.percentile(test_scores,95, axis=1) \n",
    "    test_min = np.percentile(test_scores,5, axis=1) \n",
    "\n",
    "    plt.plot(train_x_axis, test_mean,\n",
    "             color='blue', linestyle='--',\n",
    "             marker='s', markersize=5,\n",
    "             label='validation set')\n",
    "\n",
    "    plt.fill_between(train_x_axis,\n",
    "                     test_min,\n",
    "                     test_max,\n",
    "                     alpha=0.15, color='blue')\n",
    "\n",
    "    plt.grid(True)\n",
    "    plt.xlabel(xlabel)\n",
    "    plt.ylabel('Evaluation Criterion')\n",
    "    plt.legend(loc='lower right')\n",
    "    plt.tight_layout()"
   ]
  },
  {
   "cell_type": "code",
   "execution_count": 262,
   "metadata": {},
   "outputs": [
    {
     "name": "stdout",
     "output_type": "stream",
     "text": [
      "Wall time: 28.3 s\n"
     ]
    },
    {
     "data": {
      "image/png": "[encoded data removed]",
      "text/plain": [
       "<Figure size 432x288 with 1 Axes>"
      ]
     },
     "metadata": {},
     "output_type": "display_data"
    }
   ],
   "source": [
    "%%time\n",
    "test_scores = []\n",
    "train_sizes=np.linspace(5e-3,5e-1,10)\n",
    "\n",
    "for size in train_sizes:\n",
    "   sss = StratifiedShuffleSplit(n_splits=3,\n",
    "                               train_size = size,\n",
    "                               test_size = 1-size,\n",
    "                              )\n",
    "   test_scores.append(cross_val_score(estimator=clf,X=X,y=y,cv=sss,scoring=macro_avg_f1_scorer))\n",
    "\n",
    "plot_filled(np.array(test_scores), train_sizes*100, 'Percentage training data (%)')"
   ]
  },
  {
   "cell_type": "markdown",
   "metadata": {},
   "source": [
    "For our dataset, 10% training data is a good amount and any additional percentage seems to provide marginal benefit. Since the test_size parameter defaults to .1 for sklearn's Stratified Shuffle Split, we have chosen to just ignore that parameter when splitting the data."
   ]
  },
  {
   "cell_type": "markdown",
   "metadata": {},
   "source": [
    "# Modeling "
   ]
  },
  {
   "cell_type": "markdown",
   "metadata": {},
   "source": [
    "Austin Animal Center Shelter Outcomes (Kaggle) https://www.kaggle.com/aaronschlegel/austin-animal-center-shelter-outcomes-and/version/1#aac_shelter_outcomes.csv\n",
    "Austin Animal Center. (n.d.). Retrieved March 10, 2019, from http://www.austintexas.gov/department/aac\n",
    "Hawes, Sloane; Ikizler, Devrim; Loughney, Katy; Tedeschi, Philip; and Morris, Kevin, \"Legislating Components of a Humane City: The Economic Impacts of the Austin, Texas \"No Kill\" Resolution (City of Austin Resolution 20091105-040)\" (2017). Animal Law and Legislation. 1. https://animalstudiesrepository.org/anilleg/1"
   ]
  },
  {
   "cell_type": "code",
   "execution_count": 280,
   "metadata": {},
   "outputs": [],
   "source": [
    "# Example adapted from https://github.com/rasbt/python-machine-learning-book/blob/master/code/ch12/ch12.ipynb\n",
    "# Original Author: Sebastian Raschka\n",
    "\n",
    "# This is the optional book we use in the course, excellent intuitions and straightforward programming examples\n",
    "# please note, however, that this code has been manipulated to reflect our assumptions and notation.\n",
    "import numpy as np\n",
    "from scipy.special import expit\n",
    "import pandas as pd\n",
    "import sys\n",
    "\n",
    "# start with a simple base classifier, which can't be fit or predicted\n",
    "# it only has internal classes to be used by classes that will subclass it\n",
    "class TwoLayerPerceptronBase(object):\n",
    "    def __init__(self, n_hidden=30,\n",
    "                 C=0.0, epochs=500, eta=0.001, random_state=None,phi='sig',n_ner=2,cf='quad'):\n",
    "        np.random.seed(random_state)\n",
    "        self.n_hidden = n_hidden\n",
    "        self.l2_C = C\n",
    "        self.epochs = epochs\n",
    "        self.eta = eta\n",
    "        self.phi=phi\n",
    "        self.n_ner=n_ner\n",
    "        self.cf=cf\n",
    "        \n",
    "         # keep track of gradiants\n",
    "        self._grad = np.empty([self.n_ner, self.epochs])\n",
    "    \n",
    "    @staticmethod\n",
    "    def _encode_labels(y):\n",
    "        \"\"\"Encode labels into one-hot representation\"\"\"\n",
    "        onehot = pd.get_dummies(y).values.T\n",
    "            \n",
    "        return onehot\n",
    "\n",
    "    def _initialize_weights(self):\n",
    "        \"\"\"Initialize weights with small random numbers.\"\"\"\n",
    "        \n",
    "\n",
    "        for i in range(self.n_ner):\n",
    "         if i==0:\n",
    "          vars()[\"W\" + str(i + 1) +\"_num_elems\"] = (self.n_features_ + 1)*self.n_hidden\n",
    "          vars()[\"W\" + str(i + 1)] = np.random.uniform(-1.0, 1.0,size=vars()[\"W\" + str(i + 1) +\"_num_elems\"])\n",
    "          vars()[\"W\" + str(i + 1)] = vars()[\"W\" + str(i+1)].reshape(self.n_hidden, self.n_features_ + 1) # reshape to be W \n",
    "\n",
    "         if i>0:\n",
    "          vars()[\"W\" + str(i + 1)+\"_num_elems\"] = (self.n_hidden + 1)*self.n_hidden\n",
    "          vars()[\"W\" + str(i + 1)] = np.random.uniform(-1.0, 1.0,size=vars()[\"W\" + str(i + 1)+\"_num_elems\"])\n",
    "          vars()[\"W\" + str(i + 1)] = vars()[\"W\" + str(i+1)].reshape(self.n_hidden, self.n_hidden + 1) # reshape to be W \n",
    "      \n",
    "         if i==(self.n_ner-1):\n",
    "          vars()[\"W\" + str(i + 1)+\"_num_elems\"] = (self.n_hidden + 1)*self.n_output_  \n",
    "          vars()[\"W\" + str(i + 1)] = np.random.uniform(-1.0, 1.0,size=vars()[\"W\" + str(i + 1)+\"_num_elems\"])\n",
    "          vars()[\"W\" + str(i + 1)] = vars()[\"W\" + str(i+1)].reshape(self.n_output_, self.n_hidden + 1)\n",
    "\n",
    "        return vars()\n",
    "    \n",
    "    @staticmethod\n",
    "    def _sigmoid(z,phi):\n",
    "        \"\"\"Use scipy.special.expit to avoid overflow\"\"\"\n",
    "        # 1.0 / (1.0 + np.exp(-z))\n",
    "        if phi=='sig': \n",
    "         return expit(z)\n",
    "        if phi=='lin': \n",
    "         return z\n",
    "        if phi=='silu': \n",
    "         return expit(z)*z\n",
    "        if phi=='relu': \n",
    "         bol= z>=0  \n",
    "         #z=bol*z\n",
    "         return np.maximum(0,z.copy())\n",
    "    \n",
    "    @staticmethod\n",
    "    def _add_bias_unit(X, how='column'):\n",
    "        \"\"\"Add bias unit (column or row of 1s) to array at index 0\"\"\"\n",
    "        if how == 'column':\n",
    "            ones = np.ones((X.shape[0], 1))\n",
    "            X_new = np.hstack((ones, X))\n",
    "        elif how == 'row':\n",
    "            ones = np.ones((1, X.shape[1]))\n",
    "            X_new = np.vstack((ones, X))\n",
    "        return X_new\n",
    "    \n",
    "    @staticmethod\n",
    "    def _L2_reg(lambda_, W,n):\n",
    "        \"\"\"Compute L2-regularization cost\"\"\"\n",
    "        # only compute for non-bias terms\n",
    "        W_sum=0\n",
    "        for i in range(n):\n",
    "         W_sum=np.mean(W['W'+str(i+1)][:, 1:] ** 2)+W_sum\n",
    "            \n",
    "        sqr=np.sqrt(W_sum)\n",
    "        return (lambda_/2.0) *sqr\n",
    "    \n",
    "    def _cost(self,Al,Y_enc,W):\n",
    "        '''Get the objective function value'''\n",
    "        cost = np.mean((Y_enc-Al)**2)\n",
    "        L2_term = self._L2_reg(self.l2_C, W,self.n_ner)\n",
    "        return cost + L2_term\n",
    "    \n",
    "    def _feedforward(self, X, W, n_ner):\n",
    "        \"\"\"Compute feedforward step\n",
    "        \"\"\" \n",
    "    # for i in range(5):\n",
    "     #   n = 1\n",
    "      #  globals()[\"A\" + str(i + 1)] = a + b\n",
    "       # print(globals()[\"Temp\" + str(i + 1)])\n",
    "        #n = n + 1\n",
    "        #A1 = self._add_bias_unit(X, how='column')\n",
    "        #A1 = A1.T\n",
    "       # Z1 = W1 @ A1\n",
    "        #A2 = self._sigmoid(Z1,self.phi)\n",
    "        #A2 = self._add_bias_unit(A2, how='row')\n",
    "        #Z2 = W2 @ A2\n",
    "        #A3 = self._sigmoid(Z2,'sig')  nl=3\n",
    "  \n",
    "        for i in range(self.n_ner+1):\n",
    "         if i==0:   \n",
    "          vars()[\"A\"+str(i+1)]=self._add_bias_unit(X, how='column')\n",
    "          vars()[\"A\"+str(i+1)]=vars()[\"A\"+str(i+1)].T\n",
    "          vars()[\"Z\"+str(i+1)]=W[\"W\"+str(i+1)] @ vars()[\"A\"+str(i+1)]\n",
    "          #print(\"A\"+str(i+1))\n",
    "          #print(vars()[\"A\"+str(i+1)])\n",
    "         if (i>0) and i<(self.n_ner):\n",
    "          vars()[\"A\"+str(i+1)]=self._sigmoid(vars()[\"Z\"+str(i)],self.phi)\n",
    "          vars()[\"A\"+str(i+1)]=self._add_bias_unit(vars()[\"A\"+str(i+1)], how='row')\n",
    "          vars()[\"Z\"+str(i+1)]=W[\"W\"+str(i+1)]@vars()[\"A\"+str(i+1)]\n",
    "          #print(\"A\"+str(i+1))\n",
    "          #print(vars()[\"A\"+str(i+1)])\n",
    "         if i==(self.n_ner):\n",
    "          vars()[\"A\"+str(i+1)]=self._sigmoid(vars()[\"Z\"+str(i)],'sig')\n",
    "          #print(\"A\"+str(i+1))\n",
    "          #print(vars()[\"A\"+str(i+1)])\n",
    "        \n",
    "        return vars()\n",
    "    def _div(b,A_,phi):\n",
    "     \n",
    "        if phi=='sig':   \n",
    "         return A_*(1-A_)\n",
    "        if phi=='lin':     \n",
    "         return 1\n",
    "        if phi=='silu':\n",
    "         return (expit(A_)*A_)+(expit(A_)*(1-expit(A_)*A_))\n",
    "        if phi=='relu': \n",
    "         bol= A_>=0   \n",
    "         return 1  \n",
    "    \n",
    "    def _get_gradient(self, F, Y_enc, W):\n",
    "        \"\"\" Compute gradient step using backpropagation.\n",
    "        \"\"\"\n",
    "        # vectorized backpropagation\n",
    "        \n",
    "    \n",
    "        #grad2 = V2 @ A2.T # no bias on final layer\n",
    "        #grad1 = V1[1:,:] @ A1.T # dont back prop sensitivity of bias\n",
    "        if self.cf==\"quad\": \n",
    "         vars()['V'+str(self.n_ner)] = -2*(Y_enc-F[\"A\"+str(self.n_ner+1)])*self._div(F[\"A\"+str(self.n_ner+1)],'sig')\n",
    "         #if self.phi=='relu': \n",
    "         # vars()['V'+str(self.n_ner)][F[\"Z\"+str(self.n_ner)]<=0] = 0 \n",
    "         \n",
    "       \n",
    "        if self.cf==\"ce\": \n",
    "         vars()['V'+str(self.n_ner)] = -2*(Y_enc-F[\"A\"+str(self.n_ner+1)])\n",
    "         \n",
    "        vars()['grad'+str(self.n_ner)] = vars()['V'+str(self.n_ner)] @ F[\"A\"+str(self.n_ner)].T    \n",
    "\n",
    "        vars()['grad'+str(self.n_ner)][:, 1:] += W[\"W\"+str(self.n_ner)][:, 1:] * self.l2_C\n",
    "        \n",
    "        for i in range(self.n_ner-1):\n",
    "         l=self.n_ner-1-i # l=4-->1\n",
    "         if l==self.n_ner-1:\n",
    "          \n",
    "          vars()[\"Z\"+str(l)+\"_with_bias\"] = self._add_bias_unit(F[\"Z\"+str(l)],how='row')\n",
    "          \n",
    "          vars()['V'+str(l)] = self._div(F[\"A\"+str(l+1)],self.phi)*(W[\"W\"+str(l+1)].T @ vars()['V'+str(l+1)])\n",
    "          if self.phi=='relu':\n",
    "           vars()['V'+str(l)][vars()[\"Z\"+str(l)+\"_with_bias\"]<=0] = 0\n",
    "         if l!=self.n_ner-1:\n",
    "          \n",
    "          vars()[\"Z\"+str(l)+\"_with_bias\"] = self._add_bias_unit(F[\"Z\"+str(l)],how='row')\n",
    "          vars()['V'+str(l)] = self._div(F[\"A\"+str(l+1)],self.phi)*(W[\"W\"+str(l+1)].T @ vars()['V'+str(l+1)][1:, :]) \n",
    "          if self.phi=='relu':\n",
    "           vars()['V'+str(l)][vars()[\"Z\"+str(l)+\"_with_bias\"]<=0] = 0\n",
    "         \n",
    "        \n",
    "         vars()['grad'+str(l)]=vars()['V'+str(l)][1:,:]  @ F[\"A\"+str(l)].T\n",
    "      \n",
    "    \n",
    "         vars()['grad'+str(l)][:, 1:] += W[\"W\"+str(l)][:, 1:] * self.l2_C\n",
    "        # regularize weights that are not bias terms\n",
    "        #grad1[:, 1:] += W1[:, 1:] * self.l2_C\n",
    "        #grad2[:, 1:] += W2[:, 1:] * self.l2_C\n",
    "        \n",
    "        \n",
    "        return vars()\n",
    "    \n",
    "    def predict(self, X):\n",
    "        \"\"\"Predict class labels\"\"\"\n",
    "        p = self._feedforward(X, self.W,self.n_ner)\n",
    "        #print(p[\"A\"+str(self.n_ner+1)])\n",
    "        \n",
    "        y_pred = np.argmax(p[\"A\"+str(self.n_ner+1)], axis=0)\n",
    "        return y_pred"
   ]
  },
  {
   "cell_type": "code",
   "execution_count": 281,
   "metadata": {},
   "outputs": [],
   "source": [
    "from sklearn.metrics import accuracy_score\n",
    "# just start with the vectorized version and minibatch\n",
    "class TLPMiniBatch(TwoLayerPerceptronBase):\n",
    "    def __init__(self, alpha=0.0, decrease_const=0.0, shuffle=True, \n",
    "                 minibatches=1, **kwds):        \n",
    "        # need to add to the original initializer \n",
    "        self.alpha = alpha\n",
    "        self.decrease_const = decrease_const\n",
    "        self.shuffle = shuffle\n",
    "        self.minibatches = minibatches\n",
    "        \n",
    "        \n",
    "        \n",
    "        # but keep other keywords\n",
    "        super().__init__(**kwds)\n",
    "        \n",
    "    \n",
    "    def fit(self, X, y, print_progress=False):\n",
    "        \"\"\" Learn weights from training data. With mini-batch\"\"\"\n",
    "        X_data, y_data = X.copy(), y.copy()\n",
    "        Y_enc = self._encode_labels(y)\n",
    "        \n",
    "        # init weights and setup matrices\n",
    "        self.n_features_ = X_data.shape[1]\n",
    "        self.n_output_ = Y_enc.shape[0]\n",
    "      \n",
    "          #self.vars()[\"W\" + str(i + 1)]= self._initialize_weights(i)\n",
    "        self.W=self._initialize_weights()\n",
    "        \n",
    "          #print(self.W['W1'])\n",
    "        for i in range(self.n_ner):\n",
    "         vars()[\"delta_W\"+str(i + 1)+\"_prev\"] = np.zeros(self.W[\"W\" + str(i + 1)].shape)\n",
    "        #delta_W2_prev = np.zeros(self.W[2].shape)\n",
    "\n",
    "        self.cost_ = []\n",
    "        self.score_ = []\n",
    "        # get starting acc\n",
    "        self.score_.append(f1_score(y_data,self.predict(X_data), average='weighted'))\n",
    "        for i in range(self.epochs):\n",
    "\n",
    "            # adaptive learning rate\n",
    "            self.eta /= (1 + self.decrease_const*i)\n",
    "\n",
    "            if print_progress>0 and (i+1)%print_progress==0:\n",
    "                sys.stderr.write('\\rEpoch: %d/%d' % (i+1, self.epochs))\n",
    "                sys.stderr.flush()\n",
    "\n",
    "            if self.shuffle:\n",
    "                idx_shuffle = np.random.permutation(y_data.shape[0])\n",
    "                X_data, Y_enc, y_data = X_data[idx_shuffle], Y_enc[:, idx_shuffle], y_data[idx_shuffle]\n",
    "\n",
    "            mini = np.array_split(range(y_data.shape[0]), self.minibatches)\n",
    "            mini_cost = []\n",
    "            for idx in mini:\n",
    "\n",
    "                # feedforward\n",
    "             \n",
    "                F = self._feedforward(X_data[idx],self.W,self.n_ner)\n",
    "                                                      \n",
    "                              # F[\"A\"+str(self.n_ner+1)]                     \n",
    "                \n",
    "                cost = self._cost(F[\"A\"+str(self.n_ner+1)],Y_enc[:, idx],self.W)\n",
    "                mini_cost.append(cost) # this appends cost of mini-batch only\n",
    "\n",
    "                # compute gradient via backpropagation\n",
    "                grad= self._get_gradient(F= F, \n",
    "                                                  Y_enc=Y_enc[:, idx],\n",
    "                                                  W=self.W)\n",
    "                \n",
    "                \n",
    "                \n",
    "                # momentum calculations\n",
    "                for i in range(self.n_ner):\n",
    "                 \n",
    "                 vars()[\"delta_W\"+str(i + 1)] = self.eta * grad[\"grad\"+str(i + 1)]\n",
    "                 self.W[\"W\"+str(i + 1)] -=(vars()[\"delta_W\"+str(i + 1)]+ (self.alpha * vars()[\"delta_W\"+str(i + 1)+\"_prev\"]))\n",
    "                 vars()[\"delta_W\"+str(i + 1)+\"_prev\"]=vars()[\"delta_W\"+str(i + 1)]  \n",
    "            # get gradiants for visualization    \n",
    "            np.append(self._grad, [(grad[key].mean() for key in grad.keys() if re.match(\"grad[0-9]\", grad[key]))])    \n",
    "            self.cost_.append(mini_cost)\n",
    "            self.score_.append(f1_score(y_data,self.predict(X_data), average='weighted'))\n",
    "            \n",
    "        return self"
   ]
  },
  {
   "cell_type": "code",
   "execution_count": 219,
   "metadata": {
    "scrolled": false
   },
   "outputs": [
    {
     "name": "stdout",
     "output_type": "stream",
     "text": [
      "Accuracy: 0.6106130772825764\n"
     ]
    }
   ],
   "source": [
    "#%%time\n",
    "params = dict(n_hidden=100, \n",
    "              C=.0001, # tradeoff L2 regularizer\n",
    "              epochs=10, # iterations\n",
    "              eta=0.001,  # learning rate\n",
    "              random_state=1,\n",
    "              phi='sig',n_ner=4,cf='ce')\n",
    "nn_mini = TLPMiniBatch(**params,\n",
    "                          alpha=0.01,# momentum calculation\n",
    "                          decrease_const=0.001, # decreasing eta\n",
    "                          minibatches=50, # minibatch size\n",
    "                          shuffle=True)\n",
    "\n",
    "    \n",
    "nn_mini.fit(x_train_ar, y_target_ar, print_progress=50)\n",
    "yhat = nn_mini.predict(x_train_ar)\n",
    "print('Accuracy:',f1_score(y_target_ar,yhat, average='weighted'))"
   ]
  },
  {
   "cell_type": "code",
   "execution_count": 241,
   "metadata": {
    "scrolled": false
   },
   "outputs": [
    {
     "name": "stdout",
     "output_type": "stream",
     "text": [
      "TRAIN: (26479,) TEST: (2943,)\n",
      "Accuracy of 2 layers, objective function of quad, and phi of lin:  ('Accuracy:', 0.5035574416104587)\n",
      "Accuracy of 2 layers, objective function of quad, and phi of sig:  ('Accuracy:', 0.491355433066418)\n",
      "Accuracy of 2 layers, objective function of ce, and phi of lin:  ('Accuracy:', 0.4738584199764928)\n",
      "Accuracy of 2 layers, objective function of ce, and phi of sig:  ('Accuracy:', 0.5784844359182993)\n",
      "Accuracy of 3 layers, objective function of quad, and phi of lin:  ('Accuracy:', 0.44805396714561846)\n",
      "Accuracy of 3 layers, objective function of quad, and phi of sig:  ('Accuracy:', 0.4800990504877595)\n",
      "Accuracy of 3 layers, objective function of ce, and phi of lin:  ('Accuracy:', 0.03391425955525712)\n",
      "Accuracy of 3 layers, objective function of ce, and phi of sig:  ('Accuracy:', 0.5980215003211213)\n",
      "Accuracy of 4 layers, objective function of quad, and phi of lin:  ('Accuracy:', 0.4264884696103221)\n",
      "Accuracy of 4 layers, objective function of quad, and phi of sig:  ('Accuracy:', 0.4431347463811074)\n",
      "Accuracy of 4 layers, objective function of ce, and phi of lin:  ('Accuracy:', 0.03391425955525712)\n",
      "Accuracy of 4 layers, objective function of ce, and phi of sig:  ('Accuracy:', 0.5877303052237338)\n",
      "TRAIN: (26479,) TEST: (2943,)\n",
      "Accuracy of 2 layers, objective function of quad, and phi of lin:  ('Accuracy:', 0.5196796595316231)\n",
      "Accuracy of 2 layers, objective function of quad, and phi of sig:  ('Accuracy:', 0.4960594801736215)\n",
      "Accuracy of 2 layers, objective function of ce, and phi of lin:  ('Accuracy:', 0.4611500436225631)\n",
      "Accuracy of 2 layers, objective function of ce, and phi of sig:  ('Accuracy:', 0.5676196483744812)\n",
      "Accuracy of 3 layers, objective function of quad, and phi of lin:  ('Accuracy:', 0.44530315274202226)\n",
      "Accuracy of 3 layers, objective function of quad, and phi of sig:  ('Accuracy:', 0.4665723680082687)\n",
      "Accuracy of 3 layers, objective function of ce, and phi of lin:  ('Accuracy:', 0.03391425955525712)\n",
      "Accuracy of 3 layers, objective function of ce, and phi of sig:  ('Accuracy:', 0.5781426695244217)\n",
      "Accuracy of 4 layers, objective function of quad, and phi of lin:  ('Accuracy:', 0.42679073026938485)\n",
      "Accuracy of 4 layers, objective function of quad, and phi of sig:  ('Accuracy:', 0.4641443703060351)\n",
      "Accuracy of 4 layers, objective function of ce, and phi of lin:  ('Accuracy:', 0.03391425955525712)\n",
      "Accuracy of 4 layers, objective function of ce, and phi of sig:  ('Accuracy:', 0.5879548256495344)\n",
      "TRAIN: (26479,) TEST: (2943,)\n",
      "Accuracy of 2 layers, objective function of quad, and phi of lin:  ('Accuracy:', 0.510618985125763)\n",
      "Accuracy of 2 layers, objective function of quad, and phi of sig:  ('Accuracy:', 0.49401251799814266)\n",
      "Accuracy of 2 layers, objective function of ce, and phi of lin:  ('Accuracy:', 0.45376270072382136)\n",
      "Accuracy of 2 layers, objective function of ce, and phi of sig:  ('Accuracy:', 0.572234394437724)\n",
      "Accuracy of 3 layers, objective function of quad, and phi of lin:  ('Accuracy:', 0.4677634995557318)\n",
      "Accuracy of 3 layers, objective function of quad, and phi of sig:  ('Accuracy:', 0.47330400234942094)\n",
      "Accuracy of 3 layers, objective function of ce, and phi of lin:  ('Accuracy:', 0.03391425955525712)\n",
      "Accuracy of 3 layers, objective function of ce, and phi of sig:  ('Accuracy:', 0.6028086287631568)\n",
      "Accuracy of 4 layers, objective function of quad, and phi of lin:  ('Accuracy:', 0.43621894517277393)\n",
      "Accuracy of 4 layers, objective function of quad, and phi of sig:  ('Accuracy:', 0.4600355115713597)\n",
      "Accuracy of 4 layers, objective function of ce, and phi of lin:  ('Accuracy:', 0.03391425955525712)\n",
      "Accuracy of 4 layers, objective function of ce, and phi of sig:  ('Accuracy:', 0.5866497780893773)\n"
     ]
    }
   ],
   "source": [
    "#%%time\n",
    "# loop through tests\n",
    "\n",
    "layers = [2, 3, 4]\n",
    "objs = ['quad', 'ce']\n",
    "phis = ['lin', 'sig']\n",
    "\n",
    "models = []\n",
    "sss=StratifiedShuffleSplit(n_splits=3, random_state=1)\n",
    "for train_index, test_index in sss.split(x_ar, y_ar):\n",
    " print(\"TRAIN:\", train_index.shape, \"TEST:\", test_index.shape)\n",
    " X_train, X_test = x_ar[train_index], x_ar[test_index]\n",
    " y_train, y_test = y_ar[train_index], y_ar[test_index]\n",
    " for layer in layers:\n",
    "    for obj in objs:\n",
    "        for phi in phis:\n",
    "            params = dict(n_hidden=50, \n",
    "                  C=.0001, # tradeoff L2 regularizer\n",
    "                  epochs=20, # iterations\n",
    "                  eta=0.001,  # learning rate\n",
    "                  random_state=1,\n",
    "                  phi=phi, n_ner=layer, cf=obj)\n",
    "            nn_mini = TLPMiniBatch(**params,\n",
    "                                    alpha=0.001,# momentum calculation\n",
    "                                    decrease_const=0.0001, # decreasing eta\n",
    "                                    minibatches=50, # minibatch size\n",
    "                                    shuffle=True)\n",
    "            nn_mini.fit(X_train, y_train, print_progress=50)\n",
    "            yhat = nn_mini.predict(X_test)\n",
    "            \n",
    "            models.append(nn_mini)\n",
    "            print('Accuracy of {} layers, objective function of {}, and phi of {}: '.format(layer, obj, phi),('Accuracy:',f1_score(y_test, yhat, average='weighted')))\n",
    "        "
   ]
  },
  {
   "cell_type": "markdown",
   "metadata": {},
   "source": [
    "from the data above we conclude that 4 layers useing cross entropy and sigmoid functionis the best "
   ]
  },
  {
   "cell_type": "code",
   "execution_count": 156,
   "metadata": {
    "scrolled": true
   },
   "outputs": [
    {
     "name": "stdout",
     "output_type": "stream",
     "text": [
      "TRAIN: (26479,) TEST: (2943,)\n",
      "TRAIN: (26479,) TEST: (2943,)\n",
      "TRAIN: (26479,) TEST: (2943,)\n"
     ]
    }
   ],
   "source": [
    "sss=StratifiedShuffleSplit(n_splits=3, random_state=1)\n",
    "for train_index, test_index in sss.split(x_ar, y_ar):\n",
    "    print(\"TRAIN:\", train_index.shape, \"TEST:\", test_index.shape)\n",
    "    X_train, X_test = x_ar[train_index], x_ar[test_index]\n",
    "    y_train, y_test = y_ar[train_index], y_ar[test_index]"
   ]
  },
  {
   "cell_type": "code",
   "execution_count": 131,
   "metadata": {
    "scrolled": false
   },
   "outputs": [
    {
     "data": {
      "image/png": "[encoded data removed]",
      "text/plain": [
       "<Figure size 432x288 with 1 Axes>"
      ]
     },
     "metadata": {
      "needs_background": "light"
     },
     "output_type": "display_data"
    }
   ],
   "source": [
    "ax = plt.subplot(1,1,1)\n",
    "xa = np.arange(1, nn_mini.epochs)\n",
    "for i in range(nn_mini._grad.shape[0]):\n",
    "    plt.plot(models[9]._grad[i,:], label=\"layer {}\".format(i+1))\n",
    "plt.legend()\n",
    "plt.ylabel('Average Gradient magnitude x 10e300')\n",
    "plt.xlabel('Iteration')\n",
    "ax.relim()\n",
    "ax.autoscale_view()\n",
    "plt.show()"
   ]
  },
  {
   "cell_type": "markdown",
   "metadata": {},
   "source": [
    "the gradiant are changing in each layers"
   ]
  },
  {
   "cell_type": "markdown",
   "metadata": {},
   "source": [
    "### test on other data set"
   ]
  },
  {
   "cell_type": "code",
   "execution_count": 264,
   "metadata": {},
   "outputs": [],
   "source": [
    "# lets load up the handwritten digit dataset\n",
    "from sklearn.datasets import load_digits\n",
    "from sklearn.metrics import accuracy_score\n",
    "from sklearn.preprocessing import StandardScaler\n",
    "import numpy as np\n",
    "\n",
    "ds = load_digits()\n",
    "X = ds.data/16.0-0.5\n",
    "y = ds.target\n",
    "X_train, X_test, y_train, y_test = train_test_split(X,y,test_size = 0.2)"
   ]
  },
  {
   "cell_type": "code",
   "execution_count": 270,
   "metadata": {},
   "outputs": [
    {
     "name": "stdout",
     "output_type": "stream",
     "text": [
      "Accuracy: 0.9846555221835319\n",
      "Wall time: 434 ms\n"
     ]
    }
   ],
   "source": [
    "%%time\n",
    "params = dict(n_hidden=50, \n",
    "              C=.0001, # tradeoff L2 regularizer\n",
    "              epochs=10, # iterations\n",
    "              eta=0.001,  # learning rate\n",
    "              random_state=1,\n",
    "              phi='relu',n_ner=3,cf='ce')\n",
    "nn_mini = TLPMiniBatch(**params,\n",
    "                          alpha=0.001,# momentum calculation\n",
    "                          decrease_const=0.0001, # decreasing eta\n",
    "                          minibatches=50, # minibatch size\n",
    "                          shuffle=True)\n",
    "\n",
    "\n",
    "    \n",
    "nn_mini.fit(X_train, y_train, print_progress=50)\n",
    "yhat = nn_mini.predict(X_train)\n",
    "#print('Accuracy:',accuracy_score(y_train,yhat))\n",
    "print('Accuracy:',f1_score(y_train, yhat, average='weighted'))"
   ]
  },
  {
   "cell_type": "markdown",
   "metadata": {},
   "source": [
    "this a 3 layares neral network predictinf the digets data and we got a very high accuracy using relu "
   ]
  },
  {
   "cell_type": "code",
   "execution_count": 185,
   "metadata": {},
   "outputs": [],
   "source": [
    "from sklearn.preprocessing import StandardScaler\n",
    "from sklearn.datasets import load_iris\n",
    "import numpy as np\n",
    "import plotly\n",
    "\n",
    "ds = load_iris()\n",
    "X = ds.data\n",
    "y = ds.target\n",
    "x_train_ar = StandardScaler().fit(X).transform(X)\n",
    "X_train1, X_test1, y_train1, y_test1 = train_test_split(X,y,test_size = 0.2)"
   ]
  },
  {
   "cell_type": "code",
   "execution_count": 186,
   "metadata": {},
   "outputs": [
    {
     "name": "stderr",
     "output_type": "stream",
     "text": [
      "Epoch: 100/100"
     ]
    },
    {
     "name": "stdout",
     "output_type": "stream",
     "text": [
      "Accuracy: 0.8416666666666667\n",
      "Wall time: 1.6 s\n"
     ]
    }
   ],
   "source": [
    "%%time\n",
    "params = dict(n_hidden=50, \n",
    "              C=.0001, # tradeoff L2 regularizer\n",
    "              epochs=100, # iterations\n",
    "              eta=0.001,  # learning rate\n",
    "              random_state=1,\n",
    "              phi='sig',n_ner=3,cf='ce')\n",
    "params31 = dict(n_hidden=50, \n",
    "              C=.0001, # tradeoff L2 regularizer\n",
    "              epochs=100, # iterations\n",
    "              eta=0.001,  # learning rate\n",
    "              random_state=1,\n",
    "              phi='sig',n_ner=3,cf='quad')\n",
    "\n",
    "\n",
    "nn_mini = TLPMiniBatch(**params,\n",
    "                          alpha=0.001,# momentum calculation\n",
    "                          decrease_const=0.0001, # decreasing eta\n",
    "                          minibatches=50, # minibatch size\n",
    "                          shuffle=True)\n",
    "\n",
    "nn_mini31 = TLPMiniBatch(**params31,\n",
    "                          alpha=0.001,# momentum calculation\n",
    "                          decrease_const=1e-5, # decreasing eta\n",
    "                          minibatches=50, # minibatch size\n",
    "                          shuffle=True)\n",
    "                          \n",
    "\n",
    "\n",
    "    \n",
    "nn_mini31.fit(X_train1, y_train1, print_progress=50)\n",
    "yhat = nn_mini31.predict(X_train1)\n",
    "print('Accuracy:',f1_score(y_train1,yhat, average='weighted'))"
   ]
  },
  {
   "cell_type": "code",
   "execution_count": 190,
   "metadata": {},
   "outputs": [],
   "source": [
    "from sklearn.metrics import accuracy_score\n",
    "import matplotlib.pyplot as plt\n",
    "%matplotlib inline\n",
    "\n",
    "plt.style.use('ggplot')\n",
    "\n",
    "def print_result(nn,X_train,y_train,X_test,y_test,title=\"\",color=\"red\"):\n",
    "    \n",
    "    print(\"=================\")\n",
    "    print(title,\":\")\n",
    "    yhat = nn.predict(X_train)\n",
    "    print('Resubstitution acc:',accuracy_score(y_train,yhat))\n",
    "    \n",
    "    yhat = nn.predict(X_test)\n",
    "    print('Validation acc:',accuracy_score(y_test,yhat))\n",
    "    \n",
    "    if hasattr(nn,'val_score_'):\n",
    "        plt.plot(range(len(nn.val_score_)), nn.val_score_, color=color,label=title)\n",
    "        plt.ylabel('Validation Accuracy')\n",
    "    else:\n",
    "        plt.plot(range(len(nn.score_)), nn.score_, color=color,label=title)\n",
    "        plt.ylabel('Resub Accuracy')\n",
    "        \n",
    "    plt.xlabel('Epochs')\n",
    "    plt.tight_layout()\n",
    "    plt.legend(loc='best')\n",
    "    plt.grid(True)"
   ]
  },
  {
   "cell_type": "code",
   "execution_count": 205,
   "metadata": {},
   "outputs": [],
   "source": [
    "paramslin = dict(n_hidden=50, \n",
    "              C=.0001, # tradeoff L2 regularizer\n",
    "              epochs=100, # iterations\n",
    "              eta=0.001,  # learning rate\n",
    "              random_state=1,\n",
    "              phi='sig',n_ner=3,cf='ce')\n",
    "paramslin31 = dict(n_hidden=50, \n",
    "              C=.0001, # tradeoff L2 regularizer\n",
    "              epochs=100, # iterations\n",
    "              eta=0.001,  # learning rate\n",
    "              random_state=1,\n",
    "              phi='lin',n_ner=3,cf='ce')\n",
    "nn_minilin = TLPMiniBatch(**paramslin,\n",
    "                          alpha=0.001,# momentum calculation\n",
    "                          decrease_const=1e-5, # decreasing eta\n",
    "                          minibatches=50, # minibatch size\n",
    "                          shuffle=True)\n",
    "\n",
    "nn_minilin31 = TLPMiniBatch(**paramslin31,\n",
    "                          alpha=0.001,# momentum calculation\n",
    "                          decrease_const=1e-5, # decreasing eta\n",
    "                          minibatches=50, # minibatch size\n",
    "                          shuffle=True)"
   ]
  },
  {
   "cell_type": "code",
   "execution_count": 192,
   "metadata": {},
   "outputs": [
    {
     "name": "stderr",
     "output_type": "stream",
     "text": [
      "Epoch: 10/1000"
     ]
    },
    {
     "name": "stdout",
     "output_type": "stream",
     "text": [
      "Wall time: 1.61 s\n"
     ]
    },
    {
     "name": "stderr",
     "output_type": "stream",
     "text": [
      "Epoch: 100/100"
     ]
    },
    {
     "name": "stdout",
     "output_type": "stream",
     "text": [
      "Wall time: 1.69 s\n"
     ]
    },
    {
     "data": {
      "text/plain": [
       "<__main__.TLPMiniBatch at 0x2c404a26a20>"
      ]
     },
     "execution_count": 192,
     "metadata": {},
     "output_type": "execute_result"
    }
   ],
   "source": [
    "%time nn_mini.fit(X_train1, y_train1, print_progress=10)\n",
    "%time nn_mini31.fit(X_train1, y_train1, print_progress=10)"
   ]
  },
  {
   "cell_type": "code",
   "execution_count": 272,
   "metadata": {
    "scrolled": true
   },
   "outputs": [
    {
     "name": "stdout",
     "output_type": "stream",
     "text": [
      "initialized_weights\n"
     ]
    }
   ],
   "source": [
    "nn_mini31._initialize_weights()\n",
    "print(\"initialized_weights\")"
   ]
  },
  {
   "cell_type": "code",
   "execution_count": 194,
   "metadata": {
    "scrolled": false
   },
   "outputs": [
    {
     "name": "stdout",
     "output_type": "stream",
     "text": [
      "=================\n",
      "Cross Entropy Loss :\n",
      "Resubstitution acc: 0.9666666666666667\n",
      "Validation acc: 0.9\n",
      "=================\n",
      "Quadratic Loss :\n",
      "Resubstitution acc: 0.6916666666666667\n",
      "Validation acc: 0.6\n"
     ]
    },
    {
     "data": {
      "image/png": "[encoded data removed]",
      "text/plain": [
       "<Figure size 432x288 with 1 Axes>"
      ]
     },
     "metadata": {},
     "output_type": "display_data"
    }
   ],
   "source": [
    "print_result(nn_mini,X_train1,y_train1,X_test1,y_test1,title=\"Cross Entropy Loss\",color=\"red\")\n",
    "print_result(nn_mini31,X_train1,y_train1,X_test1,y_test1,title=\"Quadratic Loss\",color=\"blue\")\n",
    "plt.show()"
   ]
  },
  {
   "cell_type": "code",
   "execution_count": 206,
   "metadata": {},
   "outputs": [
    {
     "name": "stderr",
     "output_type": "stream",
     "text": [
      "Epoch: 10/1000"
     ]
    },
    {
     "name": "stdout",
     "output_type": "stream",
     "text": [
      "Wall time: 1.54 s\n"
     ]
    },
    {
     "name": "stderr",
     "output_type": "stream",
     "text": [
      "Epoch: 100/100"
     ]
    },
    {
     "name": "stdout",
     "output_type": "stream",
     "text": [
      "Wall time: 1.51 s\n"
     ]
    },
    {
     "data": {
      "text/plain": [
       "<__main__.TLPMiniBatch at 0x2c400dd9e10>"
      ]
     },
     "execution_count": 206,
     "metadata": {},
     "output_type": "execute_result"
    }
   ],
   "source": [
    "%time nn_minilin.fit(X_train1, y_train1, print_progress=10)\n",
    "%time nn_minilin31.fit(X_train1, y_train1, print_progress=10)"
   ]
  },
  {
   "cell_type": "code",
   "execution_count": 273,
   "metadata": {
    "scrolled": true
   },
   "outputs": [
    {
     "name": "stdout",
     "output_type": "stream",
     "text": [
      "initialized_weights\n"
     ]
    }
   ],
   "source": [
    "nn_minilin31._initialize_weights()\n",
    "print(\"initialized_weights\")"
   ]
  },
  {
   "cell_type": "code",
   "execution_count": 208,
   "metadata": {},
   "outputs": [
    {
     "name": "stdout",
     "output_type": "stream",
     "text": [
      "=================\n",
      "Cross Entropy Loss sig :\n",
      "Resubstitution acc: 0.975\n",
      "Validation acc: 0.9333333333333333\n",
      "=================\n",
      "Cross Entropy Loss lin :\n",
      "Resubstitution acc: 0.9833333333333333\n",
      "Validation acc: 0.9666666666666667\n"
     ]
    },
    {
     "data": {
      "image/png": "[encoded data removed]",
      "text/plain": [
       "<Figure size 432x288 with 1 Axes>"
      ]
     },
     "metadata": {},
     "output_type": "display_data"
    }
   ],
   "source": [
    "print_result(nn_minilin,X_train1,y_train1,X_test1,y_test1,title=\"Cross Entropy Loss sig\",color=\"red\")\n",
    "print_result(nn_minilin31,X_train1,y_train1,X_test1,y_test1,title=\"Cross Entropy Loss lin\",color=\"blue\")\n",
    "plt.show()"
   ]
  },
  {
   "cell_type": "code",
   "execution_count": 198,
   "metadata": {},
   "outputs": [],
   "source": [
    "params2 = dict(n_hidden=50, \n",
    "              C=.0001, # tradeoff L2 regularizer\n",
    "              epochs=50, # iterations\n",
    "              eta=0.001,  # learning rate\n",
    "              random_state=1,\n",
    "              phi='relu',n_ner=2,cf='ce')\n",
    "params3 = dict(n_hidden=50, \n",
    "              C=.0001, # tradeoff L2 regularizer\n",
    "              epochs=50, # iterations\n",
    "              eta=0.001,  # learning rate\n",
    "              random_state=1,\n",
    "              phi='relu',n_ner=3,cf='ce')\n",
    "nn_mini2 = TLPMiniBatch(**params2,\n",
    "                          alpha=0.001,# momentum calculation\n",
    "                          decrease_const=0.0001, # decreasing eta\n",
    "                          minibatches=50, # minibatch size\n",
    "                          shuffle=True)\n",
    "\n",
    "nn_mini3 = TLPMiniBatch(**params3,\n",
    "                          alpha=0.001,# momentum calculation\n",
    "                          decrease_const=1e-5, # decreasing eta\n",
    "                          minibatches=50, # minibatch size\n",
    "                          shuffle=True)"
   ]
  },
  {
   "cell_type": "code",
   "execution_count": 199,
   "metadata": {
    "scrolled": true
   },
   "outputs": [
    {
     "name": "stderr",
     "output_type": "stream",
     "text": [
      "Epoch: 10/50"
     ]
    },
    {
     "name": "stdout",
     "output_type": "stream",
     "text": [
      "Wall time: 476 ms\n"
     ]
    },
    {
     "name": "stderr",
     "output_type": "stream",
     "text": [
      "Epoch: 50/50"
     ]
    },
    {
     "name": "stdout",
     "output_type": "stream",
     "text": [
      "Wall time: 862 ms\n"
     ]
    },
    {
     "data": {
      "text/plain": [
       "<__main__.TLPMiniBatch at 0x2c40177d940>"
      ]
     },
     "execution_count": 199,
     "metadata": {},
     "output_type": "execute_result"
    }
   ],
   "source": [
    "%time nn_mini2.fit(X_train1, y_train1, print_progress=10)\n",
    "%time nn_mini3.fit(X_train1, y_train1, print_progress=10)"
   ]
  },
  {
   "cell_type": "code",
   "execution_count": 278,
   "metadata": {
    "scrolled": true
   },
   "outputs": [
    {
     "name": "stdout",
     "output_type": "stream",
     "text": [
      "initialized_weights\n"
     ]
    }
   ],
   "source": [
    "from notebook.services.config import ConfigManager\n",
    "cm = ConfigManager().update('notebook', {'limit_output': 10})\n",
    "nn_mini3._initialize_weights()\n",
    "print(\"initialized_weights\")"
   ]
  },
  {
   "cell_type": "code",
   "execution_count": 201,
   "metadata": {
    "scrolled": false
   },
   "outputs": [
    {
     "name": "stdout",
     "output_type": "stream",
     "text": [
      "=================\n",
      "CE sig 2 layers :\n",
      "Resubstitution acc: 0.975\n",
      "Validation acc: 0.9333333333333333\n",
      "=================\n",
      "CE sig 3 layers :\n",
      "Resubstitution acc: 0.9833333333333333\n",
      "Validation acc: 0.9666666666666667\n"
     ]
    },
    {
     "data": {
      "image/png": "[encoded data removed]",
      "text/plain": [
       "<Figure size 432x288 with 1 Axes>"
      ]
     },
     "metadata": {},
     "output_type": "display_data"
    }
   ],
   "source": [
    "print_result(nn_mini2,X_train1,y_train1,X_test1,y_test1,title=\"CE sig 2 layers\",color=\"red\")\n",
    "print_result(nn_mini3,X_train1,y_train1,X_test1,y_test1,title=\"CE sig 3 layers\",color=\"blue\")\n",
    "plt.show()"
   ]
  },
  {
   "cell_type": "markdown",
   "metadata": {},
   "source": [
    "# Exceptional Work "
   ]
  },
  {
   "cell_type": "markdown",
   "metadata": {},
   "source": [
    "relu and silu were  added to the modeling part and some of thire resultes were showen at the last sigment of the modeling part  "
   ]
  },
  {
   "cell_type": "code",
   "execution_count": 242,
   "metadata": {},
   "outputs": [
    {
     "name": "stdout",
     "output_type": "stream",
     "text": [
      "TRAIN: (26479,) TEST: (2943,)\n",
      "Accuracy of 2 layers, objective function of ce, and phi of sig:  0.48436383645276726\n",
      "Accuracy of 2 layers, objective function of ce, and phi of silu:  0.5111718121848317\n",
      "Accuracy of 2 layers, objective function of ce, and phi of relu:  0.5458028272707093\n",
      "Accuracy of 3 layers, objective function of ce, and phi of sig:  0.463250643393943\n",
      "Accuracy of 3 layers, objective function of ce, and phi of silu:  0.03391425955525712\n",
      "Accuracy of 3 layers, objective function of ce, and phi of relu:  0.4049792205722583\n",
      "TRAIN: (26479,) TEST: (2943,)\n",
      "Accuracy of 2 layers, objective function of ce, and phi of sig:  0.5026248436847613\n",
      "Accuracy of 2 layers, objective function of ce, and phi of silu:  0.5037233276126412\n",
      "Accuracy of 2 layers, objective function of ce, and phi of relu:  0.527422950134691\n",
      "Accuracy of 3 layers, objective function of ce, and phi of sig:  0.526341907280258\n",
      "Accuracy of 3 layers, objective function of ce, and phi of silu:  0.03391425955525712\n",
      "Accuracy of 3 layers, objective function of ce, and phi of relu:  0.36914296310409617\n",
      "TRAIN: (26479,) TEST: (2943,)\n",
      "Accuracy of 2 layers, objective function of ce, and phi of sig:  0.4967236223602643\n",
      "Accuracy of 2 layers, objective function of ce, and phi of silu:  0.5252015297851023\n",
      "Accuracy of 2 layers, objective function of ce, and phi of relu:  0.5486193700479526\n",
      "Accuracy of 3 layers, objective function of ce, and phi of sig:  0.5375786440409428\n",
      "Accuracy of 3 layers, objective function of ce, and phi of silu:  0.03391425955525712\n",
      "Accuracy of 3 layers, objective function of ce, and phi of relu:  0.297396937165894\n"
     ]
    }
   ],
   "source": [
    "layers = [2, 3]\n",
    "objs = [ 'ce']\n",
    "phis = ['sig', 'silu','relu']\n",
    "\n",
    "models = []\n",
    "sss=StratifiedShuffleSplit(n_splits=3, random_state=1)\n",
    "for train_index, test_index in sss.split(x_ar, y_ar):\n",
    " print(\"TRAIN:\", train_index.shape, \"TEST:\", test_index.shape)\n",
    " X_train, X_test = x_ar[train_index], x_ar[test_index]\n",
    " y_train, y_test = y_ar[train_index], y_ar[test_index]\n",
    " for layer in layers:\n",
    "    for obj in objs:\n",
    "        for phi in phis:\n",
    "            params = dict(n_hidden=50, \n",
    "                  C=.0001, # tradeoff L2 regularizer\n",
    "                  epochs=5, # iterations\n",
    "                  eta=0.001,  # learning rate\n",
    "                  random_state=1,\n",
    "                  phi=phi, n_ner=layer, cf=obj)\n",
    "            nn_mini = TLPMiniBatch(**params,\n",
    "                                    alpha=0.001,# momentum calculation\n",
    "                                    decrease_const=0.0001, # decreasing eta\n",
    "                                    minibatches=50, # minibatch size\n",
    "                                    shuffle=True)\n",
    "            nn_mini.fit(X_train, y_train, print_progress=50)\n",
    "            yhat = nn_mini.predict(X_test)\n",
    "            models.append(nn_mini)\n",
    "            print('Accuracy of {} layers, objective function of {}, and phi of {}: '.format(layer, obj, phi),f1_score(y_test,yhat, average='weighted'))"
   ]
  },
  {
   "cell_type": "markdown",
   "metadata": {},
   "source": [
    "relu performed the best on our data when using two layares and cross valdation so our next step is ploting relu accuracy along with epocs"
   ]
  },
  {
   "cell_type": "code",
   "execution_count": 243,
   "metadata": {},
   "outputs": [
    {
     "name": "stderr",
     "output_type": "stream",
     "text": [
      "\r",
      "Epoch: 50/50"
     ]
    },
    {
     "name": "stdout",
     "output_type": "stream",
     "text": [
      "Accuracy: 0.6576812623229213\n",
      "Wall time: 11.3 s\n"
     ]
    }
   ],
   "source": [
    "%%time\n",
    "params = dict(n_hidden=50, \n",
    "              C=.0001, # tradeoff L2 regularizer\n",
    "              epochs=50, # iterations\n",
    "              eta=0.001,  # learning rate\n",
    "              random_state=1,\n",
    "              phi='sig',n_ner=2,cf='ce')\n",
    "params31 = dict(n_hidden=50, \n",
    "              C=.0001, # tradeoff L2 regularizer\n",
    "              epochs=50, # iterations\n",
    "              eta=0.001,  # learning rate\n",
    "              random_state=1,\n",
    "              phi='relu',n_ner=2,cf='ce')\n",
    "\n",
    "\n",
    "nn_mini = TLPMiniBatch(**params,\n",
    "                          alpha=0.001,# momentum calculation\n",
    "                          decrease_const=0.0001, # decreasing eta\n",
    "                          minibatches=50, # minibatch size\n",
    "                          shuffle=True)\n",
    "\n",
    "nn_mini31 = TLPMiniBatch(**params31,\n",
    "                          alpha=0.001,# momentum calculation\n",
    "                          decrease_const=1e-5, # decreasing eta\n",
    "                          minibatches=50, # minibatch size\n",
    "                          shuffle=True)\n",
    "                          \n",
    "\n",
    "\n",
    "    \n",
    "nn_mini31.fit(x_train_ar, y_target_ar, print_progress=50)\n",
    "yhat = nn_mini31.predict(x_train_ar)\n",
    "print('Accuracy:',f1_score(y_target_ar,yhat, average='weighted'))"
   ]
  },
  {
   "cell_type": "code",
   "execution_count": 244,
   "metadata": {},
   "outputs": [
    {
     "name": "stderr",
     "output_type": "stream",
     "text": [
      "Epoch: 50/50"
     ]
    },
    {
     "name": "stdout",
     "output_type": "stream",
     "text": [
      "Wall time: 11.1 s\n"
     ]
    },
    {
     "name": "stderr",
     "output_type": "stream",
     "text": [
      "Epoch: 50/50"
     ]
    },
    {
     "name": "stdout",
     "output_type": "stream",
     "text": [
      "Wall time: 10.5 s\n"
     ]
    },
    {
     "data": {
      "text/plain": [
       "<__main__.TLPMiniBatch at 0x2c4011f0b70>"
      ]
     },
     "execution_count": 244,
     "metadata": {},
     "output_type": "execute_result"
    }
   ],
   "source": [
    "%time nn_mini.fit(x_train_ar, y_target_ar, print_progress=10)\n",
    "%time nn_mini31.fit(x_train_ar, y_target_ar, print_progress=10)"
   ]
  },
  {
   "cell_type": "code",
   "execution_count": 275,
   "metadata": {},
   "outputs": [
    {
     "name": "stdout",
     "output_type": "stream",
     "text": [
      "initialized_weights\n"
     ]
    }
   ],
   "source": [
    "nn_mini31._initialize_weights()\n",
    "print(\"initialized_weights\")"
   ]
  },
  {
   "cell_type": "code",
   "execution_count": 246,
   "metadata": {},
   "outputs": [
    {
     "name": "stdout",
     "output_type": "stream",
     "text": [
      "=================\n",
      "sig :\n",
      "Resubstitution acc: 0.6504227386667799\n",
      "Validation acc: 0.6504227386667799\n",
      "=================\n",
      "relu :\n",
      "Resubstitution acc: 0.6804180651739814\n",
      "Validation acc: 0.6804180651739814\n"
     ]
    },
    {
     "data": {
      "image/png": "[encoded data removed]",
      "text/plain": [
       "<Figure size 432x288 with 1 Axes>"
      ]
     },
     "metadata": {},
     "output_type": "display_data"
    }
   ],
   "source": [
    "print_result(nn_mini,x_train_ar,y_target_ar,x_train_ar,y_target_ar,title=\"sig\",color=\"red\")\n",
    "print_result(nn_mini31,x_train_ar,y_target_ar,x_train_ar,y_target_ar,title=\"relu\",color=\"blue\")\n",
    "plt.show()"
   ]
  },
  {
   "cell_type": "markdown",
   "metadata": {},
   "source": [
    "as seen above relu did better than sig in almost all of the epics"
   ]
  },
  {
   "cell_type": "markdown",
   "metadata": {},
   "source": [
    "## 5. References"
   ]
  },
  {
   "cell_type": "markdown",
   "metadata": {},
   "source": [
    "1- Austin Animal Center Shelter Outcomes (Kaggle) https://www.kaggle.com/aaronschlegel/austin-animal-center-shelter-outcomes-and/version/1#aac_shelter_outcomes.csv\n",
    "\n",
    "\n",
    "2- Austin Animal Center. (n.d.). Retrieved March 10, 2019, from http://www.austintexas.gov/department/aac\n",
    "\n",
    "3- Hawes, Sloane; Ikizler, Devrim; Loughney, Katy; Tedeschi, Philip; and Morris, Kevin, \"Legislating Components of a Humane City: The Economic Impacts of the Austin, Texas \"No Kill\" Resolution (City of Austin Resolution 20091105-040)\" (2017). Animal Law and Legislation. 1. https://animalstudiesrepository.org/anilleg/1"
   ]
  },
  {
   "cell_type": "code",
   "execution_count": null,
   "metadata": {},
   "outputs": [],
   "source": []
  }
 ],
 "metadata": {
  "kernelspec": {
   "display_name": "Python 3",
   "language": "python",
   "name": "python3"
  },
  "language_info": {
   "codemirror_mode": {
    "name": "ipython",
    "version": 3
   },
   "file_extension": ".py",
   "mimetype": "text/x-python",
   "name": "python",
   "nbconvert_exporter": "python",
   "pygments_lexer": "ipython3",
   "version": "3.7.1"
  }
 },
 "nbformat": 4,
 "nbformat_minor": 2
}
