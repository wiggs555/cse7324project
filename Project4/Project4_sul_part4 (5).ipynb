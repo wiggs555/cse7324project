{
 "cells": [
  {
   "cell_type": "markdown",
   "metadata": {},
   "source": [
    "\n",
    "# 1. Preparation and Overview"
   ]
  },
  {
   "cell_type": "markdown",
   "metadata": {},
   "source": [
    "## 1.1 Business Understanding"
   ]
  },
  {
   "cell_type": "markdown",
   "metadata": {},
   "source": [
    "\n",
    "Austin Animal Center is the largest no-kill shelter in the United States and provides shelter to more than 16,000 animals each year. As a no-kill shelter they refuse to euthanize any animal unless the animal has a terminal medical issue and is in pain or if the animal is a danger to the public or to the shelter staff. Although the shelter’s primary goal is to find ‘forever homes’ for each and every animal that comes through their doors, many animals end up staying in the shelter for a long time if they are not considered as desirable for adoption as other animals. In addition to adopting out animals, the Austin Animal Center partners with various other rescues and animal sanctuaries to try to find homes for their animals.\n",
    "\n",
    "The average annual cost per animal at the Austin Animal Center is approximately $715 [3] and with many animals staying at the facility for long periods of time, some for several years, the cost can add up quickly. The shelter has fixed financial support via legislation to cover costs for staffing the shelters and a few grants to cover veterinary staff and services, but the shelter primarily relies on donations to provide for food, bedding and toys for the animals. The shelter must try to minimize costs associated with each animal and try to have the animals leave the shelter through adoption or transfer to a sanctuary as quickly as possible.\n",
    "\n",
    "The Austin Animal Center keeps track of each animal that comes through their doors and keeps a record of the animal’s outcome; that is whether they were adopted, transferred to a partner shelter or sanctuary or one of many other outcomes. If the shelter could predict an animal’s outcome based on the animal’s characteristics, they could be much more efficient with having animals leave the shelter by knowing which animals they should be able to adopt out and which animals they should transfer to other shelters or sanctuaries. This added efficiency would result in the shelter’s ability to take in more animals which in return would lower the average cost per animal.\n",
    "\n",
    "This lab examines the Austin Animal Center animal outcome data set to specifically look at cats and the outcome of each cat and attempts to build an accurate model of predicting the outcome. If accurate, this model could serve the Austin Animal Center as well as other cities that are looking at issuing a no-kill ordinance for their shelters."
   ]
  },
  {
   "cell_type": "markdown",
   "metadata": {},
   "source": [
    "## 1.2 Data Preparation"
   ]
  },
  {
   "cell_type": "code",
   "execution_count": 287,
   "metadata": {},
   "outputs": [],
   "source": [
    "# dependencies\n",
    "import pandas as pd\n",
    "import numpy as np\n",
    "import missingno as msno \n",
    "import matplotlib.pyplot as plt\n",
    "import re\n",
    "from sklearn.model_selection import train_test_split\n",
    "\n",
    "from textwrap import wrap\n",
    "from sklearn.preprocessing import StandardScaler\n",
    "import warnings\n",
    "warnings.filterwarnings(\"ignore\")\n",
    "import math\n",
    "%matplotlib inline"
   ]
  },
  {
   "cell_type": "code",
   "execution_count": 1556,
   "metadata": {
    "scrolled": true
   },
   "outputs": [
    {
     "data": {
      "text/html": [
       "<div>\n",
       "<style scoped>\n",
       "    .dataframe tbody tr th:only-of-type {\n",
       "        vertical-align: middle;\n",
       "    }\n",
       "\n",
       "    .dataframe tbody tr th {\n",
       "        vertical-align: top;\n",
       "    }\n",
       "\n",
       "    .dataframe thead th {\n",
       "        text-align: right;\n",
       "    }\n",
       "</style>\n",
       "<table border=\"1\" class=\"dataframe\">\n",
       "  <thead>\n",
       "    <tr style=\"text-align: right;\">\n",
       "      <th></th>\n",
       "      <th>breed</th>\n",
       "      <th>color</th>\n",
       "      <th>age</th>\n",
       "      <th>dob_month</th>\n",
       "      <th>dob_day</th>\n",
       "      <th>dob_dayofweek</th>\n",
       "      <th>month</th>\n",
       "      <th>day</th>\n",
       "      <th>dayofweek</th>\n",
       "      <th>hour</th>\n",
       "      <th>quarter</th>\n",
       "      <th>breed1</th>\n",
       "      <th>color1</th>\n",
       "      <th>spayed_neutered</th>\n",
       "      <th>sex</th>\n",
       "      <th>domestic</th>\n",
       "      <th>outcome</th>\n",
       "    </tr>\n",
       "  </thead>\n",
       "  <tbody>\n",
       "    <tr>\n",
       "      <th>0</th>\n",
       "      <td>domestic shorthair</td>\n",
       "      <td>orange tabby</td>\n",
       "      <td>15</td>\n",
       "      <td>7</td>\n",
       "      <td>7</td>\n",
       "      <td>0</td>\n",
       "      <td>7</td>\n",
       "      <td>22</td>\n",
       "      <td>1</td>\n",
       "      <td>16</td>\n",
       "      <td>3</td>\n",
       "      <td>None</td>\n",
       "      <td>None</td>\n",
       "      <td>False</td>\n",
       "      <td>male</td>\n",
       "      <td>1</td>\n",
       "      <td>transfer_partner</td>\n",
       "    </tr>\n",
       "    <tr>\n",
       "      <th>8</th>\n",
       "      <td>domestic shorthair</td>\n",
       "      <td>blue tabby</td>\n",
       "      <td>59</td>\n",
       "      <td>6</td>\n",
       "      <td>16</td>\n",
       "      <td>0</td>\n",
       "      <td>8</td>\n",
       "      <td>14</td>\n",
       "      <td>3</td>\n",
       "      <td>18</td>\n",
       "      <td>3</td>\n",
       "      <td>None</td>\n",
       "      <td>white</td>\n",
       "      <td>False</td>\n",
       "      <td>female</td>\n",
       "      <td>1</td>\n",
       "      <td>adoption_unknown</td>\n",
       "    </tr>\n",
       "    <tr>\n",
       "      <th>9</th>\n",
       "      <td>domestic shorthair</td>\n",
       "      <td>white</td>\n",
       "      <td>95</td>\n",
       "      <td>3</td>\n",
       "      <td>26</td>\n",
       "      <td>2</td>\n",
       "      <td>6</td>\n",
       "      <td>29</td>\n",
       "      <td>6</td>\n",
       "      <td>17</td>\n",
       "      <td>2</td>\n",
       "      <td>None</td>\n",
       "      <td>black</td>\n",
       "      <td>True</td>\n",
       "      <td>female</td>\n",
       "      <td>1</td>\n",
       "      <td>adoption_offsite</td>\n",
       "    </tr>\n",
       "    <tr>\n",
       "      <th>10</th>\n",
       "      <td>domestic mediumhair</td>\n",
       "      <td>black</td>\n",
       "      <td>366</td>\n",
       "      <td>3</td>\n",
       "      <td>27</td>\n",
       "      <td>2</td>\n",
       "      <td>3</td>\n",
       "      <td>28</td>\n",
       "      <td>4</td>\n",
       "      <td>14</td>\n",
       "      <td>1</td>\n",
       "      <td>None</td>\n",
       "      <td>white</td>\n",
       "      <td>True</td>\n",
       "      <td>female</td>\n",
       "      <td>1</td>\n",
       "      <td>return-to-owner_unknown</td>\n",
       "    </tr>\n",
       "    <tr>\n",
       "      <th>17</th>\n",
       "      <td>domestic shorthair</td>\n",
       "      <td>black</td>\n",
       "      <td>24</td>\n",
       "      <td>12</td>\n",
       "      <td>16</td>\n",
       "      <td>0</td>\n",
       "      <td>1</td>\n",
       "      <td>9</td>\n",
       "      <td>3</td>\n",
       "      <td>19</td>\n",
       "      <td>1</td>\n",
       "      <td>None</td>\n",
       "      <td>white</td>\n",
       "      <td>False</td>\n",
       "      <td>male</td>\n",
       "      <td>1</td>\n",
       "      <td>transfer_partner</td>\n",
       "    </tr>\n",
       "  </tbody>\n",
       "</table>\n",
       "</div>"
      ],
      "text/plain": [
       "                  breed         color  age  dob_month  dob_day  dob_dayofweek  \\\n",
       "0    domestic shorthair  orange tabby   15          7        7              0   \n",
       "8    domestic shorthair    blue tabby   59          6       16              0   \n",
       "9    domestic shorthair         white   95          3       26              2   \n",
       "10  domestic mediumhair         black  366          3       27              2   \n",
       "17   domestic shorthair         black   24         12       16              0   \n",
       "\n",
       "    month  day  dayofweek  hour  quarter breed1 color1 spayed_neutered  \\\n",
       "0       7   22          1    16        3   None   None           False   \n",
       "8       8   14          3    18        3   None  white           False   \n",
       "9       6   29          6    17        2   None  black            True   \n",
       "10      3   28          4    14        1   None  white            True   \n",
       "17      1    9          3    19        1   None  white           False   \n",
       "\n",
       "       sex  domestic                  outcome  \n",
       "0     male         1         transfer_partner  \n",
       "8   female         1         adoption_unknown  \n",
       "9   female         1         adoption_offsite  \n",
       "10  female         1  return-to-owner_unknown  \n",
       "17    male         1         transfer_partner  "
      ]
     },
     "execution_count": 1556,
     "metadata": {},
     "output_type": "execute_result"
    }
   ],
   "source": [
    "# import data\n",
    "shelter_outcomes = pd.read_csv(\"C:/Users/sulem/OneDrive/Desktop/machin learnign/Project3/aac_shelter_outcomes.csv\")\n",
    "# filter animal type for just cats\n",
    "cats = shelter_outcomes[shelter_outcomes['animal_type'] == 'Cat']\n",
    "#print(cats.head())\n",
    "\n",
    "# remove age_upon_outcome and recalculate to standard units (days)\n",
    "age = cats.loc[:,['datetime', 'date_of_birth']]\n",
    "# convert to datetime\n",
    "age.loc[:,'datetime'] = pd.to_datetime(age['datetime'])\n",
    "age.loc[:,'date_of_birth'] = pd.to_datetime(age['date_of_birth'])\n",
    "# calculate cat age in days\n",
    "cats.loc[:,'age'] = (age.loc[:,'datetime'] - age.loc[:,'date_of_birth']).dt.days\n",
    "# get dob info\n",
    "cats['dob_month'] = age.loc[:, 'date_of_birth'].dt.month\n",
    "cats['dob_day'] = age.loc[:, 'date_of_birth'].dt.day\n",
    "cats['dob_dayofweek'] = age.loc[:, 'date_of_birth'].dt.dayofweek\n",
    "# get month from datetime\n",
    "cats['month'] = age.loc[:,'datetime'].dt.month\n",
    "# get day of month\n",
    "cats['day'] = age.loc[:,'datetime'].dt.day\n",
    "# get day of week\n",
    "cats['dayofweek'] = age.loc[:, 'datetime'].dt.dayofweek\n",
    "# get hour of day\n",
    "cats['hour'] = age.loc[:, 'datetime'].dt.hour\n",
    "# get quarter\n",
    "cats['quarter'] = age.loc[:, 'datetime'].dt.quarter\n",
    "\n",
    "# clean up breed attribute\n",
    "# get breed attribute for processing\n",
    "# convert to lowercase, remove mix and strip whitespace\n",
    "# remove space in 'medium hair' to match 'longhair' and 'shorthair'\n",
    "# split on either space or '/'\n",
    "breed = cats.loc[:, 'breed'].str.lower().str.replace('mix', '').str.replace('medium hair', 'mediumhair').str.strip().str.split('/', expand=True)\n",
    "cats['breed'] = breed[0]\n",
    "cats['breed1'] = breed[1]\n",
    "\n",
    "# clean up color attribute\n",
    "# convert to lowercase\n",
    "# strip spaces\n",
    "# split on '/'\n",
    "color = cats.loc[:, 'color'].str.lower().str.strip().str.split('/', expand=True)\n",
    "cats['color'] = color[0]\n",
    "cats['color1'] = color[1]\n",
    "\n",
    "# clean up sex_upon_outcome\n",
    "sex = cats['sex_upon_outcome'].str.lower().str.strip().str.split(' ', expand=True)\n",
    "sex[0].replace('spayed', True, inplace=True)\n",
    "sex[0].replace('neutered', True, inplace=True)\n",
    "sex[0].replace('intact', False, inplace=True)\n",
    "sex[1].replace(np.nan, 'unknown', inplace=True)\n",
    "cats['spayed_neutered'] = sex[0]\n",
    "cats['sex'] = sex[1]\n",
    "\n",
    "# add in domesticated attribute\n",
    "cats['domestic'] = np.where(cats['breed'].str.contains('domestic'), 1, 0)\n",
    "\n",
    "# combine outcome and outcome subtype into a single attribute\n",
    "cats['outcome_subtype'] = cats['outcome_subtype'].str.lower().str.replace(' ', '-').fillna('unknown')\n",
    "cats['outcome_type'] = cats['outcome_type'].str.lower().str.replace(' ', '-').fillna('unknown')\n",
    "cats['outcome'] = cats['outcome_type'] + '_' + cats['outcome_subtype']\n",
    "\n",
    "# drop unnecessary columns\n",
    "cats.drop(columns=['animal_id', 'name', 'animal_type', 'age_upon_outcome', 'date_of_birth', 'datetime', 'monthyear', 'sex_upon_outcome', 'outcome_subtype', 'outcome_type'], inplace=True)\n",
    "#print(cats['outcome'].value_counts())\n",
    "\n",
    "cats.head()\n"
   ]
  },
  {
   "cell_type": "markdown",
   "metadata": {},
   "source": [
    "Not all information included in this data set is necessary to the targeted prediction of outcome type. Some animals that were adopted were returned to the shelter as runaways before being returned to their owners. These instances have no impact on trying to predict outcome and will be removed from the data set.\n",
    "\n"
   ]
  },
  {
   "cell_type": "markdown",
   "metadata": {},
   "source": [
    "## 1.3 Data Description"
   ]
  },
  {
   "cell_type": "code",
   "execution_count": 1551,
   "metadata": {},
   "outputs": [
    {
     "name": "stdout",
     "output_type": "stream",
     "text": [
      "Default datatypes of shelter cat outcomes:\n",
      "\n",
      "breed              object\n",
      "color              object\n",
      "age                 int64\n",
      "dob_month           int64\n",
      "dob_day             int64\n",
      "dob_dayofweek       int64\n",
      "month               int64\n",
      "day                 int64\n",
      "dayofweek           int64\n",
      "hour                int64\n",
      "quarter             int64\n",
      "color1             object\n",
      "spayed_neutered    object\n",
      "sex                object\n",
      "domestic            int32\n",
      "outcome            object\n",
      "dtype: object\n",
      "\n",
      "Below is a description of the attributes in the cats dataframe:\n",
      "\n"
     ]
    }
   ],
   "source": [
    "print(\"Default datatypes of shelter cat outcomes:\\n\")\n",
    "print(cats.dtypes)\n",
    "\n",
    "print(\"\\nBelow is a description of the attributes in the cats dataframe:\\n\")"
   ]
  },
  {
   "cell_type": "code",
   "execution_count": 1552,
   "metadata": {
    "scrolled": false
   },
   "outputs": [
    {
     "name": "stdout",
     "output_type": "stream",
     "text": [
      "Below is a listing of the target classes and their distributions:\n"
     ]
    },
    {
     "data": {
      "text/plain": [
       "transfer_partner           9486\n",
       "adoption_unknown           9264\n",
       "adoption_foster            3357\n",
       "transfer_scrp              3211\n",
       "return-to-owner_unknown    1431\n",
       "euthanasia_suffering       1304\n",
       "transfer_snr                625\n",
       "died_in-kennel              208\n",
       "died_in-foster              138\n",
       "adoption_offsite            110\n",
       "euthanasia_rabies-risk       61\n",
       "euthanasia_medical           56\n",
       "rto-adopt_unknown            33\n",
       "died_unknown                 17\n",
       "died_at-vet                  17\n",
       "disposal_unknown             16\n",
       "euthanasia_at-vet            16\n",
       "died_enroute                 15\n",
       "missing_in-foster            14\n",
       "euthanasia_unknown           11\n",
       "died_in-surgery               8\n",
       "missing_in-kennel             7\n",
       "missing_unknown               5\n",
       "euthanasia_aggressive         4\n",
       "unknown_unknown               3\n",
       "missing_possible-theft        2\n",
       "transfer_barn                 1\n",
       "adoption_barn                 1\n",
       "euthanasia_underage           1\n",
       "Name: outcome, dtype: int64"
      ]
     },
     "execution_count": 1552,
     "metadata": {},
     "output_type": "execute_result"
    }
   ],
   "source": [
    "print('Below is a listing of the target classes and their distributions:')\n",
    "cats['outcome'].value_counts()"
   ]
  },
  {
   "cell_type": "markdown",
   "metadata": {},
   "source": [
    "\n",
    "Each feature has a different count, a low count per feature decrease the accuracy and the efficiency of the logistic regression method used, so all features with low count was not taken into account in traning the classfier"
   ]
  },
  {
   "cell_type": "code",
   "execution_count": 1553,
   "metadata": {
    "scrolled": false
   },
   "outputs": [
    {
     "data": {
      "text/plain": [
       "<matplotlib.axes._subplots.AxesSubplot at 0x19b90c00978>"
      ]
     },
     "execution_count": 1553,
     "metadata": {},
     "output_type": "execute_result"
    },
    {
     "data": {
      "image/png": "[encoded data removed]",
      "text/plain": [
       "<Figure size 1800x720 with 2 Axes>"
      ]
     },
     "metadata": {},
     "output_type": "display_data"
    }
   ],
   "source": [
    "# examine missing data\n",
    "msno.matrix(cats)"
   ]
  },
  {
   "cell_type": "markdown",
   "metadata": {},
   "source": [
    "\n",
    "Since the missing data shows that breed1 will have little impact on the prediction since there are only two records that have a value, it will be removed from the data set. The missing data in color1 should be handled when one hot encoding is performed on it."
   ]
  },
  {
   "cell_type": "markdown",
   "metadata": {},
   "source": [
    "\n",
    "## 1.4 One hot encoding of data and splitting into training and testing sets"
   ]
  },
  {
   "cell_type": "code",
   "execution_count": 1557,
   "metadata": {},
   "outputs": [
    {
     "name": "stdout",
     "output_type": "stream",
     "text": [
      "    age  dob_month  dob_day  dob_dayofweek  month  day  dayofweek  hour  \\\n",
      "0    15          7        7              0      7   22          1    16   \n",
      "8    59          6       16              0      8   14          3    18   \n",
      "9    95          3       26              2      6   29          6    17   \n",
      "10  366          3       27              2      3   28          4    14   \n",
      "17   24         12       16              0      1    9          3    19   \n",
      "\n",
      "    quarter  domestic     ...      color1_tortie point  color1_tricolor  \\\n",
      "0         3         1     ...                        0                0   \n",
      "8         3         1     ...                        0                0   \n",
      "9         2         1     ...                        0                0   \n",
      "10        1         1     ...                        0                0   \n",
      "17        1         1     ...                        0                0   \n",
      "\n",
      "    color1_white  color1_yellow  spayed_neutered_False  spayed_neutered_True  \\\n",
      "0              0              0                      1                     0   \n",
      "8              1              0                      1                     0   \n",
      "9              0              0                      0                     1   \n",
      "10             1              0                      0                     1   \n",
      "17             1              0                      1                     0   \n",
      "\n",
      "    spayed_neutered_unknown  sex_female  sex_male  sex_unknown  \n",
      "0                         0           0         1            0  \n",
      "8                         0           1         0            0  \n",
      "9                         0           1         0            0  \n",
      "10                        0           1         0            0  \n",
      "17                        0           0         1            0  \n",
      "\n",
      "[5 rows x 141 columns]\n"
     ]
    }
   ],
   "source": [
    "cats.drop(columns=['breed1'], inplace=True)\n",
    "# Breed, Color, Color1, Spayed_Netured and Sex attributes need to be one hot encoded\n",
    "cats_ohe = pd.get_dummies(cats, columns=['breed', 'color', 'color1', 'spayed_neutered', 'sex'])\n",
    "cats_ohe.head()\n",
    "out_t={'euthanasia_suffering' : 0, 'died_in-kennel' : 0, 'return-to-owner_unknown' : 0, 'transfer_partner' : 1, 'euthanasia_at-vet' : 2, 'adoption_foster' : 3, 'died_in-foster' : 0, 'transfer_scrp' : 4, 'euthanasia_medical' : 0, 'transfer_snr' : 0, 'died_enroute' : 0, 'rto-adopt_unknown' : 0, 'missing_in-foster' : 0, 'adoption_offsite' : 0, 'adoption_unknown' :5,'euthanasia_rabies-risk' : 0, 'unknown_unknown' : 0, 'adoption_barn' : 0, 'died_unknown' : 0, 'died_in-surgery' : 0, 'euthanasia_aggressive' : 0, 'euthanasia_unknown' : 0, 'missing_unknown' : 0, 'missing_in-kennel' : 0, 'missing_possible-theft' : 0, 'died_at-vet' : 0, 'disposal_unknown' : 0, 'euthanasia_underage' : 0, 'transfer_barn' : 0}\n",
    "#output is converted from string to catogries 0 to 5 represent each output\n",
    "# separate outcome from data\n",
    "outcome = cats_ohe['outcome']\n",
    "cats_ohe.drop(columns=['outcome'])\n",
    "\n",
    "print(cats_ohe.head())\n",
    "\n",
    "# split the data\n",
    "X_train, X_test, y_train, y_test = train_test_split(cats_ohe, outcome, test_size=0.2, random_state=0)\n",
    "X_train.drop(columns=['outcome'], inplace=True)\n",
    "y_train = [out_t[item] for item in y_train]\n",
    "#print(X_train.shape, X_test.shape, y_train.shape, y_test.shape)"
   ]
  },
  {
   "cell_type": "markdown",
   "metadata": {},
   "source": [
    "\n",
    "One hot encoding is used for the cat breed, color, spayed/neutered and sex attributes to convert the categorical variables into a form that should play nicer with logistic regression. Although spayed_neutered and sex are essentially boolean attributes, they had to be converted because there were many unknown values in each.\n",
    "\n",
    "The data is split with an 80/20 train/test ratio using the train_test_split function in the cross validation functions in Skikit Learn's cross validation package. Although this was an easy method to split the data into training and test sets, it was not a good way to split the data for this dataset. As shown above, the target distribution is skewed and some targets have very few instances. It would have been better to select an 80/20 ratio for each class."
   ]
  },
  {
   "cell_type": "code",
   "execution_count": 1558,
   "metadata": {},
   "outputs": [
    {
     "name": "stdout",
     "output_type": "stream",
     "text": [
      "(23537, 140)\n",
      "(23537,)\n"
     ]
    },
    {
     "data": {
      "image/png": "[encoded data removed]",
      "text/plain": [
       "<Figure size 432x288 with 1 Axes>"
      ]
     },
     "metadata": {},
     "output_type": "display_data"
    }
   ],
   "source": [
    "x_train_ar=X_train.values\n",
    "y_target_ar=np.asarray(y_train)\n",
    "x_train_ar = StandardScaler().fit(x_train_ar).transform(x_train_ar)\n",
    "print(x_train_ar.shape)\n",
    "print(y_target_ar.shape)\n",
    "unique, counts = np.unique(y_target_ar, return_counts=True)\n",
    "np.asarray((unique, counts))\n",
    "plt.pie(np.asarray(( counts)), labels=np.unique(y_target_ar), startangle=90, autopct='%.1f%%')\n",
    "plt.show()"
   ]
  },
  {
   "cell_type": "markdown",
   "metadata": {},
   "source": [
    "# Evaluation "
   ]
  },
  {
   "cell_type": "markdown",
   "metadata": {},
   "source": [
    "# Modeling "
   ]
  },
  {
   "cell_type": "markdown",
   "metadata": {},
   "source": [
    "# Exceptional Work "
   ]
  },
  {
   "cell_type": "code",
   "execution_count": 1619,
   "metadata": {},
   "outputs": [],
   "source": [
    "# Example adapted from https://github.com/rasbt/python-machine-learning-book/blob/master/code/ch12/ch12.ipynb\n",
    "# Original Author: Sebastian Raschka\n",
    "\n",
    "# This is the optional book we use in the course, excellent intuitions and straightforward programming examples\n",
    "# please note, however, that this code has been manipulated to reflect our assumptions and notation.\n",
    "import numpy as np\n",
    "from scipy.special import expit\n",
    "import pandas as pd\n",
    "import sys\n",
    "\n",
    "# start with a simple base classifier, which can't be fit or predicted\n",
    "# it only has internal classes to be used by classes that will subclass it\n",
    "class TwoLayerPerceptronBase(object):\n",
    "    def __init__(self, n_hidden=30,\n",
    "                 C=0.0, epochs=500, eta=0.001, random_state=None,phi='sig',n_ner=2,cf='quad'):\n",
    "        np.random.seed(random_state)\n",
    "        self.n_hidden = n_hidden\n",
    "        self.l2_C = C\n",
    "        self.epochs = epochs\n",
    "        self.eta = eta\n",
    "        self.phi=phi\n",
    "        self.n_ner=n_ner\n",
    "        self.cf=cf\n",
    "    @staticmethod\n",
    "    def _encode_labels(y):\n",
    "        \"\"\"Encode labels into one-hot representation\"\"\"\n",
    "        onehot = pd.get_dummies(y).values.T\n",
    "            \n",
    "        return onehot\n",
    "\n",
    "    def _initialize_weights(self):\n",
    "        \"\"\"Initialize weights with small random numbers.\"\"\"\n",
    "        #W1_num_elems = (self.n_features_ + 1)*self.n_hidden\n",
    "        #W1 = np.random.uniform(-1.0, 1.0,size=W1_num_elems)\n",
    "        #W1 = W1.reshape(self.n_hidden, self.n_features_ + 1) # reshape to be W\n",
    "        \n",
    "        #W2_num_elems = (self.n_hidden + 1)*self.n_output_\n",
    "        #W2 = np.random.uniform(-1.0, 1.0, size=W2_num_elems)\n",
    "        #W2 = W2.reshape(self.n_output_, self.n_hidden + 1)\n",
    "\n",
    "        for i in range(self.n_ner):\n",
    "         if i==0:\n",
    "          vars()[\"W\" + str(i + 1) +\"_num_elems\"] = (self.n_features_ + 1)*self.n_hidden\n",
    "          vars()[\"W\" + str(i + 1)] = np.random.uniform(-1.0, 1.0,size=vars()[\"W\" + str(i + 1) +\"_num_elems\"])\n",
    "          vars()[\"W\" + str(i + 1)] = vars()[\"W\" + str(i+1)].reshape(self.n_hidden, self.n_features_ + 1) # reshape to be W \n",
    "\n",
    "         if i>0:\n",
    "          vars()[\"W\" + str(i + 1)+\"_num_elems\"] = (self.n_hidden + 1)*self.n_hidden\n",
    "          vars()[\"W\" + str(i + 1)] = np.random.uniform(-1.0, 1.0,size=vars()[\"W\" + str(i + 1)+\"_num_elems\"])\n",
    "          vars()[\"W\" + str(i + 1)] = vars()[\"W\" + str(i+1)].reshape(self.n_hidden, self.n_hidden + 1) # reshape to be W \n",
    "      \n",
    "         if i==(self.n_ner-1):\n",
    "          vars()[\"W\" + str(i + 1)+\"_num_elems\"] = (self.n_hidden + 1)*self.n_output_  \n",
    "          vars()[\"W\" + str(i + 1)] = np.random.uniform(-1.0, 1.0,size=vars()[\"W\" + str(i + 1)+\"_num_elems\"])\n",
    "          vars()[\"W\" + str(i + 1)] = vars()[\"W\" + str(i+1)].reshape(self.n_output_, self.n_hidden + 1)\n",
    "\n",
    "        return vars()\n",
    "    \n",
    "    @staticmethod\n",
    "    def _sigmoid(z,phi):\n",
    "        \"\"\"Use scipy.special.expit to avoid overflow\"\"\"\n",
    "        # 1.0 / (1.0 + np.exp(-z))\n",
    "        if phi=='sig': \n",
    "         return expit(z)\n",
    "        if phi=='lin': \n",
    "         return z\n",
    "        if phi=='silu': \n",
    "         return expit(z)*z\n",
    "        if phi=='relu': \n",
    "         bol= z>=0  \n",
    "         #z=bol*z\n",
    "         return np.maximum(0,z.copy())\n",
    "    \n",
    "    @staticmethod\n",
    "    def _add_bias_unit(X, how='column'):\n",
    "        \"\"\"Add bias unit (column or row of 1s) to array at index 0\"\"\"\n",
    "        if how == 'column':\n",
    "            ones = np.ones((X.shape[0], 1))\n",
    "            X_new = np.hstack((ones, X))\n",
    "        elif how == 'row':\n",
    "            ones = np.ones((1, X.shape[1]))\n",
    "            X_new = np.vstack((ones, X))\n",
    "        return X_new\n",
    "    \n",
    "    @staticmethod\n",
    "    def _L2_reg(lambda_, W,n):\n",
    "        \"\"\"Compute L2-regularization cost\"\"\"\n",
    "        # only compute for non-bias terms\n",
    "        W_sum=0\n",
    "        for i in range(n):\n",
    "         W_sum=np.mean(W['W'+str(i+1)][:, 1:] ** 2)+W_sum\n",
    "            \n",
    "        sqr=np.sqrt(W_sum)\n",
    "        return (lambda_/2.0) *sqr\n",
    "    \n",
    "    def _cost(self,Al,Y_enc,W):\n",
    "        '''Get the objective function value'''\n",
    "        cost = np.mean((Y_enc-Al)**2)\n",
    "        L2_term = self._L2_reg(self.l2_C, W,self.n_ner)\n",
    "        return cost + L2_term\n",
    "    \n",
    "    def _feedforward(self, X, W, n_ner):\n",
    "        \"\"\"Compute feedforward step\n",
    "        \"\"\" \n",
    "    # for i in range(5):\n",
    "     #   n = 1\n",
    "      #  globals()[\"A\" + str(i + 1)] = a + b\n",
    "       # print(globals()[\"Temp\" + str(i + 1)])\n",
    "        #n = n + 1\n",
    "        #A1 = self._add_bias_unit(X, how='column')\n",
    "        #A1 = A1.T\n",
    "       # Z1 = W1 @ A1\n",
    "        #A2 = self._sigmoid(Z1,self.phi)\n",
    "        #A2 = self._add_bias_unit(A2, how='row')\n",
    "        #Z2 = W2 @ A2\n",
    "        #A3 = self._sigmoid(Z2,'sig')  nl=3\n",
    "  \n",
    "        for i in range(self.n_ner+1):\n",
    "         if i==0:   \n",
    "          vars()[\"A\"+str(i+1)]=self._add_bias_unit(X, how='column')\n",
    "          vars()[\"A\"+str(i+1)]=vars()[\"A\"+str(i+1)].T\n",
    "          vars()[\"Z\"+str(i+1)]=W[\"W\"+str(i+1)] @ vars()[\"A\"+str(i+1)]\n",
    "          #print(\"A\"+str(i+1))\n",
    "          #print(vars()[\"A\"+str(i+1)])\n",
    "         if (i>0) and i<(self.n_ner):\n",
    "          vars()[\"A\"+str(i+1)]=self._sigmoid(vars()[\"Z\"+str(i)],self.phi)\n",
    "          vars()[\"A\"+str(i+1)]=self._add_bias_unit(vars()[\"A\"+str(i+1)], how='row')\n",
    "          vars()[\"Z\"+str(i+1)]=W[\"W\"+str(i+1)]@vars()[\"A\"+str(i+1)]\n",
    "          #print(\"A\"+str(i+1))\n",
    "          #print(vars()[\"A\"+str(i+1)])\n",
    "         if i==(self.n_ner):\n",
    "          vars()[\"A\"+str(i+1)]=self._sigmoid(vars()[\"Z\"+str(i)],'sig')\n",
    "          #print(\"A\"+str(i+1))\n",
    "          #print(vars()[\"A\"+str(i+1)])\n",
    "        \n",
    "        return vars()\n",
    "    def _div(b,A_,phi):\n",
    "     \n",
    "        if phi=='sig':   \n",
    "         return A_*(1-A_)\n",
    "        if phi=='lin':     \n",
    "         return 1\n",
    "        if phi=='silu':\n",
    "         return (expit(A_)*A_)+(expit(A_)*(1-expit(A_)*A_))\n",
    "        if phi=='relu': \n",
    "         bol= A_>=0   \n",
    "         return 1  \n",
    "    \n",
    "    def _get_gradient(self, F, Y_enc, W):\n",
    "        \"\"\" Compute gradient step using backpropagation.\n",
    "        \"\"\"\n",
    "        # vectorized backpropagation\n",
    "        #Z1_with_bias = self._add_bias_unit(Z1,how='row')\n",
    "        #Z2_with_bias = self._add_bias_unit(Z2,how='row')\n",
    "        #V2 = -2*(Y_enc-A3)*self._div(A3,self.phi) # last layer sensitivity\n",
    "        #V1 = self._div(A2,self.phi)*(W2.T @ V2) # back prop the sensitivity \n",
    "    \n",
    "        #grad2 = V2 @ A2.T # no bias on final layer\n",
    "        #grad1 = V1[1:,:] @ A1.T # dont back prop sensitivity of bias\n",
    "        if self.cf==\"quad\": \n",
    "         vars()['V'+str(self.n_ner)] = -2*(Y_enc-F[\"A\"+str(self.n_ner+1)])*self._div(F[\"A\"+str(self.n_ner+1)],'sig')\n",
    "         #if self.phi=='relu': \n",
    "         # vars()['V'+str(self.n_ner)][F[\"Z\"+str(self.n_ner)]<=0] = 0 \n",
    "         \n",
    "       \n",
    "        if self.cf==\"ce\": \n",
    "         vars()['V'+str(self.n_ner)] = -2*(Y_enc-F[\"A\"+str(self.n_ner+1)])\n",
    "         \n",
    "        vars()['grad'+str(self.n_ner)] = vars()['V'+str(self.n_ner)] @ F[\"A\"+str(self.n_ner)].T    \n",
    "\n",
    "        vars()['grad'+str(self.n_ner)][:, 1:] += W[\"W\"+str(self.n_ner)][:, 1:] * self.l2_C\n",
    "        \n",
    "        for i in range(self.n_ner-1):\n",
    "         l=self.n_ner-1-i # l=4-->1\n",
    "         if l==self.n_ner-1:\n",
    "          \n",
    "          vars()[\"Z\"+str(l)+\"_with_bias\"] = self._add_bias_unit(F[\"Z\"+str(l)],how='row')\n",
    "          \n",
    "          vars()['V'+str(l)] = self._div(F[\"A\"+str(l+1)],self.phi)*(W[\"W\"+str(l+1)].T @ vars()['V'+str(l+1)])\n",
    "          if self.phi=='relu':\n",
    "           vars()['V'+str(l)][vars()[\"Z\"+str(l)+\"_with_bias\"]<=0] = 0\n",
    "         if l!=self.n_ner-1:\n",
    "          \n",
    "          vars()[\"Z\"+str(l)+\"_with_bias\"] = self._add_bias_unit(F[\"Z\"+str(l)],how='row')\n",
    "          vars()['V'+str(l)] = self._div(F[\"A\"+str(l+1)],self.phi)*(W[\"W\"+str(l+1)].T @ vars()['V'+str(l+1)][1:, :]) \n",
    "          if self.phi=='relu':\n",
    "           vars()['V'+str(l)][vars()[\"Z\"+str(l)+\"_with_bias\"]<=0] = 0\n",
    "         \n",
    "        \n",
    "         vars()['grad'+str(l)]=vars()['V'+str(l)][1:,:]  @ F[\"A\"+str(l)].T\n",
    "      \n",
    "    \n",
    "         vars()['grad'+str(l)][:, 1:] += W[\"W\"+str(l)][:, 1:] * self.l2_C\n",
    "        # regularize weights that are not bias terms\n",
    "        #grad1[:, 1:] += W1[:, 1:] * self.l2_C\n",
    "        #grad2[:, 1:] += W2[:, 1:] * self.l2_C\n",
    "        \n",
    "        \n",
    "        return vars()\n",
    "    \n",
    "    def predict(self, X):\n",
    "        \"\"\"Predict class labels\"\"\"\n",
    "        p = self._feedforward(X, self.W,self.n_ner)\n",
    "        #print(p[\"A\"+str(self.n_ner+1)])\n",
    "        \n",
    "        y_pred = np.argmax(p[\"A\"+str(self.n_ner+1)], axis=0)\n",
    "        return y_pred"
   ]
  },
  {
   "cell_type": "code",
   "execution_count": 1595,
   "metadata": {},
   "outputs": [],
   "source": [
    "from sklearn.metrics import accuracy_score\n",
    "# just start with the vectorized version and minibatch\n",
    "class TLPMiniBatch(TwoLayerPerceptronBase):\n",
    "    def __init__(self, alpha=0.0, decrease_const=0.0, shuffle=True, \n",
    "                 minibatches=1, **kwds):        \n",
    "        # need to add to the original initializer \n",
    "        self.alpha = alpha\n",
    "        self.decrease_const = decrease_const\n",
    "        self.shuffle = shuffle\n",
    "        self.minibatches = minibatches\n",
    "        # but keep other keywords\n",
    "        super().__init__(**kwds)\n",
    "        \n",
    "    \n",
    "    def fit(self, X, y, print_progress=False):\n",
    "        \"\"\" Learn weights from training data. With mini-batch\"\"\"\n",
    "        X_data, y_data = X.copy(), y.copy()\n",
    "        Y_enc = self._encode_labels(y)\n",
    "        \n",
    "        # init weights and setup matrices\n",
    "        self.n_features_ = X_data.shape[1]\n",
    "        self.n_output_ = Y_enc.shape[0]\n",
    "      \n",
    "          #self.vars()[\"W\" + str(i + 1)]= self._initialize_weights(i)\n",
    "        self.W=self._initialize_weights()\n",
    "        \n",
    "          #print(self.W['W1'])\n",
    "        for i in range(self.n_ner):\n",
    "         vars()[\"delta_W\"+str(i + 1)+\"_prev\"] = np.zeros(self.W[\"W\" + str(i + 1)].shape)\n",
    "        #delta_W2_prev = np.zeros(self.W[2].shape)\n",
    "\n",
    "        self.cost_ = []\n",
    "        self.score_ = []\n",
    "        # get starting acc\n",
    "        self.score_.append(accuracy_score(y_data,self.predict(X_data)))\n",
    "        for i in range(self.epochs):\n",
    "\n",
    "            # adaptive learning rate\n",
    "            self.eta /= (1 + self.decrease_const*i)\n",
    "\n",
    "            if print_progress>0 and (i+1)%print_progress==0:\n",
    "                sys.stderr.write('\\rEpoch: %d/%d' % (i+1, self.epochs))\n",
    "                sys.stderr.flush()\n",
    "\n",
    "            if self.shuffle:\n",
    "                idx_shuffle = np.random.permutation(y_data.shape[0])\n",
    "                X_data, Y_enc, y_data = X_data[idx_shuffle], Y_enc[:, idx_shuffle], y_data[idx_shuffle]\n",
    "\n",
    "            mini = np.array_split(range(y_data.shape[0]), self.minibatches)\n",
    "            mini_cost = []\n",
    "            for idx in mini:\n",
    "\n",
    "                # feedforward\n",
    "             \n",
    "                F = self._feedforward(X_data[idx],self.W,self.n_ner)\n",
    "                                                      \n",
    "                              # F[\"A\"+str(self.n_ner+1)]                     \n",
    "                \n",
    "                cost = self._cost(F[\"A\"+str(self.n_ner+1)],Y_enc[:, idx],self.W)\n",
    "                mini_cost.append(cost) # this appends cost of mini-batch only\n",
    "\n",
    "                # compute gradient via backpropagation\n",
    "                grad= self._get_gradient(F= F, \n",
    "                                                  Y_enc=Y_enc[:, idx],\n",
    "                                                  W=self.W)\n",
    "                \n",
    "                # momentum calculations\n",
    "                for i in range(self.n_ner):\n",
    "                 #delta_W1, delta_W2 = self.eta * grad1, self.eta * grad2\n",
    "                 #self.W1 -= (delta_W1 + (self.alpha * delta_W1_prev))\n",
    "                 #self.W2 -= (delta_W2 + (self.alpha * delta_W2_prev))\n",
    "                 #delta_W1_prev, delta_W2_prev = delta_W1, delta_W2\n",
    "                 vars()[\"delta_W\"+str(i + 1)] = self.eta * grad[\"grad\"+str(i + 1)]\n",
    "                 self.W[\"W\"+str(i + 1)] -=(vars()[\"delta_W\"+str(i + 1)]+ (self.alpha * vars()[\"delta_W\"+str(i + 1)+\"_prev\"]))\n",
    "                 vars()[\"delta_W\"+str(i + 1)+\"_prev\"]=vars()[\"delta_W\"+str(i + 1)]   \n",
    "            self.cost_.append(mini_cost)\n",
    "            self.score_.append(accuracy_score(y_data,self.predict(X_data)))\n",
    "            \n",
    "        return self"
   ]
  },
  {
   "cell_type": "code",
   "execution_count": 1602,
   "metadata": {
    "scrolled": false
   },
   "outputs": [
    {
     "name": "stdout",
     "output_type": "stream",
     "text": [
      "Accuracy: 0.6106130772825764\n",
      "Wall time: 7.35 s\n"
     ]
    }
   ],
   "source": [
    "%%time\n",
    "params = dict(n_hidden=100, \n",
    "              C=.0001, # tradeoff L2 regularizer\n",
    "              epochs=10, # iterations\n",
    "              eta=0.001,  # learning rate\n",
    "              random_state=1,\n",
    "              phi='sig',n_ner=4,cf='ce')\n",
    "nn_mini = TLPMiniBatch(**params,\n",
    "                          alpha=0.01,# momentum calculation\n",
    "                          decrease_const=0.001, # decreasing eta\n",
    "                          minibatches=50, # minibatch size\n",
    "                          shuffle=True)\n",
    "\n",
    "    \n",
    "nn_mini.fit(x_train_ar, y_target_ar, print_progress=50)\n",
    "yhat = nn_mini.predict(x_train_ar)\n",
    "print('Accuracy:',accuracy_score(y_target_ar,yhat))"
   ]
  },
  {
   "cell_type": "code",
   "execution_count": 1215,
   "metadata": {},
   "outputs": [],
   "source": [
    "# lets load up the handwritten digit dataset\n",
    "from sklearn.datasets import load_digits\n",
    "from sklearn.metrics import accuracy_score\n",
    "from sklearn.preprocessing import StandardScaler\n",
    "import numpy as np\n",
    "\n",
    "ds = load_digits()\n",
    "X = ds.data/16.0-0.5\n",
    "y = ds.target\n",
    "X_train, X_test, y_train, y_test = train_test_split(X,y,test_size = 0.2)"
   ]
  },
  {
   "cell_type": "code",
   "execution_count": 1312,
   "metadata": {},
   "outputs": [
    {
     "name": "stderr",
     "output_type": "stream",
     "text": [
      "Epoch: 100/100"
     ]
    },
    {
     "name": "stdout",
     "output_type": "stream",
     "text": [
      "Accuracy: 1.0\n",
      "Wall time: 2.79 s\n"
     ]
    }
   ],
   "source": [
    "%%time\n",
    "params = dict(n_hidden=50, \n",
    "              C=.0001, # tradeoff L2 regularizer\n",
    "              epochs=100, # iterations\n",
    "              eta=0.001,  # learning rate\n",
    "              random_state=1,\n",
    "              phi='relu',n_ner=3,cf='ce')\n",
    "nn_mini = TLPMiniBatch(**params,\n",
    "                          alpha=0.001,# momentum calculation\n",
    "                          decrease_const=0.0001, # decreasing eta\n",
    "                          minibatches=50, # minibatch size\n",
    "                          shuffle=True)\n",
    "\n",
    "\n",
    "    \n",
    "nn_mini.fit(X_train, y_train, print_progress=50)\n",
    "yhat = nn_mini.predict(X_train)\n",
    "print('Accuracy:',accuracy_score(y_train,yhat))"
   ]
  },
  {
   "cell_type": "code",
   "execution_count": 1603,
   "metadata": {},
   "outputs": [],
   "source": [
    "from sklearn.preprocessing import StandardScaler\n",
    "from sklearn.datasets import load_iris\n",
    "import numpy as np\n",
    "import plotly\n",
    "\n",
    "ds = load_iris()\n",
    "X = ds.data\n",
    "y = ds.target\n",
    "x_train_ar = StandardScaler().fit(X).transform(X)\n",
    "X_train1, X_test1, y_train1, y_test1 = train_test_split(X,y,test_size = 0.2)"
   ]
  },
  {
   "cell_type": "code",
   "execution_count": 1605,
   "metadata": {},
   "outputs": [
    {
     "name": "stderr",
     "output_type": "stream",
     "text": [
      "Epoch: 100/100"
     ]
    },
    {
     "name": "stdout",
     "output_type": "stream",
     "text": [
      "Accuracy: 0.8916666666666667\n",
      "Wall time: 2.51 s\n"
     ]
    }
   ],
   "source": [
    "%%time\n",
    "params = dict(n_hidden=50, \n",
    "              C=.0001, # tradeoff L2 regularizer\n",
    "              epochs=100, # iterations\n",
    "              eta=0.001,  # learning rate\n",
    "              random_state=1,\n",
    "              phi='sig',n_ner=3,cf='ce')\n",
    "params31 = dict(n_hidden=50, \n",
    "              C=.0001, # tradeoff L2 regularizer\n",
    "              epochs=100, # iterations\n",
    "              eta=0.001,  # learning rate\n",
    "              random_state=1,\n",
    "              phi='sig',n_ner=3,cf='quad')\n",
    "\n",
    "\n",
    "nn_mini = TLPMiniBatch(**params,\n",
    "                          alpha=0.001,# momentum calculation\n",
    "                          decrease_const=0.0001, # decreasing eta\n",
    "                          minibatches=50, # minibatch size\n",
    "                          shuffle=True)\n",
    "\n",
    "nn_mini31 = TLPMiniBatch(**params31,\n",
    "                          alpha=0.001,# momentum calculation\n",
    "                          decrease_const=1e-5, # decreasing eta\n",
    "                          minibatches=50, # minibatch size\n",
    "                          shuffle=True)\n",
    "                          \n",
    "\n",
    "\n",
    "    \n",
    "nn_mini31.fit(X_train1, y_train1, print_progress=50)\n",
    "yhat = nn_mini31.predict(X_train1)\n",
    "print('Accuracy:',accuracy_score(y_train1,yhat))"
   ]
  },
  {
   "cell_type": "code",
   "execution_count": 1606,
   "metadata": {},
   "outputs": [],
   "source": [
    "from sklearn.metrics import accuracy_score\n",
    "import matplotlib.pyplot as plt\n",
    "%matplotlib inline\n",
    "\n",
    "plt.style.use('ggplot')\n",
    "\n",
    "def print_result(nn,X_train,y_train,X_test,y_test,title=\"\",color=\"red\"):\n",
    "    \n",
    "    print(\"=================\")\n",
    "    print(title,\":\")\n",
    "    yhat = nn.predict(X_train)\n",
    "    print('Resubstitution acc:',accuracy_score(y_train,yhat))\n",
    "    \n",
    "    yhat = nn.predict(X_test)\n",
    "    print('Validation acc:',accuracy_score(y_test,yhat))\n",
    "    \n",
    "    if hasattr(nn,'val_score_'):\n",
    "        plt.plot(range(len(nn.val_score_)), nn.val_score_, color=color,label=title)\n",
    "        plt.ylabel('Validation Accuracy')\n",
    "    else:\n",
    "        plt.plot(range(len(nn.score_)), nn.score_, color=color,label=title)\n",
    "        plt.ylabel('Resub Accuracy')\n",
    "        \n",
    "    plt.xlabel('Epochs')\n",
    "    plt.tight_layout()\n",
    "    plt.legend(loc='best')\n",
    "    plt.grid(True)"
   ]
  },
  {
   "cell_type": "code",
   "execution_count": 1607,
   "metadata": {},
   "outputs": [],
   "source": [
    "paramslin = dict(n_hidden=50, \n",
    "              C=.0001, # tradeoff L2 regularizer\n",
    "              epochs=100, # iterations\n",
    "              eta=0.001,  # learning rate\n",
    "              random_state=1,\n",
    "              phi='sig',n_ner=3,cf='ce')\n",
    "paramslin31 = dict(n_hidden=50, \n",
    "              C=.0001, # tradeoff L2 regularizer\n",
    "              epochs=100, # iterations\n",
    "              eta=0.001,  # learning rate\n",
    "              random_state=1,\n",
    "              phi='lin',n_ner=3,cf='ce')\n",
    "nn_minilin = TLPMiniBatch(**paramslin,\n",
    "                          alpha=0.001,# momentum calculation\n",
    "                          decrease_const=0.0001, # decreasing eta\n",
    "                          minibatches=50, # minibatch size\n",
    "                          shuffle=True)\n",
    "\n",
    "nn_minilin31 = TLPMiniBatch(**paramslin31,\n",
    "                          alpha=0.001,# momentum calculation\n",
    "                          decrease_const=1e-5, # decreasing eta\n",
    "                          minibatches=50, # minibatch size\n",
    "                          shuffle=True)"
   ]
  },
  {
   "cell_type": "code",
   "execution_count": 1608,
   "metadata": {},
   "outputs": [
    {
     "name": "stderr",
     "output_type": "stream",
     "text": [
      "Epoch: 100/100"
     ]
    },
    {
     "name": "stdout",
     "output_type": "stream",
     "text": [
      "Wall time: 2.79 s\n"
     ]
    },
    {
     "name": "stderr",
     "output_type": "stream",
     "text": [
      "Epoch: 100/100"
     ]
    },
    {
     "name": "stdout",
     "output_type": "stream",
     "text": [
      "Wall time: 2.88 s\n"
     ]
    },
    {
     "data": {
      "text/plain": [
       "<__main__.TLPMiniBatch at 0x19b8f3c3b70>"
      ]
     },
     "execution_count": 1608,
     "metadata": {},
     "output_type": "execute_result"
    }
   ],
   "source": [
    "%time nn_mini.fit(X_train1, y_train1, print_progress=10)\n",
    "%time nn_mini31.fit(X_train1, y_train1, print_progress=10)"
   ]
  },
  {
   "cell_type": "code",
   "execution_count": 1609,
   "metadata": {
    "scrolled": true
   },
   "outputs": [
    {
     "data": {
      "text/plain": [
       "{'self': <__main__.TLPMiniBatch at 0x19b8f3c3b70>,\n",
       " 'i': 2,\n",
       " 'W1_num_elems': 250,\n",
       " 'W1': array([[ 4.06038141e-01,  5.02855421e-01,  1.94578218e-01,\n",
       "         -1.84326301e-01,  9.90335421e-01],\n",
       "        [ 7.49861674e-01, -2.87398397e-01, -7.79031259e-03,\n",
       "          3.79334066e-01,  9.57812920e-01],\n",
       "        [ 6.86858799e-01, -5.83467863e-01,  1.72640203e-01,\n",
       "         -2.71197950e-01,  6.07581646e-01],\n",
       "        [-9.85621197e-01, -2.87229892e-01,  1.93775516e-01,\n",
       "         -5.78078347e-01, -2.94786605e-01],\n",
       "        [-5.77675905e-01, -6.82476947e-01,  2.95974453e-01,\n",
       "         -2.87529358e-01,  3.46725608e-01],\n",
       "        [-2.55892257e-01, -9.53087724e-01, -2.45276023e-01,\n",
       "         -1.11779778e-01, -7.89172672e-01],\n",
       "        [ 8.40083095e-02, -4.35960484e-01, -4.23999535e-01,\n",
       "         -7.76522761e-01, -1.26602360e-01],\n",
       "        [ 8.99843705e-01,  8.36680143e-01,  8.71444123e-01,\n",
       "          9.99702355e-01,  9.17984122e-01],\n",
       "        [ 6.04117779e-01, -8.58766370e-01,  1.27582208e-01,\n",
       "          7.11953589e-01,  8.91825072e-01],\n",
       "        [-5.39535966e-01, -2.53773452e-01,  4.35297151e-01,\n",
       "         -8.74927303e-01, -8.90735519e-01],\n",
       "        [ 4.98048627e-01, -6.03586955e-01,  9.71320338e-01,\n",
       "         -9.89555573e-01,  7.69920567e-02],\n",
       "        [-5.69455001e-01,  3.97808696e-01,  3.50151831e-01,\n",
       "         -9.90171588e-01,  5.85370976e-01],\n",
       "        [-6.81865689e-01,  8.84991446e-01,  5.56936000e-01,\n",
       "         -8.34839075e-01, -6.76872263e-01],\n",
       "        [-2.45961386e-01,  3.18071785e-01,  1.40146448e-01,\n",
       "          2.33960436e-02,  3.09838653e-01],\n",
       "        [ 5.45059774e-01,  3.50919167e-01,  9.84251426e-01,\n",
       "         -5.56699706e-01, -9.89615860e-01],\n",
       "        [ 9.10694893e-02, -6.49092061e-01,  7.40174142e-01,\n",
       "          7.52770183e-01, -3.98692273e-01],\n",
       "        [ 2.73364499e-01, -5.34714443e-01,  5.56072413e-01,\n",
       "          9.54603282e-01,  2.82905121e-01],\n",
       "        [-4.77600253e-02, -8.57845354e-01,  2.30470593e-01,\n",
       "         -1.75179102e-01,  8.08898818e-01],\n",
       "        [-6.44129962e-01, -5.37045446e-01,  3.39677973e-01,\n",
       "          8.81217773e-01,  6.27078737e-01],\n",
       "        [ 1.39883528e-01,  4.11348168e-01, -9.65229011e-01,\n",
       "          4.22878204e-02, -8.86019773e-01],\n",
       "        [ 3.55782581e-01, -1.67177998e-02,  2.85434924e-01,\n",
       "         -4.09706143e-02, -4.12098688e-01],\n",
       "        [ 7.17135721e-02,  5.92630708e-01,  1.11705526e-01,\n",
       "         -7.79722987e-01,  1.60701677e-02],\n",
       "        [-6.64829666e-01,  3.30279919e-01, -4.39918834e-02,\n",
       "          1.48487662e-01,  6.03552825e-01],\n",
       "        [ 6.91613228e-01, -5.45979431e-01,  3.21366449e-01,\n",
       "         -5.61084842e-01, -4.03474933e-01],\n",
       "        [-5.82681566e-01, -2.32381755e-01,  3.03290966e-01,\n",
       "         -7.87705927e-01,  4.52784448e-01],\n",
       "        [ 7.84201387e-01, -6.38605997e-01, -7.92269771e-01,\n",
       "         -1.05814613e-01, -4.54391765e-01],\n",
       "        [-2.51106143e-01, -4.71833410e-01, -5.50386091e-01,\n",
       "         -5.94407851e-01, -1.01252721e-01],\n",
       "        [ 5.59301076e-01,  6.00432957e-01, -2.63162659e-01,\n",
       "         -8.65406935e-01, -5.17703632e-01],\n",
       "        [-1.46069298e-01,  2.31309129e-01,  7.84259962e-01,\n",
       "         -1.15049292e-01, -6.61258444e-01],\n",
       "        [-3.69213292e-01,  8.13333530e-01, -4.89483748e-01,\n",
       "          5.59284561e-02,  2.08528711e-01],\n",
       "        [ 7.17780567e-02,  2.65233134e-01, -8.17297990e-01,\n",
       "         -4.14927383e-01,  8.02913976e-01],\n",
       "        [ 1.87485972e-01,  6.10435434e-01, -8.03788921e-01,\n",
       "          2.54441045e-01,  5.11679878e-02],\n",
       "        [ 9.28208101e-01,  2.77551534e-01,  8.08387208e-01,\n",
       "          5.05717524e-01,  6.62465131e-01],\n",
       "        [-3.59447245e-01,  6.10717486e-01, -1.32969234e-01,\n",
       "         -6.68563064e-01,  4.62157280e-01],\n",
       "        [-9.00481703e-01,  6.78972130e-01, -5.52827540e-01,\n",
       "          8.10603006e-01,  3.20116098e-01],\n",
       "        [-3.50862792e-01,  5.90474930e-01,  3.78454297e-01,\n",
       "          1.82798128e-01,  4.29023095e-01],\n",
       "        [ 6.48949839e-01,  8.64755108e-01, -5.05301859e-01,\n",
       "         -5.29246483e-01, -1.54512355e-01],\n",
       "        [-1.59908593e-01,  4.65089970e-01,  4.67992202e-01,\n",
       "          3.49758411e-01,  2.11360039e-02],\n",
       "        [ 5.93597221e-01, -4.61063602e-01, -1.49445430e-01,\n",
       "         -2.57570462e-01,  1.29616937e-01],\n",
       "        [ 5.60432567e-01, -3.86908072e-01,  4.02784154e-01,\n",
       "         -5.27326003e-02,  1.34802637e-01],\n",
       "        [-3.42369990e-02, -4.25730752e-02,  8.23943017e-01,\n",
       "         -1.12827263e-01,  9.16544852e-01],\n",
       "        [ 6.74750505e-01,  7.14726655e-01,  3.81372643e-01,\n",
       "         -9.22531813e-01,  6.06445550e-01],\n",
       "        [ 7.20665116e-01, -6.23198564e-01, -8.28203600e-01,\n",
       "         -5.86496326e-01, -1.07029032e-01],\n",
       "        [ 8.88809606e-01, -9.52274873e-01, -3.79027365e-01,\n",
       "          5.99206480e-01,  1.70965753e-01],\n",
       "        [-5.39338533e-01,  5.89320670e-01,  1.44430768e-01,\n",
       "         -8.44644953e-05,  7.59121726e-01],\n",
       "        [ 4.76867696e-01, -2.57325699e-01, -3.18973052e-01,\n",
       "          2.06698700e-01, -7.64390100e-01],\n",
       "        [-4.02203238e-01, -5.64494588e-01, -2.34967864e-01,\n",
       "          8.12281950e-01,  8.97177950e-01],\n",
       "        [-5.85596258e-01, -4.14850327e-01,  9.58146394e-01,\n",
       "          1.79176863e-01, -8.48647284e-01],\n",
       "        [ 6.71975004e-01,  2.33303817e-01, -2.21675760e-01,\n",
       "          5.23022715e-01, -1.72989056e-01],\n",
       "        [-2.67632068e-01,  2.09586606e-01,  5.36711881e-01,\n",
       "         -8.41316952e-01,  8.33592797e-01]]),\n",
       " 'W2_num_elems': 2550,\n",
       " 'W2': array([[-0.32215031,  0.21786864,  0.4608646 , ...,  0.91847028,\n",
       "          0.00788316,  0.17840495],\n",
       "        [-0.4337192 , -0.04238881, -0.35901154, ...,  0.5384904 ,\n",
       "         -0.33142734, -0.22629177],\n",
       "        [ 0.00132632,  0.73220048,  0.85079514, ...,  0.4251261 ,\n",
       "          0.1973099 ,  0.40022509],\n",
       "        ...,\n",
       "        [-0.65427148,  0.08510471, -0.7405318 , ..., -0.50674023,\n",
       "         -0.93483027, -0.20441733],\n",
       "        [ 0.92896136,  0.96498827,  0.39800049, ...,  0.84962683,\n",
       "          0.8039223 ,  0.18726017],\n",
       "        [-0.56757693, -0.0327726 ,  0.39651953, ...,  0.07005405,\n",
       "          0.35479051, -0.30226478]]),\n",
       " 'W3_num_elems': 153,\n",
       " 'W3': array([[-0.97810766, -0.06369609, -0.01587469,  0.63930536,  0.98221203,\n",
       "         -0.56219015,  0.61006623,  0.65855746, -0.13705442, -0.82097919,\n",
       "         -0.14568714, -0.81352857, -0.08804049, -0.41328297, -0.8846073 ,\n",
       "          0.35396672,  0.21828248,  0.11039382,  0.61730835,  0.5137997 ,\n",
       "         -0.80367307,  0.93879295, -0.72966998, -0.5647998 , -0.9987756 ,\n",
       "         -0.76655582,  0.65872288, -0.74435862, -0.17048704,  0.41894556,\n",
       "         -0.15343563, -0.13600478, -0.98432461, -0.19962248, -0.10596952,\n",
       "          0.39256483, -0.06911549, -0.57264884, -0.6261129 , -0.69892661,\n",
       "         -0.39342853, -0.20377633,  0.89948242, -0.38333147,  0.26885504,\n",
       "         -0.77540341, -0.86253253, -0.26703349, -0.14059457,  0.45633518,\n",
       "          0.6445509 ],\n",
       "        [-0.56306609,  0.36773776, -0.34877659, -0.40156508, -0.80796056,\n",
       "          0.0561727 , -0.59413733, -0.23332063, -0.77289137, -0.12496537,\n",
       "          0.77909182,  0.67392905,  0.65218681,  0.32217845, -0.64868999,\n",
       "          0.62834714,  0.7806033 ,  0.83816938, -0.9652199 ,  0.47808986,\n",
       "         -0.10723385,  0.35555792, -0.76103349,  0.46821451,  0.98746635,\n",
       "         -0.51406629,  0.15491823,  0.86904186, -0.72363011,  0.72372663,\n",
       "         -0.82065753,  0.91998006,  0.86617469, -0.90453053,  0.10412437,\n",
       "          0.98197799,  0.34224732,  0.54326979, -0.25752537,  0.70425682,\n",
       "         -0.5897252 , -0.296409  ,  0.95579267,  0.38574801,  0.69085583,\n",
       "         -0.50902189, -0.17559561, -0.41907098,  0.58233647,  0.03255421,\n",
       "          0.44160966],\n",
       "        [-0.52130399, -0.73213147,  0.81419388, -0.63099103, -0.70597449,\n",
       "          0.26549818,  0.45140137,  0.75530973, -0.09373039,  0.40117717,\n",
       "          0.90456776,  0.56279853,  0.41693768, -0.49552897, -0.77855882,\n",
       "          0.56167871,  0.62243907, -0.84587465,  0.26027675, -0.74997449,\n",
       "         -0.68213305,  0.56959534,  0.94679401,  0.86605658,  0.4724312 ,\n",
       "          0.95624647, -0.50778913, -0.5610193 ,  0.82448558,  0.09897234,\n",
       "         -0.68690128, -0.58205328, -0.26523159, -0.01776606, -0.170861  ,\n",
       "         -0.66214769,  0.69109855,  0.77712686, -0.85116301, -0.22112508,\n",
       "         -0.40445017, -0.7210556 , -0.70389675,  0.60561384, -0.52735982,\n",
       "          0.0764125 ,  0.24768004,  0.50255216, -0.96852437,  0.14563601,\n",
       "          0.83074992]])}"
      ]
     },
     "execution_count": 1609,
     "metadata": {},
     "output_type": "execute_result"
    }
   ],
   "source": [
    "nn_mini31._initialize_weights()"
   ]
  },
  {
   "cell_type": "code",
   "execution_count": 1610,
   "metadata": {
    "scrolled": false
   },
   "outputs": [
    {
     "name": "stdout",
     "output_type": "stream",
     "text": [
      "=================\n",
      "Cross Entropy Loss :\n",
      "Resubstitution acc: 0.975\n",
      "Validation acc: 0.9333333333333333\n",
      "=================\n",
      "Quadratic Loss :\n",
      "Resubstitution acc: 0.7333333333333333\n",
      "Validation acc: 0.6333333333333333\n"
     ]
    },
    {
     "data": {
      "image/png": "[encoded data removed]",
      "text/plain": [
       "<Figure size 432x288 with 1 Axes>"
      ]
     },
     "metadata": {},
     "output_type": "display_data"
    }
   ],
   "source": [
    "print_result(nn_mini,X_train1,y_train1,X_test1,y_test1,title=\"Cross Entropy Loss\",color=\"red\")\n",
    "print_result(nn_mini31,X_train1,y_train1,X_test1,y_test1,title=\"Quadratic Loss\",color=\"blue\")\n",
    "plt.show()"
   ]
  },
  {
   "cell_type": "code",
   "execution_count": 1611,
   "metadata": {},
   "outputs": [
    {
     "name": "stderr",
     "output_type": "stream",
     "text": [
      "Epoch: 100/100"
     ]
    },
    {
     "name": "stdout",
     "output_type": "stream",
     "text": [
      "Wall time: 3.13 s\n"
     ]
    },
    {
     "name": "stderr",
     "output_type": "stream",
     "text": [
      "Epoch: 100/100"
     ]
    },
    {
     "name": "stdout",
     "output_type": "stream",
     "text": [
      "Wall time: 2.82 s\n"
     ]
    },
    {
     "data": {
      "text/plain": [
       "<__main__.TLPMiniBatch at 0x19b851f7208>"
      ]
     },
     "execution_count": 1611,
     "metadata": {},
     "output_type": "execute_result"
    }
   ],
   "source": [
    "%time nn_minilin.fit(X_train1, y_train1, print_progress=10)\n",
    "%time nn_minilin31.fit(X_train1, y_train1, print_progress=10)"
   ]
  },
  {
   "cell_type": "code",
   "execution_count": 1612,
   "metadata": {
    "scrolled": true
   },
   "outputs": [
    {
     "data": {
      "text/plain": [
       "{'self': <__main__.TLPMiniBatch at 0x19b851f7208>,\n",
       " 'i': 2,\n",
       " 'W1_num_elems': 250,\n",
       " 'W1': array([[-0.52528198,  0.57667387,  0.09405514,  0.70057833, -0.13232704],\n",
       "        [ 0.53845402,  0.39095168, -0.69920273, -0.09322054,  0.65603701],\n",
       "        [-0.22447883, -0.98738412,  0.95367611, -0.6498271 ,  0.54359975],\n",
       "        [ 0.41455258, -0.64441745,  0.34050542, -0.01384445,  0.77395835],\n",
       "        [ 0.834486  , -0.96598624, -0.56031621, -0.0494715 , -0.76876515],\n",
       "        [-0.37018428,  0.22826745,  0.38050756, -0.61033626,  0.82751287],\n",
       "        [-0.92611985, -0.85438555, -0.79676144, -0.74451989,  0.02193732],\n",
       "        [-0.84857446,  0.84216627,  0.38539388,  0.09549927, -0.82626641],\n",
       "        [ 0.76317239,  0.45937518, -0.5965044 ,  0.65115764, -0.7463649 ],\n",
       "        [ 0.32545609, -0.76518558, -0.33451345, -0.11839881,  0.88892346],\n",
       "        [-0.74702219, -0.36490354, -0.45099775, -0.09425382,  0.80348947],\n",
       "        [-0.14720755, -0.49635716, -0.15928352, -0.66971856, -0.2844554 ],\n",
       "        [ 0.92175549,  0.50824677,  0.28446994, -0.71379951,  0.540336  ],\n",
       "        [-0.37338635, -0.77634812, -0.79383855, -0.49471458,  0.13350245],\n",
       "        [ 0.57217304,  0.24130644,  0.70480448,  0.47442435, -0.59488082],\n",
       "        [ 0.99619211,  0.73183458,  0.70015796,  0.18717943,  0.79653293],\n",
       "        [ 0.65511687, -0.02084007,  0.51945426,  0.83199268,  0.16628764],\n",
       "        [ 0.34393586, -0.72678113,  0.01875368, -0.53214057, -0.72171296],\n",
       "        [-0.48586709, -0.53599461, -0.7959661 , -0.32939259,  0.89674004],\n",
       "        [ 0.26890117,  0.28170897,  0.56988818,  0.42972087,  0.65450386],\n",
       "        [-0.48624321, -0.33991835, -0.47006732,  0.54511626, -0.92857439],\n",
       "        [ 0.02713189, -0.68595475,  0.12779344, -0.59173642, -0.95960986],\n",
       "        [ 0.13625844, -0.30830295,  0.82922332, -0.4436737 ,  0.88057151],\n",
       "        [ 0.41799508,  0.87919824,  0.71349591, -0.09533008, -0.97081367],\n",
       "        [ 0.13237864, -0.3316006 ,  0.41423657,  0.87727546, -0.93553955],\n",
       "        [-0.75666108,  0.22442725,  0.85378216,  0.15210285,  0.57596666],\n",
       "        [ 0.67028558, -0.15243878, -0.86034931, -0.12195179,  0.0267689 ],\n",
       "        [ 0.58771714,  0.71469559, -0.37129335,  0.14206857,  0.79018404],\n",
       "        [ 0.16987849,  0.19348956,  0.12499265,  0.24804428,  0.07137639],\n",
       "        [-0.00340804, -0.03015264,  0.20879885,  0.5305105 , -0.46195198],\n",
       "        [-0.09522029,  0.71125117,  0.46104982,  0.40727075,  0.56078914],\n",
       "        [-0.46697171, -0.53962364, -0.28191975,  0.15715966,  0.03592387],\n",
       "        [-0.82038277, -0.33012928, -0.72770097,  0.3769628 , -0.81663698],\n",
       "        [-0.35589296, -0.18402228, -0.49289368, -0.91965849,  0.24730252],\n",
       "        [-0.36782038, -0.77100957,  0.66986457, -0.27671044,  0.88721959],\n",
       "        [ 0.36660218, -0.2638083 , -0.58588391, -0.40442515,  0.05064584],\n",
       "        [-0.09356496,  0.03300711, -0.62612935, -0.51352391, -0.6258739 ],\n",
       "        [ 0.00771889,  0.70351774,  0.27108075, -0.47171358,  0.55051951],\n",
       "        [-0.48358703, -0.79856774,  0.57025947, -0.19716013, -0.61779712],\n",
       "        [ 0.3611988 ,  0.27106511,  0.50520537,  0.5852013 ,  0.33833951],\n",
       "        [-0.09499439, -0.70123693, -0.18886751, -0.83661251,  0.15475076],\n",
       "        [-0.35040019,  0.24660582,  0.59762046, -0.94028435,  0.69363255],\n",
       "        [-0.97607147,  0.33400269, -0.64123224,  0.86236366,  0.34473745],\n",
       "        [ 0.1553229 , -0.62656422,  0.9430691 , -0.98172621, -0.45959643],\n",
       "        [-0.80050298, -0.20699063, -0.95289315,  0.0194986 , -0.88216462],\n",
       "        [ 0.07712131,  0.50042251, -0.66419447, -0.13868506,  0.23765206],\n",
       "        [ 0.13669883, -0.43030658, -0.60239975,  0.8670393 , -0.62879985],\n",
       "        [-0.10055491,  0.94063927, -0.95071189, -0.97622474, -0.4785377 ],\n",
       "        [ 0.6606605 , -0.24451061, -0.65092711, -0.08280222, -0.43106957],\n",
       "        [-0.33099089, -0.39112862,  0.3041215 , -0.34833432, -0.24231305]]),\n",
       " 'W2_num_elems': 2550,\n",
       " 'W2': array([[ 0.10935083, -0.32454965, -0.87231875, ...,  0.94824083,\n",
       "          0.15396961, -0.98389274],\n",
       "        [-0.80498949,  0.34759256, -0.45055278, ...,  0.53928278,\n",
       "          0.99371752, -0.72747033],\n",
       "        [-0.88174307, -0.17095283, -0.9504718 , ...,  0.87948771,\n",
       "          0.27589113,  0.92959067],\n",
       "        ...,\n",
       "        [-0.28986056, -0.39629543, -0.22887058, ...,  0.13148142,\n",
       "         -0.6287284 ,  0.18125081],\n",
       "        [ 0.20951222, -0.81356102,  0.08235936, ..., -0.93209875,\n",
       "         -0.58597062, -0.56764273],\n",
       "        [ 0.86878465, -0.4731401 , -0.6943475 , ...,  0.02254406,\n",
       "         -0.9446136 , -0.85225885]]),\n",
       " 'W3_num_elems': 153,\n",
       " 'W3': array([[-0.28402754, -0.35712889, -0.32860247,  0.1052788 ,  0.67795783,\n",
       "          0.13051732,  0.96831921, -0.29592944, -0.70512876,  0.39671823,\n",
       "          0.89943296, -0.27279381, -0.11017696, -0.07651599, -0.73738901,\n",
       "         -0.11584778, -0.08743662, -0.45979849, -0.31921922, -0.34776948,\n",
       "          0.56767786, -0.42380489, -0.6280735 , -0.10993561,  0.12078994,\n",
       "          0.61589276, -0.74074652,  0.06922097, -0.09349067,  0.1091554 ,\n",
       "         -0.03486015, -0.98209002,  0.39513501,  0.36042647, -0.13459769,\n",
       "         -0.17997789, -0.00721624,  0.12078831, -0.59450141, -0.57844156,\n",
       "         -0.49757967,  0.27225154, -0.84218185, -0.97672783, -0.99507173,\n",
       "          0.99905293, -0.36005375, -0.29326448,  0.75669658, -0.17237826,\n",
       "          0.87194019],\n",
       "        [ 0.479367  ,  0.15880107,  0.13738831,  0.4396339 , -0.17954168,\n",
       "         -0.44760512,  0.58317064, -0.19157632, -0.36408547,  0.41003603,\n",
       "         -0.17909593,  0.98397236, -0.10160351, -0.74980696, -0.74035516,\n",
       "          0.40903421,  0.6592327 ,  0.38579099, -0.98195591,  0.38912895,\n",
       "         -0.16480671,  0.73323882,  0.01706815,  0.15939711, -0.0751576 ,\n",
       "         -0.90084557, -0.05138738,  0.14504103, -0.55014715, -0.70075645,\n",
       "         -0.92522507, -0.99229029, -0.60959378, -0.85823482,  0.77401911,\n",
       "         -0.5606143 ,  0.95130717,  0.3590192 ,  0.52851648,  0.40547316,\n",
       "          0.28642487, -0.63375932,  0.07525593, -0.52687079,  0.12918986,\n",
       "         -0.68533734, -0.34550526,  0.17890697, -0.59149247,  0.80391521,\n",
       "          0.55586775],\n",
       "        [-0.46622708, -0.00442563,  0.67819259,  0.31350292, -0.19146467,\n",
       "          0.5276839 ,  0.70585966,  0.61357156,  0.26287747, -0.36204899,\n",
       "          0.01196824, -0.83042681,  0.37590657, -0.22894282,  0.5949875 ,\n",
       "          0.94293276, -0.7234995 , -0.22717006, -0.45881249,  0.94011487,\n",
       "          0.78668806, -0.32432818,  0.47306391, -0.06223272,  0.40732534,\n",
       "         -0.75361745, -0.44983313, -0.17556667,  0.2867024 , -0.58704298,\n",
       "         -0.18499406,  0.70344229,  0.32105281,  0.48281442,  0.73408922,\n",
       "         -0.32517242, -0.28678101, -0.21317197,  0.79468284,  0.02938155,\n",
       "         -0.58169739, -0.38669122, -0.10222137,  0.03675377,  0.56765214,\n",
       "          0.65828059,  0.72774087, -0.70479759, -0.31636634, -0.03857067,\n",
       "         -0.02228858]])}"
      ]
     },
     "execution_count": 1612,
     "metadata": {},
     "output_type": "execute_result"
    }
   ],
   "source": [
    "nn_minilin31._initialize_weights()"
   ]
  },
  {
   "cell_type": "code",
   "execution_count": 1613,
   "metadata": {},
   "outputs": [
    {
     "name": "stdout",
     "output_type": "stream",
     "text": [
      "=================\n",
      "Cross Entropy Loss sig :\n",
      "Resubstitution acc: 0.975\n",
      "Validation acc: 0.9666666666666667\n",
      "=================\n",
      "Cross Entropy Loss lin :\n",
      "Resubstitution acc: 0.9833333333333333\n",
      "Validation acc: 0.9333333333333333\n"
     ]
    },
    {
     "data": {
      "image/png": "[encoded data removed]",
      "text/plain": [
       "<Figure size 432x288 with 1 Axes>"
      ]
     },
     "metadata": {},
     "output_type": "display_data"
    }
   ],
   "source": [
    "print_result(nn_minilin,X_train1,y_train1,X_test1,y_test1,title=\"Cross Entropy Loss sig\",color=\"red\")\n",
    "print_result(nn_minilin31,X_train1,y_train1,X_test1,y_test1,title=\"Cross Entropy Loss lin\",color=\"blue\")\n",
    "plt.show()"
   ]
  },
  {
   "cell_type": "code",
   "execution_count": 1614,
   "metadata": {},
   "outputs": [],
   "source": [
    "params2 = dict(n_hidden=50, \n",
    "              C=.0001, # tradeoff L2 regularizer\n",
    "              epochs=50, # iterations\n",
    "              eta=0.001,  # learning rate\n",
    "              random_state=1,\n",
    "              phi='relu',n_ner=2,cf='ce')\n",
    "params3 = dict(n_hidden=50, \n",
    "              C=.0001, # tradeoff L2 regularizer\n",
    "              epochs=50, # iterations\n",
    "              eta=0.001,  # learning rate\n",
    "              random_state=1,\n",
    "              phi='relu',n_ner=3,cf='ce')\n",
    "nn_mini2 = TLPMiniBatch(**params2,\n",
    "                          alpha=0.001,# momentum calculation\n",
    "                          decrease_const=0.0001, # decreasing eta\n",
    "                          minibatches=50, # minibatch size\n",
    "                          shuffle=True)\n",
    "\n",
    "nn_mini3 = TLPMiniBatch(**params3,\n",
    "                          alpha=0.001,# momentum calculation\n",
    "                          decrease_const=1e-5, # decreasing eta\n",
    "                          minibatches=50, # minibatch size\n",
    "                          shuffle=True)"
   ]
  },
  {
   "cell_type": "code",
   "execution_count": 1615,
   "metadata": {
    "scrolled": true
   },
   "outputs": [
    {
     "name": "stderr",
     "output_type": "stream",
     "text": [
      "Epoch: 50/50"
     ]
    },
    {
     "name": "stdout",
     "output_type": "stream",
     "text": [
      "Wall time: 674 ms\n"
     ]
    },
    {
     "name": "stderr",
     "output_type": "stream",
     "text": [
      "Epoch: 50/50"
     ]
    },
    {
     "name": "stdout",
     "output_type": "stream",
     "text": [
      "Wall time: 1.4 s\n"
     ]
    },
    {
     "data": {
      "text/plain": [
       "<__main__.TLPMiniBatch at 0x19b90b04cc0>"
      ]
     },
     "execution_count": 1615,
     "metadata": {},
     "output_type": "execute_result"
    }
   ],
   "source": [
    "%time nn_mini2.fit(X_train1, y_train1, print_progress=10)\n",
    "%time nn_mini3.fit(X_train1, y_train1, print_progress=10)"
   ]
  },
  {
   "cell_type": "code",
   "execution_count": 1616,
   "metadata": {
    "scrolled": true
   },
   "outputs": [
    {
     "data": {
      "text/plain": [
       "{'self': <__main__.TLPMiniBatch at 0x19b90b04cc0>,\n",
       " 'i': 2,\n",
       " 'W1_num_elems': 250,\n",
       " 'W1': array([[-0.59378624,  0.26427625,  0.58857752, -0.65617304, -0.76186009],\n",
       "        [ 0.01336741, -0.01350805, -0.05311614,  0.18014739, -0.91863128],\n",
       "        [-0.78432254, -0.06980679, -0.43640901,  0.49217968, -0.19244013],\n",
       "        [-0.43935974, -0.92850759, -0.13670186,  0.34591299,  0.94209158],\n",
       "        [-0.00197809,  0.18880135,  0.35357885,  0.90168607, -0.70171316],\n",
       "        [-0.66106979,  0.4926032 ,  0.99766479,  0.96630682,  0.26208747],\n",
       "        [ 0.50268681, -0.24179552, -0.2680775 ,  0.57768854,  0.46752702],\n",
       "        [-0.84318739, -0.37229091,  0.55333102, -0.25493263, -0.25290006],\n",
       "        [-0.28761829,  0.59346452,  0.11168498, -0.78773367, -0.9995301 ],\n",
       "        [-0.810147  , -0.90916243,  0.2649441 ,  0.49817284, -0.09996317],\n",
       "        [-0.68660148, -0.4567871 ,  0.81544601,  0.78561166,  0.48278321],\n",
       "        [-0.47800501, -0.43292838,  0.65849374,  0.69399648,  0.91025611],\n",
       "        [-0.93854251,  0.58942764, -0.63992057, -0.42210687, -0.34924672],\n",
       "        [ 0.17232241,  0.17063383,  0.16172243,  0.66082619, -0.98862368],\n",
       "        [ 0.9704709 , -0.17556003,  0.0918031 ,  0.34657271,  0.60658329],\n",
       "        [-0.03353241, -0.47866986,  0.16395334,  0.68745202, -0.43581117],\n",
       "        [-0.04253413, -0.46173639,  0.16916067, -0.373171  , -0.58578875],\n",
       "        [-0.19924074,  0.31164918, -0.46009003, -0.84800717, -0.52740834],\n",
       "        [ 0.84133407,  0.1264819 ,  0.77079685, -0.19133733,  0.01849552],\n",
       "        [-0.38036318, -0.90190751, -0.89252965, -0.31714273,  0.86803266],\n",
       "        [-0.34709541, -0.01199831,  0.61578659, -0.41679483,  0.93461682],\n",
       "        [ 0.8593195 , -0.89220481, -0.47457082, -0.70383793, -0.62218881],\n",
       "        [-0.0102047 , -0.98108182, -0.38400542,  0.86096393, -0.69278645],\n",
       "        [-0.46535417,  0.4288863 ,  0.5057931 ,  0.04083986, -0.85687533],\n",
       "        [-0.3420641 ,  0.76687844,  0.34273476,  0.71452053,  0.60671182],\n",
       "        [ 0.93623127,  0.95600268,  0.94696996, -0.27931919,  0.5443036 ],\n",
       "        [ 0.34423483, -0.20746899,  0.54975652,  0.25380354, -0.25717792],\n",
       "        [ 0.35821898,  0.02576791, -0.69274953,  0.0228062 , -0.48860237],\n",
       "        [-0.26523212,  0.32411674, -0.48278974, -0.9873408 , -0.8655875 ],\n",
       "        [ 0.58104067,  0.64530786, -0.18406042, -0.48966101,  0.73940229],\n",
       "        [-0.70216012,  0.56365942, -0.8667644 , -0.36938978, -0.31372256],\n",
       "        [ 0.21150128,  0.94834233,  0.16961046, -0.65284133,  0.02561769],\n",
       "        [ 0.45583267, -0.59196249,  0.28974896, -0.95532152,  0.0681219 ],\n",
       "        [ 0.86451778,  0.87204403,  0.52976283, -0.43805613,  0.54413216],\n",
       "        [ 0.39795787,  0.8900282 ,  0.61174757, -0.14100737,  0.26766053],\n",
       "        [ 0.7269418 ,  0.44664928,  0.8500516 , -0.06620026,  0.30693034],\n",
       "        [-0.63120736,  0.57796249,  0.46055282,  0.48889042, -0.44805701],\n",
       "        [-0.28989367,  0.23368347,  0.41055635, -0.20418359, -0.89524824],\n",
       "        [ 0.42755503, -0.72722681, -0.527353  ,  0.64823283, -0.88145597],\n",
       "        [-0.04345675, -0.76227466, -0.24668656,  0.34007455,  0.23026094],\n",
       "        [ 0.6822967 , -0.63762277,  0.48561111,  0.76609873,  0.2008916 ],\n",
       "        [ 0.4723445 ,  0.85695843, -0.38788037, -0.01320118,  0.45218114],\n",
       "        [-0.93070861, -0.04382469,  0.63183193, -0.34267403, -0.55089877],\n",
       "        [-0.23083354,  0.40790694,  0.63674204, -0.28526188,  0.50761219],\n",
       "        [ 0.85431613, -0.38738169, -0.44719315, -0.64903986,  0.08308452],\n",
       "        [ 0.55472402,  0.21653358, -0.05670389,  0.50678417, -0.1772195 ],\n",
       "        [ 0.14939012, -0.11277047, -0.38217283,  0.49380152, -0.66247876],\n",
       "        [ 0.50318436, -0.63985917, -0.69363644,  0.259913  ,  0.94697083],\n",
       "        [-0.1211501 , -0.22083246, -0.505459  ,  0.97414101, -0.06135696],\n",
       "        [ 0.88026202,  0.35831283, -0.47898799, -0.08087827, -0.93674104]]),\n",
       " 'W2_num_elems': 2550,\n",
       " 'W2': array([[-0.97727166, -0.73067486, -0.98621292, ..., -0.99562581,\n",
       "         -0.02705966, -0.99169504],\n",
       "        [-0.16450467,  0.8184719 , -0.71787909, ..., -0.35717221,\n",
       "         -0.47213407, -0.3106575 ],\n",
       "        [-0.87578265, -0.97464997, -0.95332541, ...,  0.12406695,\n",
       "         -0.3841855 , -0.96638955],\n",
       "        ...,\n",
       "        [ 0.89598567, -0.14634478, -0.71798207, ..., -0.23881218,\n",
       "          0.16703888, -0.94367838],\n",
       "        [ 0.30243386, -0.50177045,  0.12810171, ...,  0.82998365,\n",
       "         -0.2700524 , -0.4539056 ],\n",
       "        [-0.19027708,  0.00590111, -0.98505396, ..., -0.88266016,\n",
       "         -0.12600807,  0.85055314]]),\n",
       " 'W3_num_elems': 153,\n",
       " 'W3': array([[-0.57805056, -0.82166868, -0.5670487 ,  0.8601334 ,  0.68600981,\n",
       "          0.49888582,  0.70442145,  0.98905064,  0.37982241, -0.06418428,\n",
       "          0.09000632, -0.2549496 , -0.43186215,  0.38789509,  0.33666927,\n",
       "         -0.83032532,  0.63908349,  0.18068223, -0.24129145,  0.68968237,\n",
       "          0.52964958,  0.04043339,  0.80103637,  0.74022282, -0.98425149,\n",
       "         -0.6605091 ,  0.04830868,  0.7690872 , -0.75587578,  0.88837904,\n",
       "         -0.33747441, -0.55189014,  0.09569041,  0.08895507,  0.24132528,\n",
       "         -0.85645749,  0.76750504, -0.50865807, -0.90011175, -0.34594847,\n",
       "         -0.70452078,  0.4408133 , -0.65487773,  0.50296223,  0.03829418,\n",
       "         -0.90261008, -0.60787466,  0.19882644,  0.03026838, -0.65460648,\n",
       "         -0.04853353],\n",
       "        [-0.13718902, -0.01649579, -0.34565279,  0.41978556,  0.37195731,\n",
       "         -0.34633987, -0.93852407,  0.43889575, -0.24690701, -0.88061253,\n",
       "         -0.60071153, -0.42096889,  0.60117428, -0.36855531,  0.40060756,\n",
       "         -0.06071586, -0.35168615, -0.75463986,  0.11616948,  0.53290092,\n",
       "         -0.09530015, -0.8284182 ,  0.38221839,  0.04899106, -0.82200656,\n",
       "          0.56504493, -0.44338782,  0.8176615 ,  0.73976696,  0.10242409,\n",
       "         -0.90123294,  0.60611844,  0.97451643,  0.05767983, -0.57713443,\n",
       "         -0.01128984,  0.7208084 , -0.032418  , -0.09895241, -0.04784499,\n",
       "          0.79745648, -0.47774195,  0.03625456, -0.49583587, -0.6171969 ,\n",
       "         -0.10109328, -0.72572112,  0.52823512, -0.91686924, -0.61261423,\n",
       "          0.76749034],\n",
       "        [ 0.48817249,  0.00473165, -0.49418632,  0.29667386,  0.35611602,\n",
       "          0.16655875,  0.94269184,  0.68130873, -0.52596785,  0.85322291,\n",
       "          0.84992622,  0.4533169 ,  0.18122877, -0.95412597,  0.98486926,\n",
       "         -0.61541907, -0.11070858,  0.59549218,  0.66934047, -0.08602079,\n",
       "         -0.35443365, -0.37210951,  0.86729392,  0.43243334, -0.45121512,\n",
       "         -0.13442103, -0.90649813,  0.32295991,  0.67305193, -0.50945406,\n",
       "          0.86704113,  0.14984126,  0.56752686, -0.77082737, -0.73171371,\n",
       "         -0.56026039, -0.70554839, -0.36497114, -0.70932332,  0.66525584,\n",
       "         -0.39100497,  0.87354511,  0.35630283,  0.77077847,  0.92608071,\n",
       "          0.50659274, -0.31708633, -0.53288412,  0.62293388,  0.81875602,\n",
       "          0.71076345]])}"
      ]
     },
     "execution_count": 1616,
     "metadata": {},
     "output_type": "execute_result"
    }
   ],
   "source": [
    "nn_mini3._initialize_weights()"
   ]
  },
  {
   "cell_type": "code",
   "execution_count": 1617,
   "metadata": {},
   "outputs": [
    {
     "name": "stdout",
     "output_type": "stream",
     "text": [
      "=================\n",
      "CE sig 2 layers :\n",
      "Resubstitution acc: 0.9833333333333333\n",
      "Validation acc: 0.9333333333333333\n",
      "=================\n",
      "CE sig 3 layers :\n",
      "Resubstitution acc: 0.9833333333333333\n",
      "Validation acc: 0.9666666666666667\n"
     ]
    },
    {
     "data": {
      "image/png": "[encoded data removed]",
      "text/plain": [
       "<Figure size 432x288 with 1 Axes>"
      ]
     },
     "metadata": {},
     "output_type": "display_data"
    }
   ],
   "source": [
    "print_result(nn_mini2,X_train1,y_train1,X_test1,y_test1,title=\"CE sig 2 layers\",color=\"red\")\n",
    "print_result(nn_mini3,X_train1,y_train1,X_test1,y_test1,title=\"CE sig 3 layers\",color=\"blue\")\n",
    "plt.show()"
   ]
  },
  {
   "cell_type": "code",
   "execution_count": null,
   "metadata": {},
   "outputs": [],
   "source": []
  }
 ],
 "metadata": {
  "kernelspec": {
   "display_name": "Python 3",
   "language": "python",
   "name": "python3"
  },
  "language_info": {
   "codemirror_mode": {
    "name": "ipython",
    "version": 3
   },
   "file_extension": ".py",
   "mimetype": "text/x-python",
   "name": "python",
   "nbconvert_exporter": "python",
   "pygments_lexer": "ipython3",
   "version": "3.7.1"
  }
 },
 "nbformat": 4,
 "nbformat_minor": 2
}
