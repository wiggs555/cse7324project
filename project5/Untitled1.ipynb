{
 "cells": [
  {
   "cell_type": "code",
   "execution_count": 2,
   "metadata": {},
   "outputs": [],
   "source": [
    "# dependencies\n",
    "import pandas as pd\n",
    "import numpy as np\n",
    "import missingno as msno \n",
    "import matplotlib.pyplot as plt\n",
    "import re\n",
    "from sklearn.model_selection import train_test_split\n",
    "\n",
    "from textwrap import wrap\n",
    "from sklearn.preprocessing import StandardScaler\n",
    "import warnings\n",
    "warnings.filterwarnings(\"ignore\")\n",
    "import math\n",
    "%matplotlib inline"
   ]
  },
  {
   "cell_type": "code",
   "execution_count": 334,
   "metadata": {},
   "outputs": [
    {
     "data": {
      "text/html": [
       "<div>\n",
       "<style scoped>\n",
       "    .dataframe tbody tr th:only-of-type {\n",
       "        vertical-align: middle;\n",
       "    }\n",
       "\n",
       "    .dataframe tbody tr th {\n",
       "        vertical-align: top;\n",
       "    }\n",
       "\n",
       "    .dataframe thead th {\n",
       "        text-align: right;\n",
       "    }\n",
       "</style>\n",
       "<table border=\"1\" class=\"dataframe\">\n",
       "  <thead>\n",
       "    <tr style=\"text-align: right;\">\n",
       "      <th></th>\n",
       "      <th>animal_type</th>\n",
       "      <th>breed</th>\n",
       "      <th>color</th>\n",
       "      <th>age</th>\n",
       "      <th>dob_month</th>\n",
       "      <th>dob_day</th>\n",
       "      <th>dob_dayofweek</th>\n",
       "      <th>month</th>\n",
       "      <th>day</th>\n",
       "      <th>dayofweek</th>\n",
       "      <th>hour</th>\n",
       "      <th>quarter</th>\n",
       "      <th>breed1</th>\n",
       "      <th>color1</th>\n",
       "      <th>spayed_neutered</th>\n",
       "      <th>sex</th>\n",
       "      <th>domestic</th>\n",
       "      <th>outcome</th>\n",
       "    </tr>\n",
       "  </thead>\n",
       "  <tbody>\n",
       "    <tr>\n",
       "      <th>0</th>\n",
       "      <td>Cat</td>\n",
       "      <td>domestic shorthair</td>\n",
       "      <td>orange tabby</td>\n",
       "      <td>15</td>\n",
       "      <td>7</td>\n",
       "      <td>7</td>\n",
       "      <td>0</td>\n",
       "      <td>7</td>\n",
       "      <td>22</td>\n",
       "      <td>1</td>\n",
       "      <td>16</td>\n",
       "      <td>3</td>\n",
       "      <td>None</td>\n",
       "      <td>None</td>\n",
       "      <td>False</td>\n",
       "      <td>male</td>\n",
       "      <td>1</td>\n",
       "      <td>transfer_partner</td>\n",
       "    </tr>\n",
       "    <tr>\n",
       "      <th>1</th>\n",
       "      <td>Dog</td>\n",
       "      <td>beagle</td>\n",
       "      <td>white</td>\n",
       "      <td>366</td>\n",
       "      <td>11</td>\n",
       "      <td>6</td>\n",
       "      <td>1</td>\n",
       "      <td>11</td>\n",
       "      <td>7</td>\n",
       "      <td>3</td>\n",
       "      <td>11</td>\n",
       "      <td>4</td>\n",
       "      <td>None</td>\n",
       "      <td>brown</td>\n",
       "      <td>True</td>\n",
       "      <td>female</td>\n",
       "      <td>0</td>\n",
       "      <td>transfer_partner</td>\n",
       "    </tr>\n",
       "    <tr>\n",
       "      <th>2</th>\n",
       "      <td>Dog</td>\n",
       "      <td>pit bull</td>\n",
       "      <td>blue</td>\n",
       "      <td>429</td>\n",
       "      <td>3</td>\n",
       "      <td>31</td>\n",
       "      <td>6</td>\n",
       "      <td>6</td>\n",
       "      <td>3</td>\n",
       "      <td>1</td>\n",
       "      <td>14</td>\n",
       "      <td>2</td>\n",
       "      <td>None</td>\n",
       "      <td>white</td>\n",
       "      <td>True</td>\n",
       "      <td>male</td>\n",
       "      <td>0</td>\n",
       "      <td>adoption_unknown</td>\n",
       "    </tr>\n",
       "    <tr>\n",
       "      <th>3</th>\n",
       "      <td>Dog</td>\n",
       "      <td>miniature schnauzer</td>\n",
       "      <td>white</td>\n",
       "      <td>3300</td>\n",
       "      <td>6</td>\n",
       "      <td>2</td>\n",
       "      <td>3</td>\n",
       "      <td>6</td>\n",
       "      <td>15</td>\n",
       "      <td>6</td>\n",
       "      <td>15</td>\n",
       "      <td>2</td>\n",
       "      <td>None</td>\n",
       "      <td>None</td>\n",
       "      <td>True</td>\n",
       "      <td>male</td>\n",
       "      <td>0</td>\n",
       "      <td>transfer_partner</td>\n",
       "    </tr>\n",
       "    <tr>\n",
       "      <th>4</th>\n",
       "      <td>Other</td>\n",
       "      <td>bat</td>\n",
       "      <td>brown</td>\n",
       "      <td>181</td>\n",
       "      <td>1</td>\n",
       "      <td>7</td>\n",
       "      <td>1</td>\n",
       "      <td>7</td>\n",
       "      <td>7</td>\n",
       "      <td>0</td>\n",
       "      <td>14</td>\n",
       "      <td>3</td>\n",
       "      <td>None</td>\n",
       "      <td>None</td>\n",
       "      <td>unknown</td>\n",
       "      <td>unknown</td>\n",
       "      <td>0</td>\n",
       "      <td>euthanasia_rabies-risk</td>\n",
       "    </tr>\n",
       "  </tbody>\n",
       "</table>\n",
       "</div>"
      ],
      "text/plain": [
       "  animal_type                breed         color   age  dob_month  dob_day  \\\n",
       "0         Cat   domestic shorthair  orange tabby    15          7        7   \n",
       "1         Dog               beagle         white   366         11        6   \n",
       "2         Dog             pit bull          blue   429          3       31   \n",
       "3         Dog  miniature schnauzer         white  3300          6        2   \n",
       "4       Other                  bat         brown   181          1        7   \n",
       "\n",
       "   dob_dayofweek  month  day  dayofweek  hour  quarter breed1 color1  \\\n",
       "0              0      7   22          1    16        3   None   None   \n",
       "1              1     11    7          3    11        4   None  brown   \n",
       "2              6      6    3          1    14        2   None  white   \n",
       "3              3      6   15          6    15        2   None   None   \n",
       "4              1      7    7          0    14        3   None   None   \n",
       "\n",
       "  spayed_neutered      sex  domestic                 outcome  \n",
       "0           False     male         1        transfer_partner  \n",
       "1            True   female         0        transfer_partner  \n",
       "2            True     male         0        adoption_unknown  \n",
       "3            True     male         0        transfer_partner  \n",
       "4         unknown  unknown         0  euthanasia_rabies-risk  "
      ]
     },
     "execution_count": 334,
     "metadata": {},
     "output_type": "execute_result"
    }
   ],
   "source": [
    "# import data\n",
    "shelter_outcomes =  pd.read_csv(\"C:/Users/sulem/OneDrive/Desktop/machin learnign/Project3/aac_shelter_outcomes.csv\")\n",
    "# filter animal type for just cats\n",
    "#cats = shelter_outcomes[shelter_outcomes['animal_type'] == 'Cat']\n",
    "cats = shelter_outcomes\n",
    "#print(cats.head())\n",
    "\n",
    "# remove age_upon_outcome and recalculate to standard units (days)\n",
    "age = cats.loc[:,['datetime', 'date_of_birth']]\n",
    "# convert to datetime\n",
    "age.loc[:,'datetime'] = pd.to_datetime(age['datetime'])\n",
    "age.loc[:,'date_of_birth'] = pd.to_datetime(age['date_of_birth'])\n",
    "# calculate cat age in days\n",
    "cats.loc[:,'age'] = (age.loc[:,'datetime'] - age.loc[:,'date_of_birth']).dt.days\n",
    "# get dob info\n",
    "cats['dob_month'] = age.loc[:, 'date_of_birth'].dt.month\n",
    "cats['dob_day'] = age.loc[:, 'date_of_birth'].dt.day\n",
    "cats['dob_dayofweek'] = age.loc[:, 'date_of_birth'].dt.dayofweek\n",
    "# get month from datetime\n",
    "cats['month'] = age.loc[:,'datetime'].dt.month\n",
    "# get day of month\n",
    "cats['day'] = age.loc[:,'datetime'].dt.day\n",
    "# get day of week\n",
    "cats['dayofweek'] = age.loc[:, 'datetime'].dt.dayofweek\n",
    "# get hour of day\n",
    "cats['hour'] = age.loc[:, 'datetime'].dt.hour\n",
    "# get quarter\n",
    "cats['quarter'] = age.loc[:, 'datetime'].dt.quarter\n",
    "\n",
    "# clean up breed attribute\n",
    "# get breed attribute for processing\n",
    "# convert to lowercase, remove mix and strip whitespace\n",
    "# remove space in 'medium hair' to match 'longhair' and 'shorthair'\n",
    "# split on either space or '/'\n",
    "breed = cats.loc[:, 'breed'].str.lower().str.replace('mix', '').str.replace('medium hair', 'mediumhair').str.strip().str.split('/', expand=True)\n",
    "cats['breed'] = breed[0]\n",
    "cats['breed1'] = breed[1]\n",
    "\n",
    "# clean up color attribute\n",
    "# convert to lowercase\n",
    "# strip spaces\n",
    "# split on '/'\n",
    "color = cats.loc[:, 'color'].str.lower().str.strip().str.split('/', expand=True)\n",
    "cats['color'] = color[0]\n",
    "cats['color1'] = color[1]\n",
    "\n",
    "# clean up sex_upon_outcome\n",
    "sex = cats['sex_upon_outcome'].str.lower().str.strip().str.split(' ', expand=True)\n",
    "sex[0].replace('spayed', True, inplace=True)\n",
    "sex[0].replace('neutered', True, inplace=True)\n",
    "sex[0].replace('intact', False, inplace=True)\n",
    "sex[1].replace(np.nan, 'unknown', inplace=True)\n",
    "cats['spayed_neutered'] = sex[0]\n",
    "cats['sex'] = sex[1]\n",
    "\n",
    "# add in domesticated attribute\n",
    "cats['domestic'] = np.where(cats['breed'].str.contains('domestic'), 1, 0)\n",
    "\n",
    "# combine outcome and outcome subtype into a single attribute\n",
    "cats['outcome_subtype'] = cats['outcome_subtype'].str.lower().str.replace(' ', '-').fillna('unknown')\n",
    "cats['outcome_type'] = cats['outcome_type'].str.lower().str.replace(' ', '-').fillna('unknown')\n",
    "cats['outcome'] = cats['outcome_type'] + '_' + cats['outcome_subtype']\n",
    "\n",
    "# drop unnecessary columns\n",
    "cats.drop(columns=['animal_id', 'name', 'age_upon_outcome', 'date_of_birth', 'datetime', 'monthyear', 'sex_upon_outcome', 'outcome_subtype', 'outcome_type'], inplace=True)\n",
    "#print(cats['outcome'].value_counts())\n",
    "\n",
    "cats.head()\n"
   ]
  },
  {
   "cell_type": "code",
   "execution_count": 335,
   "metadata": {},
   "outputs": [
    {
     "name": "stdout",
     "output_type": "stream",
     "text": [
      "Default datatypes of shelter cat outcomes:\n",
      "\n",
      "animal_type        object\n",
      "breed              object\n",
      "color              object\n",
      "age                 int64\n",
      "dob_month           int64\n",
      "dob_day             int64\n",
      "dob_dayofweek       int64\n",
      "month               int64\n",
      "day                 int64\n",
      "dayofweek           int64\n",
      "hour                int64\n",
      "quarter             int64\n",
      "breed1             object\n",
      "color1             object\n",
      "spayed_neutered    object\n",
      "sex                object\n",
      "domestic            int32\n",
      "outcome            object\n",
      "dtype: object\n",
      "\n",
      "Below is a description of the attributes in the cats dataframe:\n",
      "\n"
     ]
    }
   ],
   "source": [
    "print(\"Default datatypes of shelter cat outcomes:\\n\")\n",
    "print(cats.dtypes)\n",
    "\n",
    "print(\"\\nBelow is a description of the attributes in the cats dataframe:\\n\")"
   ]
  },
  {
   "cell_type": "code",
   "execution_count": 336,
   "metadata": {},
   "outputs": [
    {
     "name": "stdout",
     "output_type": "stream",
     "text": [
      "Below is a listing of the target classes and their distributions:\n"
     ]
    },
    {
     "data": {
      "text/plain": [
       "adoption_unknown                  27186\n",
       "transfer_partner                  19660\n",
       "return-to-owner_unknown           14354\n",
       "adoption_foster                    5558\n",
       "transfer_scrp                      3211\n",
       "euthanasia_suffering               2514\n",
       "euthanasia_rabies-risk             2417\n",
       "transfer_snr                        626\n",
       "euthanasia_aggressive               506\n",
       "adoption_offsite                    367\n",
       "died_in-kennel                      335\n",
       "disposal_unknown                    307\n",
       "euthanasia_medical                  259\n",
       "euthanasia_unknown                  170\n",
       "died_in-foster                      164\n",
       "rto-adopt_unknown                   150\n",
       "euthanasia_behavior                 142\n",
       "died_unknown                         87\n",
       "died_enroute                         45\n",
       "died_at-vet                          33\n",
       "euthanasia_underage                  28\n",
       "euthanasia_at-vet                    26\n",
       "euthanasia_court/investigation       18\n",
       "missing_in-foster                    18\n",
       "relocate_unknown                     16\n",
       "died_in-surgery                      16\n",
       "unknown_unknown                      12\n",
       "missing_unknown                      11\n",
       "missing_possible-theft                9\n",
       "missing_in-kennel                     8\n",
       "transfer_barn                         2\n",
       "adoption_barn                         1\n",
       "Name: outcome, dtype: int64"
      ]
     },
     "execution_count": 336,
     "metadata": {},
     "output_type": "execute_result"
    }
   ],
   "source": [
    "print('Below is a listing of the target classes and their distributions:')\n",
    "cats['outcome'].value_counts()"
   ]
  },
  {
   "cell_type": "code",
   "execution_count": 19,
   "metadata": {},
   "outputs": [
    {
     "data": {
      "text/plain": [
       "<matplotlib.axes._subplots.AxesSubplot at 0x20fe38d7b38>"
      ]
     },
     "execution_count": 19,
     "metadata": {},
     "output_type": "execute_result"
    },
    {
     "data": {
      "image/png": "[encoded data removed]",
      "text/plain": [
       "<Figure size 1800x720 with 2 Axes>"
      ]
     },
     "metadata": {
      "needs_background": "light"
     },
     "output_type": "display_data"
    }
   ],
   "source": [
    "msno.matrix(cats )"
   ]
  },
  {
   "cell_type": "code",
   "execution_count": 337,
   "metadata": {},
   "outputs": [
    {
     "name": "stdout",
     "output_type": "stream",
     "text": [
      "    age  dob_month  dob_day  dob_dayofweek  month  day  dayofweek  hour  \\\n",
      "0    15          7        7              0      7   22          1    16   \n",
      "1   366         11        6              1     11    7          3    11   \n",
      "2   429          3       31              6      6    3          1    14   \n",
      "3  3300          6        2              3      6   15          6    15   \n",
      "4   181          1        7              1      7    7          0    14   \n",
      "\n",
      "   quarter  domestic        ...         spayed_neutered_True  \\\n",
      "0        3         1        ...                            0   \n",
      "1        4         0        ...                            1   \n",
      "2        2         0        ...                            1   \n",
      "3        2         0        ...                            1   \n",
      "4        3         0        ...                            0   \n",
      "\n",
      "   spayed_neutered_unknown  sex_female  sex_male  sex_unknown  \\\n",
      "0                        0           0         1            0   \n",
      "1                        0           1         0            0   \n",
      "2                        0           0         1            0   \n",
      "3                        0           0         1            0   \n",
      "4                        1           0         0            1   \n",
      "\n",
      "   animal_type_Bird  animal_type_Cat  animal_type_Dog  animal_type_Livestock  \\\n",
      "0                 0                1                0                      0   \n",
      "1                 0                0                1                      0   \n",
      "2                 0                0                1                      0   \n",
      "3                 0                0                1                      0   \n",
      "4                 0                0                0                      0   \n",
      "\n",
      "   animal_type_Other  \n",
      "0                  0  \n",
      "1                  0  \n",
      "2                  0  \n",
      "3                  0  \n",
      "4                  1  \n",
      "\n",
      "[5 rows x 474 columns]\n"
     ]
    }
   ],
   "source": [
    "cats.drop(columns=['breed1'], inplace=True)\n",
    "# Breed, Color, Color1, Spayed_Netured and Sex attributes need to be one hot encoded\n",
    "cats_ohe = pd.get_dummies(cats, columns=['breed', 'color', 'color1', 'spayed_neutered', 'sex','animal_type'])\n",
    "cats_ohe.head()\n",
    "out_t={'relocate_unknown':0,'euthanasia_court/investigation':0,'euthanasia_behavior':0,'euthanasia_suffering' : 0, 'died_in-kennel' : 0, 'return-to-owner_unknown' : 0, 'transfer_partner' : 0, 'euthanasia_at-vet' : 0, 'adoption_foster' : 1, 'died_in-foster' : 0, 'transfer_scrp' : 0, 'euthanasia_medical' : 0, 'transfer_snr' : 0, 'died_enroute' : 0, 'rto-adopt_unknown' : 1, 'missing_in-foster' : 0, 'adoption_offsite' : 1, 'adoption_unknown' :1,'euthanasia_rabies-risk' : 0, 'unknown_unknown' : 0, 'adoption_barn' : 0, 'died_unknown' : 0, 'died_in-surgery' : 0, 'euthanasia_aggressive' : 0, 'euthanasia_unknown' : 0, 'missing_unknown' : 0, 'missing_in-kennel' : 0, 'missing_possible-theft' : 0, 'died_at-vet' : 0, 'disposal_unknown' : 0, 'euthanasia_underage' : 0, 'transfer_barn' : 0}\n",
    "#output is converted from string to catogries 0 to 5 represent each output\n",
    "# separate outcome from data\n",
    "outcome = cats_ohe['outcome']\n",
    "cats_ohe.drop(columns=['outcome'])\n",
    "\n",
    "print(cats_ohe.head())\n",
    "\n",
    "# split the data\n",
    "X_train, X_test, y_train, y_test = train_test_split(cats_ohe, outcome, test_size=0.2, random_state=0)\n",
    "X_train.drop(columns=['outcome'], inplace=True)\n",
    "X_test.drop(columns=['outcome'], inplace=True)\n",
    "y_train = np.asarray([out_t[item] for item in y_train])\n",
    "y_test = np.asarray([out_t[item] for item in y_test])\n",
    "#print(X_train.shape, X_test.shape, y_train.shape, y_test.shape)\n"
   ]
  },
  {
   "cell_type": "code",
   "execution_count": 111,
   "metadata": {},
   "outputs": [
    {
     "data": {
      "text/plain": [
       "array([0, 1, 5, ..., 3, 3, 0])"
      ]
     },
     "execution_count": 111,
     "metadata": {},
     "output_type": "execute_result"
    }
   ],
   "source": [
    "y_train"
   ]
  },
  {
   "cell_type": "code",
   "execution_count": 38,
   "metadata": {},
   "outputs": [
    {
     "data": {
      "text/plain": [
       "'2.2.4'"
      ]
     },
     "execution_count": 38,
     "metadata": {},
     "output_type": "execute_result"
    }
   ],
   "source": [
    "from sklearn import metrics as mt\n",
    "import keras\n",
    "# from keras.models import Sequential\n",
    "from keras.layers import Dense, Activation, Input\n",
    "from keras.layers import Embedding, Flatten, Concatenate\n",
    "from keras.models import Model\n",
    "keras.__version__"
   ]
  },
  {
   "cell_type": "code",
   "execution_count": 338,
   "metadata": {},
   "outputs": [
    {
     "name": "stdout",
     "output_type": "stream",
     "text": [
      "(62604, 473)\n",
      "(62604,)\n"
     ]
    },
    {
     "data": {
      "text/plain": [
       "array([[    0,     1],\n",
       "       [35934, 26670]], dtype=int64)"
      ]
     },
     "execution_count": 338,
     "metadata": {},
     "output_type": "execute_result"
    }
   ],
   "source": [
    "x_train_ar=X_train.values\n",
    "y_target_ar=np.asarray(y_train)\n",
    "x_test_ar=X_test.values\n",
    "y_test_ar=np.asarray(y_test)\n",
    "x_train_ar = StandardScaler().fit(x_train_ar).transform(x_train_ar)\n",
    "\n",
    "print(x_train_ar.shape)\n",
    "print(y_target_ar.shape)\n",
    "unique, counts = np.unique(y_target_ar, return_counts=True)\n",
    "np.asarray((unique, counts))"
   ]
  },
  {
   "cell_type": "code",
   "execution_count": 346,
   "metadata": {},
   "outputs": [],
   "source": [
    "from sklearn.preprocessing import OneHotEncoder\n"
   ]
  },
  {
   "cell_type": "code",
   "execution_count": 339,
   "metadata": {},
   "outputs": [],
   "source": [
    "inputs = Input(shape=(x_train_ar.shape[1],))\n",
    "x = Dense(units=100, activation='relu')(inputs)\n",
    "x = Dense(units=100, activation='relu')(x)\n",
    "predictions = Dense(1,activation='sigmoid')(x)\n",
    "model = Model(inputs=inputs, outputs=predictions)"
   ]
  },
  {
   "cell_type": "code",
   "execution_count": 342,
   "metadata": {},
   "outputs": [
    {
     "name": "stdout",
     "output_type": "stream",
     "text": [
      "_________________________________________________________________\n",
      "Layer (type)                 Output Shape              Param #   \n",
      "=================================================================\n",
      "input_30 (InputLayer)        (None, 473)               0         \n",
      "_________________________________________________________________\n",
      "dense_99 (Dense)             (None, 100)               47400     \n",
      "_________________________________________________________________\n",
      "dense_100 (Dense)            (None, 100)               10100     \n",
      "_________________________________________________________________\n",
      "dense_101 (Dense)            (None, 1)                 101       \n",
      "=================================================================\n",
      "Total params: 57,601\n",
      "Trainable params: 57,601\n",
      "Non-trainable params: 0\n",
      "_________________________________________________________________\n"
     ]
    }
   ],
   "source": [
    "model.compile(optimizer='sgd',\n",
    "              loss='mean_squared_error',\n",
    "              metrics=['accuracy'])\n",
    "\n",
    "model.summary()"
   ]
  },
  {
   "cell_type": "code",
   "execution_count": 343,
   "metadata": {},
   "outputs": [],
   "source": [
    "#%%time\n",
    "\n",
    "model.fit(x_train_ar, y_target_ar, epochs=10, batch_size=50, verbose=0)\n",
    "\n",
    "from sklearn import metrics as mt\n",
    "yhat_proba = model.predict(x_test_ar)\n",
    "yhat = np.round(yhat_proba)\n",
    "#print(mt.confusion_matrix(y_test_ar,yhat),mt.accuracy_score(y_test_ar,yhat))"
   ]
  },
  {
   "cell_type": "code",
   "execution_count": 344,
   "metadata": {},
   "outputs": [
    {
     "data": {
      "text/plain": [
       "[0.441857847630018, 0.5550728341426016]"
      ]
     },
     "execution_count": 344,
     "metadata": {},
     "output_type": "execute_result"
    }
   ],
   "source": [
    "test_scores = model.evaluate(x_test_ar, y_test_ar, verbose=0)\n",
    "test_scores"
   ]
  },
  {
   "cell_type": "code",
   "execution_count": 345,
   "metadata": {},
   "outputs": [
    {
     "name": "stdout",
     "output_type": "stream",
     "text": [
      "[[8685  376]\n",
      " [6588    3]] 0.5550728341426016\n"
     ]
    }
   ],
   "source": [
    "print(mt.confusion_matrix(y_test_ar,yhat),mt.accuracy_score(y_test_ar,yhat))"
   ]
  },
  {
   "cell_type": "code",
   "execution_count": 332,
   "metadata": {
    "scrolled": false
   },
   "outputs": [
    {
     "data": {
      "text/plain": [
       "(15652, 7)"
      ]
     },
     "execution_count": 332,
     "metadata": {},
     "output_type": "execute_result"
    },
    {
     "data": {
      "image/png": "[encoded data removed]",
      "text/plain": [
       "<Figure size 432x288 with 1 Axes>"
      ]
     },
     "metadata": {
      "needs_background": "light"
     },
     "output_type": "display_data"
    }
   ],
   "source": [
    "from matplotlib import pyplot as plt\n",
    "plt.plot(yhat_proba[:100]*6)\n",
    "\n",
    "np.where(yhat_proba[10] == yhat_proba[10].max())\n",
    "yhat_proba.shape"
   ]
  }
 ],
 "metadata": {
  "kernelspec": {
   "display_name": "Python 3",
   "language": "python",
   "name": "python3"
  },
  "language_info": {
   "codemirror_mode": {
    "name": "ipython",
    "version": 3
   },
   "file_extension": ".py",
   "mimetype": "text/x-python",
   "name": "python",
   "nbconvert_exporter": "python",
   "pygments_lexer": "ipython3",
   "version": "3.7.1"
  }
 },
 "nbformat": 4,
 "nbformat_minor": 2
}
